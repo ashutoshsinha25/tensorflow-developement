{
  "nbformat": 4,
  "nbformat_minor": 0,
  "metadata": {
    "colab": {
      "name": "00_tensorflow_fundamentals_video.ipynb",
      "provenance": [],
      "collapsed_sections": [],
      "authorship_tag": "ABX9TyNcUzVwF5b0BSceRPcouWTK",
      "include_colab_link": true
    },
    "kernelspec": {
      "name": "python3",
      "display_name": "Python 3"
    },
    "language_info": {
      "name": "python"
    }
  },
  "cells": [
    {
      "cell_type": "markdown",
      "metadata": {
        "id": "view-in-github",
        "colab_type": "text"
      },
      "source": [
        "<a href=\"https://colab.research.google.com/github/ashutoshsinha25/tensorflow-developement/blob/main/TensorFlow%20Fundamentals/00_tensorflow_fundamentals_video.ipynb\" target=\"_parent\"><img src=\"https://colab.research.google.com/assets/colab-badge.svg\" alt=\"Open In Colab\"/></a>"
      ]
    },
    {
      "cell_type": "markdown",
      "metadata": {
        "id": "Ue-RPfQwJRUX"
      },
      "source": [
        "#In this notebook, we are going to cover fundamental concepts of tensors usning Tensorflow\n",
        "\n",
        "More specifically, we're going to cover :\n",
        "* introductions to tensors\n",
        "* getting informations from tensors\n",
        "* manipulating tensors\n",
        "* tensors and numpy \n",
        "* using @tf.function(a way to speed up your regular python functions\n",
        "* using GPUs with Tensorflow(or TPU)\n",
        "* exercises to try for yourself"
      ]
    },
    {
      "cell_type": "markdown",
      "metadata": {
        "id": "dMwu8QFkKygz"
      },
      "source": [
        "# Intorduction to Tensors"
      ]
    },
    {
      "cell_type": "code",
      "metadata": {
        "colab": {
          "base_uri": "https://localhost:8080/"
        },
        "id": "gzWYYI6WKB3b",
        "outputId": "5f071e28-b12d-4818-83ac-504dbbe8b98f"
      },
      "source": [
        "#import tensorflow\n",
        "import tensorflow as tf\n",
        "\n",
        "print(tf.__version__)"
      ],
      "execution_count": null,
      "outputs": [
        {
          "output_type": "stream",
          "name": "stdout",
          "text": [
            "2.7.0\n"
          ]
        }
      ]
    },
    {
      "cell_type": "code",
      "metadata": {
        "colab": {
          "base_uri": "https://localhost:8080/"
        },
        "id": "vj2VpYj-LPq4",
        "outputId": "7fa53ab9-969e-470b-ad13-7d9a81eded89"
      },
      "source": [
        "# create tensors with tf.constant()\n",
        "scalar = tf.constant(7 )\n",
        "scalar"
      ],
      "execution_count": null,
      "outputs": [
        {
          "output_type": "execute_result",
          "data": {
            "text/plain": [
              "<tf.Tensor: shape=(), dtype=int32, numpy=7>"
            ]
          },
          "metadata": {},
          "execution_count": 2
        }
      ]
    },
    {
      "cell_type": "code",
      "metadata": {
        "colab": {
          "base_uri": "https://localhost:8080/"
        },
        "id": "GzpJ5jywLn-9",
        "outputId": "b84b0618-399a-472f-a149-d622448cc317"
      },
      "source": [
        "# check the number of dimensions of a tensor(ndim stands for nuber of dimensions)\n",
        "scalar.ndim"
      ],
      "execution_count": null,
      "outputs": [
        {
          "output_type": "execute_result",
          "data": {
            "text/plain": [
              "0"
            ]
          },
          "metadata": {},
          "execution_count": 3
        }
      ]
    },
    {
      "cell_type": "code",
      "metadata": {
        "colab": {
          "base_uri": "https://localhost:8080/"
        },
        "id": "Rbf-w9MSMCMF",
        "outputId": "fb806f54-ebb4-4981-ea49-e80c951bac59"
      },
      "source": [
        "#create a vector \n",
        "vector = tf.constant([10,10])\n",
        "vector"
      ],
      "execution_count": null,
      "outputs": [
        {
          "output_type": "execute_result",
          "data": {
            "text/plain": [
              "<tf.Tensor: shape=(2,), dtype=int32, numpy=array([10, 10], dtype=int32)>"
            ]
          },
          "metadata": {},
          "execution_count": 4
        }
      ]
    },
    {
      "cell_type": "code",
      "metadata": {
        "colab": {
          "base_uri": "https://localhost:8080/"
        },
        "id": "0_B3HduNML2c",
        "outputId": "07a59bc5-2971-4d69-f579-00e161b14602"
      },
      "source": [
        "# check the dimension of vector\n",
        "vector.ndim"
      ],
      "execution_count": null,
      "outputs": [
        {
          "output_type": "execute_result",
          "data": {
            "text/plain": [
              "1"
            ]
          },
          "metadata": {},
          "execution_count": 5
        }
      ]
    },
    {
      "cell_type": "code",
      "metadata": {
        "colab": {
          "base_uri": "https://localhost:8080/"
        },
        "id": "emNxoF6VMWi1",
        "outputId": "62ea37fa-def8-420f-b874-b968f5cb3475"
      },
      "source": [
        "# create a matrix( has more than 1 dimensions)\n",
        "matrix = tf.constant([[10,7],\n",
        "                     [7,10]])\n",
        "matrix"
      ],
      "execution_count": null,
      "outputs": [
        {
          "output_type": "execute_result",
          "data": {
            "text/plain": [
              "<tf.Tensor: shape=(2, 2), dtype=int32, numpy=\n",
              "array([[10,  7],\n",
              "       [ 7, 10]], dtype=int32)>"
            ]
          },
          "metadata": {},
          "execution_count": 6
        }
      ]
    },
    {
      "cell_type": "code",
      "metadata": {
        "colab": {
          "base_uri": "https://localhost:8080/"
        },
        "id": "eNprD9MkMh9g",
        "outputId": "9ef30d3f-02e6-4b6f-ea18-6a7d4add4c56"
      },
      "source": [
        "#check the dimensions\n",
        "matrix.ndim"
      ],
      "execution_count": null,
      "outputs": [
        {
          "output_type": "execute_result",
          "data": {
            "text/plain": [
              "2"
            ]
          },
          "metadata": {},
          "execution_count": 7
        }
      ]
    },
    {
      "cell_type": "code",
      "metadata": {
        "colab": {
          "base_uri": "https://localhost:8080/"
        },
        "id": "CJtYN_h5MrZN",
        "outputId": "5cb63363-3a2a-4f32-9ea0-4b811fabdde1"
      },
      "source": [
        "#create another matrix \n",
        "another_matrix = tf.constant([[10.,7.],\n",
        "                              [3.,2.],\n",
        "                              [8.,9.]], dtype = tf.float16)#specify the data type with dtype paramet\n",
        "\n",
        "another_matrix "
      ],
      "execution_count": null,
      "outputs": [
        {
          "output_type": "execute_result",
          "data": {
            "text/plain": [
              "<tf.Tensor: shape=(3, 2), dtype=float16, numpy=\n",
              "array([[10.,  7.],\n",
              "       [ 3.,  2.],\n",
              "       [ 8.,  9.]], dtype=float16)>"
            ]
          },
          "metadata": {},
          "execution_count": 8
        }
      ]
    },
    {
      "cell_type": "code",
      "metadata": {
        "colab": {
          "base_uri": "https://localhost:8080/"
        },
        "id": "leVLwusYNgdv",
        "outputId": "b40237c5-c02d-4ce4-cea7-c77b4ff64c94"
      },
      "source": [
        "# whats the number of dimension of another_matrix\n",
        "another_matrix.ndim\n",
        "# we can see the pattern that number of dimensions is same as total number in shape"
      ],
      "execution_count": null,
      "outputs": [
        {
          "output_type": "execute_result",
          "data": {
            "text/plain": [
              "2"
            ]
          },
          "metadata": {},
          "execution_count": 9
        }
      ]
    },
    {
      "cell_type": "code",
      "metadata": {
        "colab": {
          "base_uri": "https://localhost:8080/"
        },
        "id": "6nJ4UANbNxKF",
        "outputId": "2ce5fad2-809c-47f3-94b2-06eec4a731cf"
      },
      "source": [
        "# lets create a tensor\n",
        "tensor = tf.constant([[[1,2,3],\n",
        "                       [4,5,6]],\n",
        "                       [[7,8,9],\n",
        "                        [10,11,12]],\n",
        "                       [[13,14,15],\n",
        "                        [16,17,18]]])\n",
        "\n",
        "tensor"
      ],
      "execution_count": null,
      "outputs": [
        {
          "output_type": "execute_result",
          "data": {
            "text/plain": [
              "<tf.Tensor: shape=(3, 2, 3), dtype=int32, numpy=\n",
              "array([[[ 1,  2,  3],\n",
              "        [ 4,  5,  6]],\n",
              "\n",
              "       [[ 7,  8,  9],\n",
              "        [10, 11, 12]],\n",
              "\n",
              "       [[13, 14, 15],\n",
              "        [16, 17, 18]]], dtype=int32)>"
            ]
          },
          "metadata": {},
          "execution_count": 10
        }
      ]
    },
    {
      "cell_type": "code",
      "metadata": {
        "colab": {
          "base_uri": "https://localhost:8080/"
        },
        "id": "NWRhB4G7Oqu5",
        "outputId": "dd49aeb8-3e69-45bc-ffb3-07b7da10c7b9"
      },
      "source": [
        "#check number of dimensions of tensor\n",
        "tensor.ndim"
      ],
      "execution_count": null,
      "outputs": [
        {
          "output_type": "execute_result",
          "data": {
            "text/plain": [
              "3"
            ]
          },
          "metadata": {},
          "execution_count": 11
        }
      ]
    },
    {
      "cell_type": "markdown",
      "metadata": {
        "id": "tQFX7YwUO_a6"
      },
      "source": [
        "Whta we've created so far:\n",
        "* Scalar : a single number\n",
        "* Vector : a number with direction(e.g wind speed and direction)\n",
        "* Matrix : a 2-dimensional array of numbers\n",
        "* Tensor : an n-dimensional array of number(where n can be any number, a 0-dimensional tensor is a scalar,1-dimensional tensor is a vector)"
      ]
    },
    {
      "cell_type": "markdown",
      "metadata": {
        "id": "7sBlLH4uPr07"
      },
      "source": [
        "# creating tensors with tf.Variable"
      ]
    },
    {
      "cell_type": "code",
      "metadata": {
        "colab": {
          "base_uri": "https://localhost:8080/"
        },
        "id": "ecl2WSTJ9liM",
        "outputId": "b390cb23-a98e-487b-b646-fd08c8fba0f1"
      },
      "source": [
        "#craete the same tensor with tf.Variable() as above\n",
        "changeable_tensor = tf.Variable([10,7])\n",
        "unchangeable_tensor = tf.constant([10,7])\n",
        "\n",
        "changeable_tensor , unchangeable_tensor"
      ],
      "execution_count": null,
      "outputs": [
        {
          "output_type": "execute_result",
          "data": {
            "text/plain": [
              "(<tf.Variable 'Variable:0' shape=(2,) dtype=int32, numpy=array([10,  7], dtype=int32)>,\n",
              " <tf.Tensor: shape=(2,), dtype=int32, numpy=array([10,  7], dtype=int32)>)"
            ]
          },
          "metadata": {},
          "execution_count": 12
        }
      ]
    },
    {
      "cell_type": "code",
      "metadata": {
        "colab": {
          "base_uri": "https://localhost:8080/",
          "height": 201
        },
        "id": "rPFQ4u7S9qGR",
        "outputId": "c31f7b2d-6a47-404a-8cd9-d1c240d460c7"
      },
      "source": [
        "#lets try to change one of the elements in our changeable tensor\n",
        "changeable_tensor[0] = 7\n",
        "changeable_tensor"
      ],
      "execution_count": null,
      "outputs": [
        {
          "output_type": "error",
          "ename": "TypeError",
          "evalue": "ignored",
          "traceback": [
            "\u001b[0;31m---------------------------------------------------------------------------\u001b[0m",
            "\u001b[0;31mTypeError\u001b[0m                                 Traceback (most recent call last)",
            "\u001b[0;32m<ipython-input-14-2f3caab9cd80>\u001b[0m in \u001b[0;36m<module>\u001b[0;34m()\u001b[0m\n\u001b[1;32m      1\u001b[0m \u001b[0;31m#lets try to change one of the elements in our changeable tensor\u001b[0m\u001b[0;34m\u001b[0m\u001b[0;34m\u001b[0m\u001b[0;34m\u001b[0m\u001b[0m\n\u001b[0;32m----> 2\u001b[0;31m \u001b[0mchangeable_tensor\u001b[0m\u001b[0;34m[\u001b[0m\u001b[0;36m0\u001b[0m\u001b[0;34m]\u001b[0m \u001b[0;34m=\u001b[0m \u001b[0;36m7\u001b[0m\u001b[0;34m\u001b[0m\u001b[0;34m\u001b[0m\u001b[0m\n\u001b[0m\u001b[1;32m      3\u001b[0m \u001b[0mchangeable_tensor\u001b[0m\u001b[0;34m\u001b[0m\u001b[0;34m\u001b[0m\u001b[0m\n",
            "\u001b[0;31mTypeError\u001b[0m: 'ResourceVariable' object does not support item assignment"
          ]
        }
      ]
    },
    {
      "cell_type": "code",
      "metadata": {
        "colab": {
          "base_uri": "https://localhost:8080/"
        },
        "id": "THbwmtuD9o_q",
        "outputId": "01f9374b-be6e-4b61-dbcf-d4ffbcd1294b"
      },
      "source": [
        "# how about we try .assign\n",
        "changeable_tensor[0].assign(7)\n",
        "changeable_tensor"
      ],
      "execution_count": null,
      "outputs": [
        {
          "output_type": "execute_result",
          "data": {
            "text/plain": [
              "<tf.Variable 'Variable:0' shape=(2,) dtype=int32, numpy=array([7, 7], dtype=int32)>"
            ]
          },
          "metadata": {},
          "execution_count": 15
        }
      ]
    },
    {
      "cell_type": "code",
      "metadata": {
        "colab": {
          "base_uri": "https://localhost:8080/",
          "height": 201
        },
        "id": "bdy6M25M-9-e",
        "outputId": "e1e70f76-c643-4790-a58c-428c402bcd14"
      },
      "source": [
        "# lets try chage our unchangeable tensor\n",
        "unchangeable_tensor[0] = 7"
      ],
      "execution_count": null,
      "outputs": [
        {
          "output_type": "error",
          "ename": "TypeError",
          "evalue": "ignored",
          "traceback": [
            "\u001b[0;31m---------------------------------------------------------------------------\u001b[0m",
            "\u001b[0;31mTypeError\u001b[0m                                 Traceback (most recent call last)",
            "\u001b[0;32m<ipython-input-16-51c9abdb272a>\u001b[0m in \u001b[0;36m<module>\u001b[0;34m()\u001b[0m\n\u001b[1;32m      1\u001b[0m \u001b[0;31m# lets try chage our unchangeable tensor\u001b[0m\u001b[0;34m\u001b[0m\u001b[0;34m\u001b[0m\u001b[0;34m\u001b[0m\u001b[0m\n\u001b[0;32m----> 2\u001b[0;31m \u001b[0munchangeable_tensor\u001b[0m\u001b[0;34m[\u001b[0m\u001b[0;36m0\u001b[0m\u001b[0;34m]\u001b[0m \u001b[0;34m=\u001b[0m \u001b[0;36m7\u001b[0m\u001b[0;34m\u001b[0m\u001b[0;34m\u001b[0m\u001b[0m\n\u001b[0m",
            "\u001b[0;31mTypeError\u001b[0m: 'tensorflow.python.framework.ops.EagerTensor' object does not support item assignment"
          ]
        }
      ]
    },
    {
      "cell_type": "code",
      "metadata": {
        "id": "hFWpp4DP_FVL",
        "colab": {
          "base_uri": "https://localhost:8080/",
          "height": 339
        },
        "outputId": "ec06608a-49e2-4a91-cd4f-696ec1fd9e63"
      },
      "source": [
        " # lets try chage our unchangeable tensor with assign\n",
        "unchangeable_tensor[0].assign(7)\n",
        "unchangeable_tensor"
      ],
      "execution_count": null,
      "outputs": [
        {
          "output_type": "error",
          "ename": "AttributeError",
          "evalue": "ignored",
          "traceback": [
            "\u001b[0;31m---------------------------------------------------------------------------\u001b[0m",
            "\u001b[0;31mAttributeError\u001b[0m                            Traceback (most recent call last)",
            "\u001b[0;32m<ipython-input-17-40c847987838>\u001b[0m in \u001b[0;36m<module>\u001b[0;34m()\u001b[0m\n\u001b[1;32m      1\u001b[0m \u001b[0;31m# lets try chage our unchangeable tensor with assign\u001b[0m\u001b[0;34m\u001b[0m\u001b[0;34m\u001b[0m\u001b[0;34m\u001b[0m\u001b[0m\n\u001b[0;32m----> 2\u001b[0;31m \u001b[0munchangeable_tensor\u001b[0m\u001b[0;34m[\u001b[0m\u001b[0;36m0\u001b[0m\u001b[0;34m]\u001b[0m\u001b[0;34m.\u001b[0m\u001b[0massign\u001b[0m\u001b[0;34m(\u001b[0m\u001b[0;36m7\u001b[0m\u001b[0;34m)\u001b[0m\u001b[0;34m\u001b[0m\u001b[0;34m\u001b[0m\u001b[0m\n\u001b[0m\u001b[1;32m      3\u001b[0m \u001b[0munchangeable_tensor\u001b[0m\u001b[0;34m\u001b[0m\u001b[0;34m\u001b[0m\u001b[0m\n",
            "\u001b[0;32m/usr/local/lib/python3.7/dist-packages/tensorflow/python/framework/ops.py\u001b[0m in \u001b[0;36m__getattr__\u001b[0;34m(self, name)\u001b[0m\n\u001b[1;32m    440\u001b[0m         \u001b[0;32mfrom\u001b[0m \u001b[0mtensorflow\u001b[0m\u001b[0;34m.\u001b[0m\u001b[0mpython\u001b[0m\u001b[0;34m.\u001b[0m\u001b[0mops\u001b[0m\u001b[0;34m.\u001b[0m\u001b[0mnumpy_ops\u001b[0m \u001b[0;32mimport\u001b[0m \u001b[0mnp_config\u001b[0m\u001b[0;34m\u001b[0m\u001b[0;34m\u001b[0m\u001b[0m\n\u001b[1;32m    441\u001b[0m         np_config.enable_numpy_behavior()\"\"\".format(type(self).__name__, name))\n\u001b[0;32m--> 442\u001b[0;31m     \u001b[0mself\u001b[0m\u001b[0;34m.\u001b[0m\u001b[0m__getattribute__\u001b[0m\u001b[0;34m(\u001b[0m\u001b[0mname\u001b[0m\u001b[0;34m)\u001b[0m\u001b[0;34m\u001b[0m\u001b[0;34m\u001b[0m\u001b[0m\n\u001b[0m\u001b[1;32m    443\u001b[0m \u001b[0;34m\u001b[0m\u001b[0m\n\u001b[1;32m    444\u001b[0m   \u001b[0;34m@\u001b[0m\u001b[0mstaticmethod\u001b[0m\u001b[0;34m\u001b[0m\u001b[0;34m\u001b[0m\u001b[0m\n",
            "\u001b[0;31mAttributeError\u001b[0m: 'tensorflow.python.framework.ops.EagerTensor' object has no attribute 'assign'"
          ]
        }
      ]
    },
    {
      "cell_type": "markdown",
      "metadata": {
        "id": "z9GZXTBt_N6m"
      },
      "source": [
        "### Creating random tensors\n",
        "\n",
        "Random tensors are tensors of some abitrary size which contains random numbers"
      ]
    },
    {
      "cell_type": "code",
      "metadata": {
        "colab": {
          "base_uri": "https://localhost:8080/"
        },
        "id": "G_zY1T85_kPk",
        "outputId": "3742165e-cba5-4d95-c9a1-f3d47a4b6c02"
      },
      "source": [
        "# create two random (but the same) tensors\n",
        "random_1 = tf.random.Generator.from_seed(42) # set seed for reproducibility\n",
        "random_1 = random_1.normal(shape=(3,2))\n",
        "random_1\n",
        "random_2 = tf.random.Generator.from_seed(42)\n",
        "random_2 = random_2.normal(shape=(3,2))\n",
        "\n",
        "# are they equal?\n",
        "random_1 , random_2 , random_1 == random_2"
      ],
      "execution_count": null,
      "outputs": [
        {
          "output_type": "execute_result",
          "data": {
            "text/plain": [
              "(<tf.Tensor: shape=(3, 2), dtype=float32, numpy=\n",
              " array([[-0.7565803 , -0.06854702],\n",
              "        [ 0.07595026, -1.2573844 ],\n",
              "        [-0.23193763, -1.8107855 ]], dtype=float32)>,\n",
              " <tf.Tensor: shape=(3, 2), dtype=float32, numpy=\n",
              " array([[-0.7565803 , -0.06854702],\n",
              "        [ 0.07595026, -1.2573844 ],\n",
              "        [-0.23193763, -1.8107855 ]], dtype=float32)>,\n",
              " <tf.Tensor: shape=(3, 2), dtype=bool, numpy=\n",
              " array([[ True,  True],\n",
              "        [ True,  True],\n",
              "        [ True,  True]])>)"
            ]
          },
          "metadata": {},
          "execution_count": 18
        }
      ]
    },
    {
      "cell_type": "markdown",
      "metadata": {
        "id": "rj0ZZaruC4fc"
      },
      "source": [
        "### Shuffle the order of elements in a tensor"
      ]
    },
    {
      "cell_type": "code",
      "metadata": {
        "colab": {
          "base_uri": "https://localhost:8080/"
        },
        "id": "vhKYyNocgD1z",
        "outputId": "5f89b739-1395-4ffa-cf80-e53cd0c3cba1"
      },
      "source": [
        "# shuffle a tensor (valuable for when you want to shuffle your data so the inherent order doesnt effect learning)\n",
        "\n",
        "not_shuffled = tf.constant([[10,7],\n",
        "                            [3,4],\n",
        "                            [2,5]])\n",
        "not_shuffled.ndim , not_shuffled"
      ],
      "execution_count": null,
      "outputs": [
        {
          "output_type": "execute_result",
          "data": {
            "text/plain": [
              "(2, <tf.Tensor: shape=(3, 2), dtype=int32, numpy=\n",
              " array([[10,  7],\n",
              "        [ 3,  4],\n",
              "        [ 2,  5]], dtype=int32)>)"
            ]
          },
          "metadata": {},
          "execution_count": 19
        }
      ]
    },
    {
      "cell_type": "code",
      "metadata": {
        "colab": {
          "base_uri": "https://localhost:8080/"
        },
        "id": "wkjDN8dNhAAS",
        "outputId": "c429cdd4-69e4-4af0-9146-65d6de5a039f"
      },
      "source": [
        "# shuffle our non-shuffled tensor\n",
        "tf.random.shuffle(not_shuffled)"
      ],
      "execution_count": null,
      "outputs": [
        {
          "output_type": "execute_result",
          "data": {
            "text/plain": [
              "<tf.Tensor: shape=(3, 2), dtype=int32, numpy=\n",
              "array([[ 3,  4],\n",
              "       [10,  7],\n",
              "       [ 2,  5]], dtype=int32)>"
            ]
          },
          "metadata": {},
          "execution_count": 20
        }
      ]
    },
    {
      "cell_type": "code",
      "metadata": {
        "colab": {
          "base_uri": "https://localhost:8080/"
        },
        "id": "zK1lnrYrhhP_",
        "outputId": "e81bb8a4-7b35-4ab3-b3a6-4581ef0dd796"
      },
      "source": [
        "# shuffle our non-shuffled tensor running again\n",
        "tf.random.set_seed(42)\n",
        "tf.random.shuffle(not_shuffled,seed = 42)"
      ],
      "execution_count": null,
      "outputs": [
        {
          "output_type": "execute_result",
          "data": {
            "text/plain": [
              "<tf.Tensor: shape=(3, 2), dtype=int32, numpy=\n",
              "array([[10,  7],\n",
              "       [ 3,  4],\n",
              "       [ 2,  5]], dtype=int32)>"
            ]
          },
          "metadata": {},
          "execution_count": 21
        }
      ]
    },
    {
      "cell_type": "code",
      "metadata": {
        "id": "s-c9amN-jRpJ"
      },
      "source": [
        "# without setting goabl seed , we are not getting consistent random values"
      ],
      "execution_count": null,
      "outputs": []
    },
    {
      "cell_type": "markdown",
      "metadata": {
        "id": "u6UT-8Ech1-B"
      },
      "source": [
        "# difference between operational seed and global seed \n",
        "Operations that rely on a random seed actually derive it from two seeds: the global and operation-level seeds. This sets the global seed.\n",
        "\n",
        "Its interactions with operation-level seeds is as follows:\n",
        "\n",
        "* If neither the global seed nor the operation seed is set: A randomly picked seed is used for this op.\n",
        "* If the global seed is set, but the operation seed is not: The system deterministically picks an operation seed in conjunction with the global seed so that it gets a unique random sequence. Within the same version of tensorflow and user code, this sequence is deterministic. However across different versions, this sequence might change. If the code depends on particular seeds to work, specify both global and operation-level seeds explicitly.\n",
        "* If the operation seed is set, but the global seed is not set: A default global seed and the specified operation seed are used to determine the random sequence.\n",
        "* If both the global and the operation seed are set: Both seeds are used in conjunction to determine the random sequence."
      ]
    },
    {
      "cell_type": "code",
      "metadata": {
        "colab": {
          "base_uri": "https://localhost:8080/"
        },
        "id": "BFNW1xzSjESI",
        "outputId": "f19a586b-8e7d-4392-c8b0-b64837c3fda3"
      },
      "source": [
        "tf.random.shuffle(not_shuffled , seed=42) # we get different order each time wtih this"
      ],
      "execution_count": null,
      "outputs": [
        {
          "output_type": "execute_result",
          "data": {
            "text/plain": [
              "<tf.Tensor: shape=(3, 2), dtype=int32, numpy=\n",
              "array([[ 2,  5],\n",
              "       [10,  7],\n",
              "       [ 3,  4]], dtype=int32)>"
            ]
          },
          "metadata": {},
          "execution_count": 23
        }
      ]
    },
    {
      "cell_type": "code",
      "metadata": {
        "colab": {
          "base_uri": "https://localhost:8080/"
        },
        "id": "qgpIhsezj0Kd",
        "outputId": "398fa3f3-e605-4ff0-80bd-c78aa0c832c5"
      },
      "source": [
        "tf.random.set_seed(42)# global level random seed\n",
        "tf.random.shuffle(not_shuffled , seed=42)# operation level random seed\n",
        "# now we get consistent random sequence"
      ],
      "execution_count": null,
      "outputs": [
        {
          "output_type": "execute_result",
          "data": {
            "text/plain": [
              "<tf.Tensor: shape=(3, 2), dtype=int32, numpy=\n",
              "array([[10,  7],\n",
              "       [ 3,  4],\n",
              "       [ 2,  5]], dtype=int32)>"
            ]
          },
          "metadata": {},
          "execution_count": 24
        }
      ]
    },
    {
      "cell_type": "markdown",
      "metadata": {
        "id": "aTMlD4bOj8H1"
      },
      "source": [
        "> It looks like if we eant our shuffled tensors to be in the same order m we've got to use global level random seed as well as operational level random seed"
      ]
    },
    {
      "cell_type": "markdown",
      "metadata": {
        "id": "6Zcy_BxMkYu6"
      },
      "source": [
        "## other ways to make tensors"
      ]
    },
    {
      "cell_type": "code",
      "metadata": {
        "colab": {
          "base_uri": "https://localhost:8080/"
        },
        "id": "g2JOQpvjkjDf",
        "outputId": "cee8072e-173d-41cb-ba6c-e6b6d385b9b5"
      },
      "source": [
        "# create a tensor of all ones\n",
        "tf.ones([10,7])"
      ],
      "execution_count": null,
      "outputs": [
        {
          "output_type": "execute_result",
          "data": {
            "text/plain": [
              "<tf.Tensor: shape=(10, 7), dtype=float32, numpy=\n",
              "array([[1., 1., 1., 1., 1., 1., 1.],\n",
              "       [1., 1., 1., 1., 1., 1., 1.],\n",
              "       [1., 1., 1., 1., 1., 1., 1.],\n",
              "       [1., 1., 1., 1., 1., 1., 1.],\n",
              "       [1., 1., 1., 1., 1., 1., 1.],\n",
              "       [1., 1., 1., 1., 1., 1., 1.],\n",
              "       [1., 1., 1., 1., 1., 1., 1.],\n",
              "       [1., 1., 1., 1., 1., 1., 1.],\n",
              "       [1., 1., 1., 1., 1., 1., 1.],\n",
              "       [1., 1., 1., 1., 1., 1., 1.]], dtype=float32)>"
            ]
          },
          "metadata": {},
          "execution_count": 25
        }
      ]
    },
    {
      "cell_type": "code",
      "metadata": {
        "colab": {
          "base_uri": "https://localhost:8080/"
        },
        "id": "6dc09BUvks-o",
        "outputId": "b5dfb518-9e52-4848-d927-c9ec8d2864da"
      },
      "source": [
        "# create a tensors of all zeros\n",
        "tf.zeros(shape = (3,4))\n",
        "# shape could be passed with [] or () brackets"
      ],
      "execution_count": null,
      "outputs": [
        {
          "output_type": "execute_result",
          "data": {
            "text/plain": [
              "<tf.Tensor: shape=(3, 4), dtype=float32, numpy=\n",
              "array([[0., 0., 0., 0.],\n",
              "       [0., 0., 0., 0.],\n",
              "       [0., 0., 0., 0.]], dtype=float32)>"
            ]
          },
          "metadata": {},
          "execution_count": 26
        }
      ]
    },
    {
      "cell_type": "markdown",
      "metadata": {
        "id": "YtsU2fNNk3QP"
      },
      "source": [
        "### Turn numpy array into tensors\n",
        "\n",
        "The main difference between numoy as tensorflow is that tensors can be run on a GPU (much faster for numerical computing)"
      ]
    },
    {
      "cell_type": "code",
      "metadata": {
        "colab": {
          "base_uri": "https://localhost:8080/"
        },
        "id": "1-4Kx2DalHjo",
        "outputId": "1d81c0b6-de24-49be-d209-2b8cb5e99567"
      },
      "source": [
        "# you can turn numpy array into tensors\n",
        "\n",
        "import numpy as np\n",
        "numpy_A = np.arange(1,25,dtype=np.int32)\n",
        "numpy_A\n",
        "#X = tf.constant(some_matrix), capital for matrix or tensors\n",
        "#y = t.constant(vector), non-capital for vectors"
      ],
      "execution_count": null,
      "outputs": [
        {
          "output_type": "execute_result",
          "data": {
            "text/plain": [
              "array([ 1,  2,  3,  4,  5,  6,  7,  8,  9, 10, 11, 12, 13, 14, 15, 16, 17,\n",
              "       18, 19, 20, 21, 22, 23, 24], dtype=int32)"
            ]
          },
          "metadata": {},
          "execution_count": 27
        }
      ]
    },
    {
      "cell_type": "code",
      "metadata": {
        "colab": {
          "base_uri": "https://localhost:8080/"
        },
        "id": "KLGPTJGrlxnp",
        "outputId": "9941a4e9-582c-4945-b7c8-b21786f1eed5"
      },
      "source": [
        "A = tf.constant(numpy_A)\n",
        "A,A.ndim"
      ],
      "execution_count": null,
      "outputs": [
        {
          "output_type": "execute_result",
          "data": {
            "text/plain": [
              "(<tf.Tensor: shape=(24,), dtype=int32, numpy=\n",
              " array([ 1,  2,  3,  4,  5,  6,  7,  8,  9, 10, 11, 12, 13, 14, 15, 16, 17,\n",
              "        18, 19, 20, 21, 22, 23, 24], dtype=int32)>, 1)"
            ]
          },
          "metadata": {},
          "execution_count": 28
        }
      ]
    },
    {
      "cell_type": "code",
      "metadata": {
        "colab": {
          "base_uri": "https://localhost:8080/"
        },
        "id": "Iy7XgbiOl_uZ",
        "outputId": "bdb9fb3c-8825-4f84-b270-1e63940420e3"
      },
      "source": [
        "B = tf.constant(numpy_A , shape =(2,3,4)) # 2 - blocks , where each block has 3 rows of element which conatins \n",
        "#4 elements\n",
        "#shape = (a,b,c) - a-blocks , b-row , c-col\n",
        "B,B.ndim"
      ],
      "execution_count": null,
      "outputs": [
        {
          "output_type": "execute_result",
          "data": {
            "text/plain": [
              "(<tf.Tensor: shape=(2, 3, 4), dtype=int32, numpy=\n",
              " array([[[ 1,  2,  3,  4],\n",
              "         [ 5,  6,  7,  8],\n",
              "         [ 9, 10, 11, 12]],\n",
              " \n",
              "        [[13, 14, 15, 16],\n",
              "         [17, 18, 19, 20],\n",
              "         [21, 22, 23, 24]]], dtype=int32)>, 3)"
            ]
          },
          "metadata": {},
          "execution_count": 29
        }
      ]
    },
    {
      "cell_type": "code",
      "metadata": {
        "colab": {
          "base_uri": "https://localhost:8080/"
        },
        "id": "XEwq-rLfmF6e",
        "outputId": "78bc609c-a43f-4020-dbdc-49c8aea88062"
      },
      "source": [
        "C = tf.constant(numpy_A , shape=(12,1,2))\n",
        "C , C.ndim"
      ],
      "execution_count": null,
      "outputs": [
        {
          "output_type": "execute_result",
          "data": {
            "text/plain": [
              "(<tf.Tensor: shape=(12, 1, 2), dtype=int32, numpy=\n",
              " array([[[ 1,  2]],\n",
              " \n",
              "        [[ 3,  4]],\n",
              " \n",
              "        [[ 5,  6]],\n",
              " \n",
              "        [[ 7,  8]],\n",
              " \n",
              "        [[ 9, 10]],\n",
              " \n",
              "        [[11, 12]],\n",
              " \n",
              "        [[13, 14]],\n",
              " \n",
              "        [[15, 16]],\n",
              " \n",
              "        [[17, 18]],\n",
              " \n",
              "        [[19, 20]],\n",
              " \n",
              "        [[21, 22]],\n",
              " \n",
              "        [[23, 24]]], dtype=int32)>, 3)"
            ]
          },
          "metadata": {},
          "execution_count": 30
        }
      ]
    },
    {
      "cell_type": "code",
      "metadata": {
        "colab": {
          "base_uri": "https://localhost:8080/"
        },
        "id": "3SNOM2GPng5Y",
        "outputId": "c4ad9d7d-ca2e-4b46-dacf-3f82071e0e3f"
      },
      "source": [
        "D = tf.constant(numpy_A,shape=(12,2))\n",
        "D,D.ndim"
      ],
      "execution_count": null,
      "outputs": [
        {
          "output_type": "execute_result",
          "data": {
            "text/plain": [
              "(<tf.Tensor: shape=(12, 2), dtype=int32, numpy=\n",
              " array([[ 1,  2],\n",
              "        [ 3,  4],\n",
              "        [ 5,  6],\n",
              "        [ 7,  8],\n",
              "        [ 9, 10],\n",
              "        [11, 12],\n",
              "        [13, 14],\n",
              "        [15, 16],\n",
              "        [17, 18],\n",
              "        [19, 20],\n",
              "        [21, 22],\n",
              "        [23, 24]], dtype=int32)>, 2)"
            ]
          },
          "metadata": {},
          "execution_count": 31
        }
      ]
    },
    {
      "cell_type": "markdown",
      "metadata": {
        "id": "Ih8ZBZngoBaR"
      },
      "source": [
        "### Getting information from your tensors(tensor attribues)\n",
        "\n",
        "When dealing with tensors you probably want to be aware of the following attributes:\n",
        "* shape\n",
        "* rank\n",
        "* axis or dimension\n",
        "* size"
      ]
    },
    {
      "cell_type": "code",
      "metadata": {
        "colab": {
          "base_uri": "https://localhost:8080/"
        },
        "id": "xw5F3pECBOL4",
        "outputId": "2c072c44-39bd-4a5b-ecae-8e2d8c882154"
      },
      "source": [
        "D.shape"
      ],
      "execution_count": null,
      "outputs": [
        {
          "output_type": "execute_result",
          "data": {
            "text/plain": [
              "TensorShape([12, 2])"
            ]
          },
          "metadata": {},
          "execution_count": 32
        }
      ]
    },
    {
      "cell_type": "code",
      "metadata": {
        "colab": {
          "base_uri": "https://localhost:8080/"
        },
        "id": "VLIzQOOXDCY9",
        "outputId": "14e18871-f529-4fcf-9b98-c185db17cb87"
      },
      "source": [
        "tf.size(D)"
      ],
      "execution_count": null,
      "outputs": [
        {
          "output_type": "execute_result",
          "data": {
            "text/plain": [
              "<tf.Tensor: shape=(), dtype=int32, numpy=24>"
            ]
          },
          "metadata": {},
          "execution_count": 33
        }
      ]
    },
    {
      "cell_type": "code",
      "metadata": {
        "colab": {
          "base_uri": "https://localhost:8080/"
        },
        "id": "O2ikr2rmDDoD",
        "outputId": "ac6c5a93-3164-4c81-a0e6-d757c6e61db8"
      },
      "source": [
        "# create a rank 4 tensor( 4 dimensions)\n",
        "rank_4_tensor = tf.zeros(shape = [2,3,4,5])\n",
        "rank_4_tensor"
      ],
      "execution_count": null,
      "outputs": [
        {
          "output_type": "execute_result",
          "data": {
            "text/plain": [
              "<tf.Tensor: shape=(2, 3, 4, 5), dtype=float32, numpy=\n",
              "array([[[[0., 0., 0., 0., 0.],\n",
              "         [0., 0., 0., 0., 0.],\n",
              "         [0., 0., 0., 0., 0.],\n",
              "         [0., 0., 0., 0., 0.]],\n",
              "\n",
              "        [[0., 0., 0., 0., 0.],\n",
              "         [0., 0., 0., 0., 0.],\n",
              "         [0., 0., 0., 0., 0.],\n",
              "         [0., 0., 0., 0., 0.]],\n",
              "\n",
              "        [[0., 0., 0., 0., 0.],\n",
              "         [0., 0., 0., 0., 0.],\n",
              "         [0., 0., 0., 0., 0.],\n",
              "         [0., 0., 0., 0., 0.]]],\n",
              "\n",
              "\n",
              "       [[[0., 0., 0., 0., 0.],\n",
              "         [0., 0., 0., 0., 0.],\n",
              "         [0., 0., 0., 0., 0.],\n",
              "         [0., 0., 0., 0., 0.]],\n",
              "\n",
              "        [[0., 0., 0., 0., 0.],\n",
              "         [0., 0., 0., 0., 0.],\n",
              "         [0., 0., 0., 0., 0.],\n",
              "         [0., 0., 0., 0., 0.]],\n",
              "\n",
              "        [[0., 0., 0., 0., 0.],\n",
              "         [0., 0., 0., 0., 0.],\n",
              "         [0., 0., 0., 0., 0.],\n",
              "         [0., 0., 0., 0., 0.]]]], dtype=float32)>"
            ]
          },
          "metadata": {},
          "execution_count": 34
        }
      ]
    },
    {
      "cell_type": "code",
      "metadata": {
        "colab": {
          "base_uri": "https://localhost:8080/"
        },
        "id": "2A3dFwX6DeKt",
        "outputId": "b4fd22a6-830c-4491-b4b6-7a15544b7321"
      },
      "source": [
        "rank_4_tensor[0] # axis"
      ],
      "execution_count": null,
      "outputs": [
        {
          "output_type": "execute_result",
          "data": {
            "text/plain": [
              "<tf.Tensor: shape=(3, 4, 5), dtype=float32, numpy=\n",
              "array([[[0., 0., 0., 0., 0.],\n",
              "        [0., 0., 0., 0., 0.],\n",
              "        [0., 0., 0., 0., 0.],\n",
              "        [0., 0., 0., 0., 0.]],\n",
              "\n",
              "       [[0., 0., 0., 0., 0.],\n",
              "        [0., 0., 0., 0., 0.],\n",
              "        [0., 0., 0., 0., 0.],\n",
              "        [0., 0., 0., 0., 0.]],\n",
              "\n",
              "       [[0., 0., 0., 0., 0.],\n",
              "        [0., 0., 0., 0., 0.],\n",
              "        [0., 0., 0., 0., 0.],\n",
              "        [0., 0., 0., 0., 0.]]], dtype=float32)>"
            ]
          },
          "metadata": {},
          "execution_count": 35
        }
      ]
    },
    {
      "cell_type": "code",
      "metadata": {
        "colab": {
          "base_uri": "https://localhost:8080/"
        },
        "id": "M47D3M5y9Ypn",
        "outputId": "69bfa7e9-aaa1-4a8e-8ada-40de3d71a438"
      },
      "source": [
        "# rank of a tensor\n",
        "tf.rank(rank_4_tensor)"
      ],
      "execution_count": null,
      "outputs": [
        {
          "output_type": "execute_result",
          "data": {
            "text/plain": [
              "<tf.Tensor: shape=(), dtype=int32, numpy=4>"
            ]
          },
          "metadata": {},
          "execution_count": 110
        }
      ]
    },
    {
      "cell_type": "code",
      "metadata": {
        "colab": {
          "base_uri": "https://localhost:8080/"
        },
        "id": "LeNfjUKwFkay",
        "outputId": "7ac319fd-ec62-463e-94ac-56a0217001d9"
      },
      "source": [
        "rank_4_tensor.shape , rank_4_tensor.ndim , tf.size(rank_4_tensor)"
      ],
      "execution_count": null,
      "outputs": [
        {
          "output_type": "execute_result",
          "data": {
            "text/plain": [
              "(TensorShape([2, 3, 4, 5]), 4, <tf.Tensor: shape=(), dtype=int32, numpy=120>)"
            ]
          },
          "metadata": {},
          "execution_count": 36
        }
      ]
    },
    {
      "cell_type": "code",
      "metadata": {
        "colab": {
          "base_uri": "https://localhost:8080/"
        },
        "id": "ZOQcZcQpF4N_",
        "outputId": "03c976ed-d130-4c29-c0c5-50158d52bb54"
      },
      "source": [
        "2*3*4*5"
      ],
      "execution_count": null,
      "outputs": [
        {
          "output_type": "execute_result",
          "data": {
            "text/plain": [
              "120"
            ]
          },
          "metadata": {},
          "execution_count": 37
        }
      ]
    },
    {
      "cell_type": "code",
      "metadata": {
        "colab": {
          "base_uri": "https://localhost:8080/"
        },
        "id": "fYDekvspF_Oa",
        "outputId": "db4ee1b2-8f71-415f-f182-5c4cb490f2cd"
      },
      "source": [
        "#Get various attributes of our tensor\n",
        "print('Datatype of every elements:' , rank_4_tensor.dtype)\n",
        "print('Number if dimensions(rank):' , rank_4_tensor.ndim)\n",
        "print('Shaoe of tensors:' , rank_4_tensor.shape)\n",
        "print('Elements along the 0th axis:',rank_4_tensor.shape[0])\n",
        "print('Elements aling the last axis:' , rank_4_tensor.shape[-1])\n",
        "print('Total number of elements in our tensor:' , tf.size(rank_4_tensor))\n",
        "print('Total number of elements in our tensor as numpy:' , tf.size(rank_4_tensor).numpy())"
      ],
      "execution_count": null,
      "outputs": [
        {
          "output_type": "stream",
          "name": "stdout",
          "text": [
            "Datatype of every elements: <dtype: 'float32'>\n",
            "Number if dimensions(rank): 4\n",
            "Shaoe of tensors: (2, 3, 4, 5)\n",
            "Elements along the 0th axis: 2\n",
            "Elements aling the last axis: 5\n",
            "Total number of elements in our tensor: tf.Tensor(120, shape=(), dtype=int32)\n",
            "Total number of elements in our tensor as numpy: 120\n"
          ]
        }
      ]
    },
    {
      "cell_type": "markdown",
      "metadata": {
        "id": "mB-rKFh9Gk6K"
      },
      "source": [
        "### Indexing and Exapnding tensors\n",
        "\n",
        "* Tensors can be indexed just like python lists"
      ]
    },
    {
      "cell_type": "code",
      "metadata": {
        "colab": {
          "base_uri": "https://localhost:8080/"
        },
        "id": "7aDGcxy4Rkrb",
        "outputId": "adfebcf4-3851-4cad-a95e-349415628de1"
      },
      "source": [
        "# get the first 2 elements of each dimensions\n",
        "rank_4_tensor[:2,:2,:2,:2]"
      ],
      "execution_count": null,
      "outputs": [
        {
          "output_type": "execute_result",
          "data": {
            "text/plain": [
              "<tf.Tensor: shape=(2, 2, 2, 2), dtype=float32, numpy=\n",
              "array([[[[0., 0.],\n",
              "         [0., 0.]],\n",
              "\n",
              "        [[0., 0.],\n",
              "         [0., 0.]]],\n",
              "\n",
              "\n",
              "       [[[0., 0.],\n",
              "         [0., 0.]],\n",
              "\n",
              "        [[0., 0.],\n",
              "         [0., 0.]]]], dtype=float32)>"
            ]
          },
          "metadata": {},
          "execution_count": 39
        }
      ]
    },
    {
      "cell_type": "code",
      "metadata": {
        "colab": {
          "base_uri": "https://localhost:8080/"
        },
        "id": "IIWMde1yRvvC",
        "outputId": "a3436c89-e0c0-4497-9dc0-9e99dc9b1fb7"
      },
      "source": [
        "# get the first element from each dimensions from each index except from the final one\n",
        "rank_4_tensor[:1,:1,:1,:]"
      ],
      "execution_count": null,
      "outputs": [
        {
          "output_type": "execute_result",
          "data": {
            "text/plain": [
              "<tf.Tensor: shape=(1, 1, 1, 5), dtype=float32, numpy=array([[[[0., 0., 0., 0., 0.]]]], dtype=float32)>"
            ]
          },
          "metadata": {},
          "execution_count": 40
        }
      ]
    },
    {
      "cell_type": "code",
      "metadata": {
        "colab": {
          "base_uri": "https://localhost:8080/"
        },
        "id": "02stdp7JSTFQ",
        "outputId": "be93a6a7-648a-4dbe-ddb6-a710812c33e6"
      },
      "source": [
        "# get the firtst element from each dimensions , from each index except from the second last one\n",
        "rank_4_tensor[:1,:1,:,:1]"
      ],
      "execution_count": null,
      "outputs": [
        {
          "output_type": "execute_result",
          "data": {
            "text/plain": [
              "<tf.Tensor: shape=(1, 1, 4, 1), dtype=float32, numpy=\n",
              "array([[[[0.],\n",
              "         [0.],\n",
              "         [0.],\n",
              "         [0.]]]], dtype=float32)>"
            ]
          },
          "metadata": {},
          "execution_count": 41
        }
      ]
    },
    {
      "cell_type": "code",
      "metadata": {
        "colab": {
          "base_uri": "https://localhost:8080/"
        },
        "id": "6epJGIsISw0n",
        "outputId": "9eff9122-a61c-4700-a1d8-e8c13fc3ed9d"
      },
      "source": [
        "# Create a rank 2 tensor(2 dimension)\n",
        "tf.random.set_seed(42)\n",
        "rank_2_tensor = tf.constant(tf.random.uniform(shape=[2,2],seed=42))\n",
        "rank_2_tensor , rank_2_tensor.ndim"
      ],
      "execution_count": null,
      "outputs": [
        {
          "output_type": "execute_result",
          "data": {
            "text/plain": [
              "(<tf.Tensor: shape=(2, 2), dtype=float32, numpy=\n",
              " array([[0.4163028 , 0.26858163],\n",
              "        [0.47968316, 0.36457133]], dtype=float32)>, 2)"
            ]
          },
          "metadata": {},
          "execution_count": 42
        }
      ]
    },
    {
      "cell_type": "code",
      "metadata": {
        "colab": {
          "base_uri": "https://localhost:8080/"
        },
        "id": "S-O9LGS2TIdO",
        "outputId": "a3b636c0-546c-4d5b-a7bb-81acbb39e817"
      },
      "source": [
        "rank_2_tensor.shape , tf.size(rank_2_tensor)"
      ],
      "execution_count": null,
      "outputs": [
        {
          "output_type": "execute_result",
          "data": {
            "text/plain": [
              "(TensorShape([2, 2]), <tf.Tensor: shape=(), dtype=int32, numpy=4>)"
            ]
          },
          "metadata": {},
          "execution_count": 43
        }
      ]
    },
    {
      "cell_type": "code",
      "metadata": {
        "colab": {
          "base_uri": "https://localhost:8080/"
        },
        "id": "iorkB_LTUanD",
        "outputId": "4a917c5f-c201-4f9f-caef-5ed0fd287799"
      },
      "source": [
        "rank_2_tensor"
      ],
      "execution_count": null,
      "outputs": [
        {
          "output_type": "execute_result",
          "data": {
            "text/plain": [
              "<tf.Tensor: shape=(2, 2), dtype=float32, numpy=\n",
              "array([[0.4163028 , 0.26858163],\n",
              "       [0.47968316, 0.36457133]], dtype=float32)>"
            ]
          },
          "metadata": {},
          "execution_count": 44
        }
      ]
    },
    {
      "cell_type": "code",
      "metadata": {
        "colab": {
          "base_uri": "https://localhost:8080/"
        },
        "id": "OKlCkU_CTlVS",
        "outputId": "881992cf-7c25-4fea-fd28-7b4e7738e21d"
      },
      "source": [
        "# get the last item of each of our rank 2 tensor\n",
        "rank_2_tensor[:,-1]"
      ],
      "execution_count": null,
      "outputs": [
        {
          "output_type": "execute_result",
          "data": {
            "text/plain": [
              "<tf.Tensor: shape=(2,), dtype=float32, numpy=array([0.26858163, 0.36457133], dtype=float32)>"
            ]
          },
          "metadata": {},
          "execution_count": 45
        }
      ]
    },
    {
      "cell_type": "code",
      "metadata": {
        "colab": {
          "base_uri": "https://localhost:8080/"
        },
        "id": "zKoKMkYrUuDC",
        "outputId": "1ed6a77c-d780-4cbe-94ad-3d4d58ab59ee"
      },
      "source": [
        "#Add in extra dimension to our rank 2 tensor\n",
        "rank_3_tensor = rank_2_tensor[... , tf.newaxis]\n",
        "rank_3_tensor"
      ],
      "execution_count": null,
      "outputs": [
        {
          "output_type": "execute_result",
          "data": {
            "text/plain": [
              "<tf.Tensor: shape=(2, 2, 1), dtype=float32, numpy=\n",
              "array([[[0.4163028 ],\n",
              "        [0.26858163]],\n",
              "\n",
              "       [[0.47968316],\n",
              "        [0.36457133]]], dtype=float32)>"
            ]
          },
          "metadata": {},
          "execution_count": 46
        }
      ]
    },
    {
      "cell_type": "code",
      "metadata": {
        "id": "a7ymxjncU5fV"
      },
      "source": [
        "# list[:,:] is same as list[...], ie every axis before the last one, include those and add a new axis\n",
        "# on the end\n",
        "# for above example we would have something like follwoing\n",
        "# rank_2_tensor[:,:,tf.newaxis] --> rank_2_tensor[...,tf.newaxis]\n",
        "# in the first code, we are explicitly telling to make a new axis after 1st and 2nd\n",
        "# but in second code, we are saying get all the axis and make a new axis after all present axis."
      ],
      "execution_count": null,
      "outputs": []
    },
    {
      "cell_type": "code",
      "metadata": {
        "colab": {
          "base_uri": "https://localhost:8080/"
        },
        "id": "e5fMb1_IWMte",
        "outputId": "8653552f-6b58-4cc3-aede-41fcaf972e89"
      },
      "source": [
        "# atlernative to t.newaxis\n",
        "\n",
        "tf.expand_dims(rank_2_tensor,axis=-1) # -1 means expans the final axis"
      ],
      "execution_count": null,
      "outputs": [
        {
          "output_type": "execute_result",
          "data": {
            "text/plain": [
              "<tf.Tensor: shape=(2, 2, 1), dtype=float32, numpy=\n",
              "array([[[0.4163028 ],\n",
              "        [0.26858163]],\n",
              "\n",
              "       [[0.47968316],\n",
              "        [0.36457133]]], dtype=float32)>"
            ]
          },
          "metadata": {},
          "execution_count": 48
        }
      ]
    },
    {
      "cell_type": "code",
      "metadata": {
        "colab": {
          "base_uri": "https://localhost:8080/"
        },
        "id": "OWIaQR0TWcbu",
        "outputId": "2895a85a-e535-4836-abf1-33b3d9d5dba0"
      },
      "source": [
        "tf.expand_dims(rank_2_tensor,axis=0) # expand the 0th axis"
      ],
      "execution_count": null,
      "outputs": [
        {
          "output_type": "execute_result",
          "data": {
            "text/plain": [
              "<tf.Tensor: shape=(1, 2, 2), dtype=float32, numpy=\n",
              "array([[[0.4163028 , 0.26858163],\n",
              "        [0.47968316, 0.36457133]]], dtype=float32)>"
            ]
          },
          "metadata": {},
          "execution_count": 49
        }
      ]
    },
    {
      "cell_type": "code",
      "metadata": {
        "colab": {
          "base_uri": "https://localhost:8080/"
        },
        "id": "0XvPSxXOWu3C",
        "outputId": "c55288a9-fcaf-4148-910e-dfc63bbd9a41"
      },
      "source": [
        "tf.expand_dims(rank_2_tensor,axis=1) # expans the 1st axis"
      ],
      "execution_count": null,
      "outputs": [
        {
          "output_type": "execute_result",
          "data": {
            "text/plain": [
              "<tf.Tensor: shape=(2, 1, 2), dtype=float32, numpy=\n",
              "array([[[0.4163028 , 0.26858163]],\n",
              "\n",
              "       [[0.47968316, 0.36457133]]], dtype=float32)>"
            ]
          },
          "metadata": {},
          "execution_count": 50
        }
      ]
    },
    {
      "cell_type": "markdown",
      "metadata": {
        "id": "VmTz87dwW5sZ"
      },
      "source": [
        "### Manipulating tensors (tensor operations)\n",
        "\n",
        "** basic operation **\n",
        "\n",
        "`+` , `-` , `*` , `/`\n",
        "\n"
      ]
    },
    {
      "cell_type": "code",
      "metadata": {
        "colab": {
          "base_uri": "https://localhost:8080/"
        },
        "id": "Sede2LDAXA5i",
        "outputId": "9083f5bb-313d-4340-ebf0-8ec7c89fcd18"
      },
      "source": [
        "# you can add values to a tensor using the addition operator\n",
        "tensor = tf.constant([[10,7],\n",
        "                      [3,4]])\n",
        "\n",
        "tensor + 10"
      ],
      "execution_count": null,
      "outputs": [
        {
          "output_type": "execute_result",
          "data": {
            "text/plain": [
              "<tf.Tensor: shape=(2, 2), dtype=int32, numpy=\n",
              "array([[20, 17],\n",
              "       [13, 14]], dtype=int32)>"
            ]
          },
          "metadata": {},
          "execution_count": 51
        }
      ]
    },
    {
      "cell_type": "code",
      "metadata": {
        "colab": {
          "base_uri": "https://localhost:8080/"
        },
        "id": "zfYFvyh3aoD_",
        "outputId": "f488b6ec-6f48-41ec-eb1e-5a99397a161b"
      },
      "source": [
        "# Original tensor is unchanged\n",
        "tensor"
      ],
      "execution_count": null,
      "outputs": [
        {
          "output_type": "execute_result",
          "data": {
            "text/plain": [
              "<tf.Tensor: shape=(2, 2), dtype=int32, numpy=\n",
              "array([[10,  7],\n",
              "       [ 3,  4]], dtype=int32)>"
            ]
          },
          "metadata": {},
          "execution_count": 52
        }
      ]
    },
    {
      "cell_type": "code",
      "metadata": {
        "colab": {
          "base_uri": "https://localhost:8080/"
        },
        "id": "an4dtq-Oar2Y",
        "outputId": "23c14615-a874-4c00-d35f-c6dd44419127"
      },
      "source": [
        "# Multiplication also works\n",
        "tensor*10"
      ],
      "execution_count": null,
      "outputs": [
        {
          "output_type": "execute_result",
          "data": {
            "text/plain": [
              "<tf.Tensor: shape=(2, 2), dtype=int32, numpy=\n",
              "array([[100,  70],\n",
              "       [ 30,  40]], dtype=int32)>"
            ]
          },
          "metadata": {},
          "execution_count": 53
        }
      ]
    },
    {
      "cell_type": "code",
      "metadata": {
        "colab": {
          "base_uri": "https://localhost:8080/"
        },
        "id": "4xNncgAra9wG",
        "outputId": "dfde90f6-c984-41ad-f12f-da30ec13bfed"
      },
      "source": [
        "# Substraction if you want\n",
        "tensor - 10"
      ],
      "execution_count": null,
      "outputs": [
        {
          "output_type": "execute_result",
          "data": {
            "text/plain": [
              "<tf.Tensor: shape=(2, 2), dtype=int32, numpy=\n",
              "array([[ 0, -3],\n",
              "       [-7, -6]], dtype=int32)>"
            ]
          },
          "metadata": {},
          "execution_count": 54
        }
      ]
    },
    {
      "cell_type": "code",
      "metadata": {
        "colab": {
          "base_uri": "https://localhost:8080/"
        },
        "id": "oLW5hbVHbBVl",
        "outputId": "4871dc03-9cc3-4608-c04d-54d9f064902e"
      },
      "source": [
        "# we can use the tensorflow buitlin functions too\n",
        "\n",
        "tf.multiply(tensor , 10)"
      ],
      "execution_count": null,
      "outputs": [
        {
          "output_type": "execute_result",
          "data": {
            "text/plain": [
              "<tf.Tensor: shape=(2, 2), dtype=int32, numpy=\n",
              "array([[100,  70],\n",
              "       [ 30,  40]], dtype=int32)>"
            ]
          },
          "metadata": {},
          "execution_count": 55
        }
      ]
    },
    {
      "cell_type": "code",
      "metadata": {
        "colab": {
          "base_uri": "https://localhost:8080/"
        },
        "id": "2BdoXYAJbM6N",
        "outputId": "1e238a94-647c-4a2b-85f7-c6ca17ffb485"
      },
      "source": [
        "# even after usng tensorflow functions, the original tensor is unchanged\n",
        "tensor"
      ],
      "execution_count": null,
      "outputs": [
        {
          "output_type": "execute_result",
          "data": {
            "text/plain": [
              "<tf.Tensor: shape=(2, 2), dtype=int32, numpy=\n",
              "array([[10,  7],\n",
              "       [ 3,  4]], dtype=int32)>"
            ]
          },
          "metadata": {},
          "execution_count": 56
        }
      ]
    },
    {
      "cell_type": "markdown",
      "metadata": {
        "id": "RNnMOEprbkpX"
      },
      "source": [
        "**Matrix Multiplication**\n",
        "\n",
        "In machine learning, matrix multiplication is one of the most common operation\n",
        "\n",
        "There are tow rules our tenosr needs to fulfill i we're going to matrix multiply them : \n",
        "\n",
        "* The inner dimensions must match \n",
        "* The resuting matrix has the shape of the outer dimensions"
      ]
    },
    {
      "cell_type": "code",
      "metadata": {
        "colab": {
          "base_uri": "https://localhost:8080/"
        },
        "id": "lMALK8OlgPsR",
        "outputId": "576bb88f-1c5c-48fa-83ff-39eb6c03f852"
      },
      "source": [
        "# martrix multiplication in tensorflow\n",
        "\n",
        "print(tensor)\n",
        "tf.matmul(tensor,tensor) # this is the dot product"
      ],
      "execution_count": null,
      "outputs": [
        {
          "output_type": "stream",
          "name": "stdout",
          "text": [
            "tf.Tensor(\n",
            "[[10  7]\n",
            " [ 3  4]], shape=(2, 2), dtype=int32)\n"
          ]
        },
        {
          "output_type": "execute_result",
          "data": {
            "text/plain": [
              "<tf.Tensor: shape=(2, 2), dtype=int32, numpy=\n",
              "array([[121,  98],\n",
              "       [ 42,  37]], dtype=int32)>"
            ]
          },
          "metadata": {},
          "execution_count": 57
        }
      ]
    },
    {
      "cell_type": "code",
      "metadata": {
        "colab": {
          "base_uri": "https://localhost:8080/"
        },
        "id": "92fGYkD_iLsP",
        "outputId": "52b62e86-b902-4a06-b83e-f11edff59fc1"
      },
      "source": [
        "# output above is different from if we did the following\n",
        "tensor*tensor # this is the element wise multiplication"
      ],
      "execution_count": null,
      "outputs": [
        {
          "output_type": "execute_result",
          "data": {
            "text/plain": [
              "<tf.Tensor: shape=(2, 2), dtype=int32, numpy=\n",
              "array([[100,  49],\n",
              "       [  9,  16]], dtype=int32)>"
            ]
          },
          "metadata": {},
          "execution_count": 58
        }
      ]
    },
    {
      "cell_type": "code",
      "metadata": {
        "colab": {
          "base_uri": "https://localhost:8080/"
        },
        "id": "8_ZLrOINh64_",
        "outputId": "694aa31f-0249-4cce-f437-a02a60db3a96"
      },
      "source": [
        "# matrix multiplication with python operator '@'\n",
        "A = tf.constant([[[1,2,5],\n",
        "                  [7,2,1],\n",
        "                  [3,3,3]]])\n",
        "B = tf.constant([[[3,5],\n",
        "                 [6,7],\n",
        "                 [1,8]]])\n",
        "\n",
        "print(A@B) # python dot product (for matrix multiplication)\n",
        "print(tf.matmul(A,B))"
      ],
      "execution_count": null,
      "outputs": [
        {
          "output_type": "stream",
          "name": "stdout",
          "text": [
            "tf.Tensor(\n",
            "[[[20 59]\n",
            "  [34 57]\n",
            "  [30 60]]], shape=(1, 3, 2), dtype=int32)\n",
            "tf.Tensor(\n",
            "[[[20 59]\n",
            "  [34 57]\n",
            "  [30 60]]], shape=(1, 3, 2), dtype=int32)\n"
          ]
        }
      ]
    },
    {
      "cell_type": "code",
      "metadata": {
        "colab": {
          "base_uri": "https://localhost:8080/"
        },
        "id": "hFbeBckciw6Q",
        "outputId": "0718ca01-56cc-4340-e8cc-0ca6653c6b85"
      },
      "source": [
        "\n",
        "X = tf.constant([[1,2],\n",
        "                  [3,4],\n",
        "                  [5,6]])\n",
        "Y = tf.constant([[7,8],\n",
        "                  [9,10],\n",
        "                  [11,12]])\n",
        "X , Y"
      ],
      "execution_count": null,
      "outputs": [
        {
          "output_type": "execute_result",
          "data": {
            "text/plain": [
              "(<tf.Tensor: shape=(3, 2), dtype=int32, numpy=\n",
              " array([[1, 2],\n",
              "        [3, 4],\n",
              "        [5, 6]], dtype=int32)>, <tf.Tensor: shape=(3, 2), dtype=int32, numpy=\n",
              " array([[ 7,  8],\n",
              "        [ 9, 10],\n",
              "        [11, 12]], dtype=int32)>)"
            ]
          },
          "metadata": {},
          "execution_count": 60
        }
      ]
    },
    {
      "cell_type": "code",
      "metadata": {
        "id": "_FICHrIRubaM"
      },
      "source": [
        ""
      ],
      "execution_count": null,
      "outputs": []
    },
    {
      "cell_type": "code",
      "metadata": {
        "colab": {
          "base_uri": "https://localhost:8080/",
          "height": 346
        },
        "id": "1Y83ARVBt5Ls",
        "outputId": "31d1324f-baf2-4cd7-ac1d-0f54066268a5"
      },
      "source": [
        "# try to multiply tensors with same shape\n",
        "tf.matmul(X,Y)"
      ],
      "execution_count": null,
      "outputs": [
        {
          "output_type": "error",
          "ename": "InvalidArgumentError",
          "evalue": "ignored",
          "traceback": [
            "\u001b[0;31m---------------------------------------------------------------------------\u001b[0m",
            "\u001b[0;31mInvalidArgumentError\u001b[0m                      Traceback (most recent call last)",
            "\u001b[0;32m<ipython-input-61-68d48bec2831>\u001b[0m in \u001b[0;36m<module>\u001b[0;34m()\u001b[0m\n\u001b[1;32m      1\u001b[0m \u001b[0;31m# try to multiply tensors with same shape\u001b[0m\u001b[0;34m\u001b[0m\u001b[0;34m\u001b[0m\u001b[0;34m\u001b[0m\u001b[0m\n\u001b[0;32m----> 2\u001b[0;31m \u001b[0mtf\u001b[0m\u001b[0;34m.\u001b[0m\u001b[0mmatmul\u001b[0m\u001b[0;34m(\u001b[0m\u001b[0mX\u001b[0m\u001b[0;34m,\u001b[0m\u001b[0mY\u001b[0m\u001b[0;34m)\u001b[0m\u001b[0;34m\u001b[0m\u001b[0;34m\u001b[0m\u001b[0m\n\u001b[0m",
            "\u001b[0;32m/usr/local/lib/python3.7/dist-packages/tensorflow/python/util/traceback_utils.py\u001b[0m in \u001b[0;36merror_handler\u001b[0;34m(*args, **kwargs)\u001b[0m\n\u001b[1;32m    151\u001b[0m     \u001b[0;32mexcept\u001b[0m \u001b[0mException\u001b[0m \u001b[0;32mas\u001b[0m \u001b[0me\u001b[0m\u001b[0;34m:\u001b[0m\u001b[0;34m\u001b[0m\u001b[0;34m\u001b[0m\u001b[0m\n\u001b[1;32m    152\u001b[0m       \u001b[0mfiltered_tb\u001b[0m \u001b[0;34m=\u001b[0m \u001b[0m_process_traceback_frames\u001b[0m\u001b[0;34m(\u001b[0m\u001b[0me\u001b[0m\u001b[0;34m.\u001b[0m\u001b[0m__traceback__\u001b[0m\u001b[0;34m)\u001b[0m\u001b[0;34m\u001b[0m\u001b[0;34m\u001b[0m\u001b[0m\n\u001b[0;32m--> 153\u001b[0;31m       \u001b[0;32mraise\u001b[0m \u001b[0me\u001b[0m\u001b[0;34m.\u001b[0m\u001b[0mwith_traceback\u001b[0m\u001b[0;34m(\u001b[0m\u001b[0mfiltered_tb\u001b[0m\u001b[0;34m)\u001b[0m \u001b[0;32mfrom\u001b[0m \u001b[0;32mNone\u001b[0m\u001b[0;34m\u001b[0m\u001b[0;34m\u001b[0m\u001b[0m\n\u001b[0m\u001b[1;32m    154\u001b[0m     \u001b[0;32mfinally\u001b[0m\u001b[0;34m:\u001b[0m\u001b[0;34m\u001b[0m\u001b[0;34m\u001b[0m\u001b[0m\n\u001b[1;32m    155\u001b[0m       \u001b[0;32mdel\u001b[0m \u001b[0mfiltered_tb\u001b[0m\u001b[0;34m\u001b[0m\u001b[0;34m\u001b[0m\u001b[0m\n",
            "\u001b[0;32m/usr/local/lib/python3.7/dist-packages/tensorflow/python/framework/ops.py\u001b[0m in \u001b[0;36mraise_from_not_ok_status\u001b[0;34m(e, name)\u001b[0m\n\u001b[1;32m   7105\u001b[0m \u001b[0;32mdef\u001b[0m \u001b[0mraise_from_not_ok_status\u001b[0m\u001b[0;34m(\u001b[0m\u001b[0me\u001b[0m\u001b[0;34m,\u001b[0m \u001b[0mname\u001b[0m\u001b[0;34m)\u001b[0m\u001b[0;34m:\u001b[0m\u001b[0;34m\u001b[0m\u001b[0;34m\u001b[0m\u001b[0m\n\u001b[1;32m   7106\u001b[0m   \u001b[0me\u001b[0m\u001b[0;34m.\u001b[0m\u001b[0mmessage\u001b[0m \u001b[0;34m+=\u001b[0m \u001b[0;34m(\u001b[0m\u001b[0;34m\" name: \"\u001b[0m \u001b[0;34m+\u001b[0m \u001b[0mname\u001b[0m \u001b[0;32mif\u001b[0m \u001b[0mname\u001b[0m \u001b[0;32mis\u001b[0m \u001b[0;32mnot\u001b[0m \u001b[0;32mNone\u001b[0m \u001b[0;32melse\u001b[0m \u001b[0;34m\"\"\u001b[0m\u001b[0;34m)\u001b[0m\u001b[0;34m\u001b[0m\u001b[0;34m\u001b[0m\u001b[0m\n\u001b[0;32m-> 7107\u001b[0;31m   \u001b[0;32mraise\u001b[0m \u001b[0mcore\u001b[0m\u001b[0;34m.\u001b[0m\u001b[0m_status_to_exception\u001b[0m\u001b[0;34m(\u001b[0m\u001b[0me\u001b[0m\u001b[0;34m)\u001b[0m \u001b[0;32mfrom\u001b[0m \u001b[0;32mNone\u001b[0m  \u001b[0;31m# pylint: disable=protected-access\u001b[0m\u001b[0;34m\u001b[0m\u001b[0;34m\u001b[0m\u001b[0m\n\u001b[0m\u001b[1;32m   7108\u001b[0m \u001b[0;34m\u001b[0m\u001b[0m\n\u001b[1;32m   7109\u001b[0m \u001b[0;34m\u001b[0m\u001b[0m\n",
            "\u001b[0;31mInvalidArgumentError\u001b[0m: Matrix size-incompatible: In[0]: [3,2], In[1]: [3,2] [Op:MatMul]"
          ]
        }
      ]
    },
    {
      "cell_type": "code",
      "metadata": {
        "colab": {
          "base_uri": "https://localhost:8080/"
        },
        "id": "J805vIFtt8Ou",
        "outputId": "c5bbeac6-ee00-4163-d008-03a98bfd78d6"
      },
      "source": [
        "# correcting the above code\n",
        "tf.matmul(X,tf.transpose(Y))"
      ],
      "execution_count": null,
      "outputs": [
        {
          "output_type": "execute_result",
          "data": {
            "text/plain": [
              "<tf.Tensor: shape=(3, 3), dtype=int32, numpy=\n",
              "array([[ 23,  29,  35],\n",
              "       [ 53,  67,  81],\n",
              "       [ 83, 105, 127]], dtype=int32)>"
            ]
          },
          "metadata": {},
          "execution_count": 62
        }
      ]
    },
    {
      "cell_type": "code",
      "metadata": {
        "colab": {
          "base_uri": "https://localhost:8080/"
        },
        "id": "EroG6Ix4y8l0",
        "outputId": "42f1dfe2-f81c-4d5d-9dc1-101ce830c0cb"
      },
      "source": [
        "tf.reshape(Y,shape=[2,3])"
      ],
      "execution_count": null,
      "outputs": [
        {
          "output_type": "execute_result",
          "data": {
            "text/plain": [
              "<tf.Tensor: shape=(2, 3), dtype=int32, numpy=\n",
              "array([[ 7,  8,  9],\n",
              "       [10, 11, 12]], dtype=int32)>"
            ]
          },
          "metadata": {},
          "execution_count": 63
        }
      ]
    },
    {
      "cell_type": "code",
      "metadata": {
        "colab": {
          "base_uri": "https://localhost:8080/"
        },
        "id": "AhSBgUx_uBfE",
        "outputId": "05389e5f-69ec-4724-b468-cf77869c29dd"
      },
      "source": [
        "# tf.reshape does not rearrange the dimensions of the tensor so if we get sometihing \n",
        "# like above where the sequence of the data buffer of original data\n",
        "# has not changed , only the shape has been changed\n",
        "tf.matmul(X , tf.reshape(Y ,shape=[2,3]))"
      ],
      "execution_count": null,
      "outputs": [
        {
          "output_type": "execute_result",
          "data": {
            "text/plain": [
              "<tf.Tensor: shape=(3, 3), dtype=int32, numpy=\n",
              "array([[ 27,  30,  33],\n",
              "       [ 61,  68,  75],\n",
              "       [ 95, 106, 117]], dtype=int32)>"
            ]
          },
          "metadata": {},
          "execution_count": 64
        }
      ]
    },
    {
      "cell_type": "code",
      "metadata": {
        "colab": {
          "base_uri": "https://localhost:8080/"
        },
        "id": "5qV0u50Hy4F8",
        "outputId": "c5fb8a87-10f2-4f5e-bc3a-5d136c749aab"
      },
      "source": [
        "tf.reshape(Y,shape=[2,3])"
      ],
      "execution_count": null,
      "outputs": [
        {
          "output_type": "execute_result",
          "data": {
            "text/plain": [
              "<tf.Tensor: shape=(2, 3), dtype=int32, numpy=\n",
              "array([[ 7,  8,  9],\n",
              "       [10, 11, 12]], dtype=int32)>"
            ]
          },
          "metadata": {},
          "execution_count": 65
        }
      ]
    },
    {
      "cell_type": "code",
      "metadata": {
        "colab": {
          "base_uri": "https://localhost:8080/"
        },
        "id": "2dOjYyFF37Nb",
        "outputId": "6f68153f-1880-419b-ea63-41e8b0090d61"
      },
      "source": [
        "tf.reshape(X,shape=[2,3])"
      ],
      "execution_count": null,
      "outputs": [
        {
          "output_type": "execute_result",
          "data": {
            "text/plain": [
              "<tf.Tensor: shape=(2, 3), dtype=int32, numpy=\n",
              "array([[1, 2, 3],\n",
              "       [4, 5, 6]], dtype=int32)>"
            ]
          },
          "metadata": {},
          "execution_count": 66
        }
      ]
    },
    {
      "cell_type": "code",
      "metadata": {
        "colab": {
          "base_uri": "https://localhost:8080/"
        },
        "id": "6pzyAMmU4Tqf",
        "outputId": "9294ceb4-499b-47ab-fb32-04743e506dfc"
      },
      "source": [
        "tf.matmul(X,tf.reshape(Y,shape=[2,3]))"
      ],
      "execution_count": null,
      "outputs": [
        {
          "output_type": "execute_result",
          "data": {
            "text/plain": [
              "<tf.Tensor: shape=(3, 3), dtype=int32, numpy=\n",
              "array([[ 27,  30,  33],\n",
              "       [ 61,  68,  75],\n",
              "       [ 95, 106, 117]], dtype=int32)>"
            ]
          },
          "metadata": {},
          "execution_count": 67
        }
      ]
    },
    {
      "cell_type": "code",
      "metadata": {
        "colab": {
          "base_uri": "https://localhost:8080/"
        },
        "id": "4xdmJX1T4bIG",
        "outputId": "ffe592b5-ee46-4b0c-d9fc-8a5986696692"
      },
      "source": [
        "# changing shapes of x and seperately changing shape of y\n",
        "tf.matmul(tf.reshape(X,shape=[2,3]),Y)"
      ],
      "execution_count": null,
      "outputs": [
        {
          "output_type": "execute_result",
          "data": {
            "text/plain": [
              "<tf.Tensor: shape=(2, 2), dtype=int32, numpy=\n",
              "array([[ 58,  64],\n",
              "       [139, 154]], dtype=int32)>"
            ]
          },
          "metadata": {},
          "execution_count": 68
        }
      ]
    },
    {
      "cell_type": "code",
      "metadata": {
        "colab": {
          "base_uri": "https://localhost:8080/"
        },
        "id": "gx_quZje4jjS",
        "outputId": "d9f38b31-c23f-49c8-ffc3-eceafd572bd9"
      },
      "source": [
        "# we can do same with transpose but ther eis a difference between them\n",
        "X , tf.transpose(X) , tf.reshape(X,shape=[2,3])"
      ],
      "execution_count": null,
      "outputs": [
        {
          "output_type": "execute_result",
          "data": {
            "text/plain": [
              "(<tf.Tensor: shape=(3, 2), dtype=int32, numpy=\n",
              " array([[1, 2],\n",
              "        [3, 4],\n",
              "        [5, 6]], dtype=int32)>, <tf.Tensor: shape=(2, 3), dtype=int32, numpy=\n",
              " array([[1, 3, 5],\n",
              "        [2, 4, 6]], dtype=int32)>, <tf.Tensor: shape=(2, 3), dtype=int32, numpy=\n",
              " array([[1, 2, 3],\n",
              "        [4, 5, 6]], dtype=int32)>)"
            ]
          },
          "metadata": {},
          "execution_count": 69
        }
      ]
    },
    {
      "cell_type": "code",
      "metadata": {
        "id": "yCV5L_NY5QhQ"
      },
      "source": [
        "# transpose flips the axes while the reshape shuffels the tensor into the shape we want"
      ],
      "execution_count": null,
      "outputs": []
    },
    {
      "cell_type": "code",
      "metadata": {
        "colab": {
          "base_uri": "https://localhost:8080/"
        },
        "id": "Uw-Rt9L35yIs",
        "outputId": "541b45c9-06e6-45f0-e015-02e4fab4b46e"
      },
      "source": [
        "tf.matmul(tf.transpose(X),Y) "
      ],
      "execution_count": null,
      "outputs": [
        {
          "output_type": "execute_result",
          "data": {
            "text/plain": [
              "<tf.Tensor: shape=(2, 2), dtype=int32, numpy=\n",
              "array([[ 89,  98],\n",
              "       [116, 128]], dtype=int32)>"
            ]
          },
          "metadata": {},
          "execution_count": 71
        }
      ]
    },
    {
      "cell_type": "markdown",
      "metadata": {
        "id": "MH1L7-m06Mb2"
      },
      "source": [
        "### The dot product\n",
        "\n",
        "Matrix multiplication is also referred to as the dot product\n",
        "you can perform matrix multiplication using:\n",
        "\n",
        "* `tf.matmul`\n",
        "* `tf.tensordot`"
      ]
    },
    {
      "cell_type": "code",
      "metadata": {
        "colab": {
          "base_uri": "https://localhost:8080/"
        },
        "id": "ZenktR5RB8BV",
        "outputId": "136a2526-46df-4b75-eb7a-4c946fef24de"
      },
      "source": [
        "# perform the dot product on x and y ( requires x or y to be transposed)\n",
        "tf.tensordot(tf.transpose(X), Y , axes = 1)"
      ],
      "execution_count": null,
      "outputs": [
        {
          "output_type": "execute_result",
          "data": {
            "text/plain": [
              "<tf.Tensor: shape=(2, 2), dtype=int32, numpy=\n",
              "array([[ 89,  98],\n",
              "       [116, 128]], dtype=int32)>"
            ]
          },
          "metadata": {},
          "execution_count": 72
        }
      ]
    },
    {
      "cell_type": "markdown",
      "metadata": {
        "id": "StMDx1zdCUyd"
      },
      "source": [
        "Generally, when performing matrix multiplication on two tensors ans one of the axes doesn't line up , you will transpose(rather than reshape) one of the tensors to get satisfy the matrix maultiplication rule"
      ]
    },
    {
      "cell_type": "code",
      "metadata": {
        "id": "steXjbhVGLO4"
      },
      "source": [
        "########################################################################################"
      ],
      "execution_count": null,
      "outputs": []
    },
    {
      "cell_type": "markdown",
      "metadata": {
        "id": "8MrP53YXGSkQ"
      },
      "source": [
        "## changing the datatype of a tensor"
      ]
    },
    {
      "cell_type": "code",
      "metadata": {
        "colab": {
          "base_uri": "https://localhost:8080/"
        },
        "id": "EivisnzTGWFP",
        "outputId": "fb92817c-bf88-4b19-ba07-81d96baabe08"
      },
      "source": [
        "# Create a new tensor with default datatype(float32)\n",
        "\n",
        "A = tf.constant([1.7,7.4])\n",
        "print(A.dtype)"
      ],
      "execution_count": null,
      "outputs": [
        {
          "output_type": "stream",
          "name": "stdout",
          "text": [
            "<dtype: 'float32'>\n"
          ]
        }
      ]
    },
    {
      "cell_type": "code",
      "metadata": {
        "colab": {
          "base_uri": "https://localhost:8080/"
        },
        "id": "u_2jr6zNGn1-",
        "outputId": "9eba79da-dd37-4c2c-ef5a-691613dedda3"
      },
      "source": [
        "B = tf.constant([2,3])\n",
        "print(B.dtype)"
      ],
      "execution_count": null,
      "outputs": [
        {
          "output_type": "stream",
          "name": "stdout",
          "text": [
            "<dtype: 'int32'>\n"
          ]
        }
      ]
    },
    {
      "cell_type": "code",
      "metadata": {
        "colab": {
          "base_uri": "https://localhost:8080/"
        },
        "id": "v_b9CVc9Gsuf",
        "outputId": "491e2ada-1b84-41f0-83bc-40d8ae1d9270"
      },
      "source": [
        "# change from float32 to float 16 (reduce precision, 32 bit precision - google)\n",
        "B = tf.cast(B , dtype = tf.float16)\n",
        "print(B.dtype)"
      ],
      "execution_count": null,
      "outputs": [
        {
          "output_type": "stream",
          "name": "stdout",
          "text": [
            "<dtype: 'float16'>\n"
          ]
        }
      ]
    },
    {
      "cell_type": "code",
      "metadata": {
        "colab": {
          "base_uri": "https://localhost:8080/"
        },
        "id": "ybEi7fZ1HYD8",
        "outputId": "53608258-d3bf-421a-a57c-04f60647c4a0"
      },
      "source": [
        "# change from int32 to float32\n",
        "C = tf.constant([7,10])\n",
        "D = tf.cast(C , dtype=tf.float32)\n",
        "print(C.dtype , D.dtype)\n"
      ],
      "execution_count": null,
      "outputs": [
        {
          "output_type": "stream",
          "name": "stdout",
          "text": [
            "<dtype: 'int32'> <dtype: 'float32'>\n"
          ]
        }
      ]
    },
    {
      "cell_type": "markdown",
      "metadata": {
        "id": "mYa35mPhH8Vp"
      },
      "source": [
        "### Tensor aggregation \n",
        "\n",
        "Aggregrating tensors = condensing them from multiple values down to a smaller amaount of values"
      ]
    },
    {
      "cell_type": "code",
      "metadata": {
        "colab": {
          "base_uri": "https://localhost:8080/"
        },
        "id": "VcVZ9nS0ILcd",
        "outputId": "6dcdadbb-e702-4294-ef62-d3ebff0e006f"
      },
      "source": [
        "# Getting the absolute values\n",
        "A = tf.constant([-7,-10])\n",
        "A"
      ],
      "execution_count": null,
      "outputs": [
        {
          "output_type": "execute_result",
          "data": {
            "text/plain": [
              "<tf.Tensor: shape=(2,), dtype=int32, numpy=array([ -7, -10], dtype=int32)>"
            ]
          },
          "metadata": {},
          "execution_count": 78
        }
      ]
    },
    {
      "cell_type": "code",
      "metadata": {
        "colab": {
          "base_uri": "https://localhost:8080/"
        },
        "id": "mJ8K3UpVJPum",
        "outputId": "cb372933-59ed-42cc-8103-bb11f4c143d1"
      },
      "source": [
        "# get the absolute values\n",
        "tf.abs(A)"
      ],
      "execution_count": null,
      "outputs": [
        {
          "output_type": "execute_result",
          "data": {
            "text/plain": [
              "<tf.Tensor: shape=(2,), dtype=int32, numpy=array([ 7, 10], dtype=int32)>"
            ]
          },
          "metadata": {},
          "execution_count": 79
        }
      ]
    },
    {
      "cell_type": "markdown",
      "metadata": {
        "id": "ZCKzAgiXJTde"
      },
      "source": [
        "Lets go through the following forms of aggregration:\n",
        "* get the minimum\n",
        "* get the maximum\n",
        "* get the mean \n",
        "* get the sum "
      ]
    },
    {
      "cell_type": "code",
      "metadata": {
        "colab": {
          "base_uri": "https://localhost:8080/"
        },
        "id": "VL6fc5bWKQKU",
        "outputId": "52fb68af-c504-4578-8b49-30ebdf897268"
      },
      "source": [
        "# creating a new tensor for aggregration\n",
        "\n",
        "tensor_agg = tf.constant(np.arange(25),shape=[5,5],dtype = tf.int32)\n",
        "tensor_agg"
      ],
      "execution_count": null,
      "outputs": [
        {
          "output_type": "execute_result",
          "data": {
            "text/plain": [
              "<tf.Tensor: shape=(5, 5), dtype=int32, numpy=\n",
              "array([[ 0,  1,  2,  3,  4],\n",
              "       [ 5,  6,  7,  8,  9],\n",
              "       [10, 11, 12, 13, 14],\n",
              "       [15, 16, 17, 18, 19],\n",
              "       [20, 21, 22, 23, 24]], dtype=int32)>"
            ]
          },
          "metadata": {},
          "execution_count": 80
        }
      ]
    },
    {
      "cell_type": "code",
      "metadata": {
        "colab": {
          "base_uri": "https://localhost:8080/"
        },
        "id": "yObR6RGyK7CP",
        "outputId": "2e9e52a1-acaa-453c-ffd0-ee80315fbb39"
      },
      "source": [
        "tensor_min = tf.reduce_min(tensor_agg)\n",
        "tensor_min"
      ],
      "execution_count": null,
      "outputs": [
        {
          "output_type": "execute_result",
          "data": {
            "text/plain": [
              "<tf.Tensor: shape=(), dtype=int32, numpy=0>"
            ]
          },
          "metadata": {},
          "execution_count": 81
        }
      ]
    },
    {
      "cell_type": "code",
      "metadata": {
        "colab": {
          "base_uri": "https://localhost:8080/"
        },
        "id": "BTwhhGOTMCTz",
        "outputId": "4ef369b2-9628-4794-da69-a70d1c03adfe"
      },
      "source": [
        "tensor_max = tf.reduce_max(tensor_agg)\n",
        "tensor_max"
      ],
      "execution_count": null,
      "outputs": [
        {
          "output_type": "execute_result",
          "data": {
            "text/plain": [
              "<tf.Tensor: shape=(), dtype=int32, numpy=24>"
            ]
          },
          "metadata": {},
          "execution_count": 82
        }
      ]
    },
    {
      "cell_type": "code",
      "metadata": {
        "colab": {
          "base_uri": "https://localhost:8080/"
        },
        "id": "ZP-ka5bYML8b",
        "outputId": "3feca222-d7db-4b4c-ee83-50d18f711ba5"
      },
      "source": [
        "tensor_mean = tf.reduce_mean(tensor_agg)\n",
        "tensor_mean"
      ],
      "execution_count": null,
      "outputs": [
        {
          "output_type": "execute_result",
          "data": {
            "text/plain": [
              "<tf.Tensor: shape=(), dtype=int32, numpy=12>"
            ]
          },
          "metadata": {},
          "execution_count": 83
        }
      ]
    },
    {
      "cell_type": "code",
      "metadata": {
        "colab": {
          "base_uri": "https://localhost:8080/"
        },
        "id": "lOi4fLVaMUmU",
        "outputId": "502e17cd-b59a-4e8d-dea0-b52525dcde7d"
      },
      "source": [
        "tensor_sum = tf.reduce_sum(tf.cast(tensor_agg , dtype=tf.int64))\n",
        "tensor_sum"
      ],
      "execution_count": null,
      "outputs": [
        {
          "output_type": "execute_result",
          "data": {
            "text/plain": [
              "<tf.Tensor: shape=(), dtype=int64, numpy=300>"
            ]
          },
          "metadata": {},
          "execution_count": 84
        }
      ]
    },
    {
      "cell_type": "code",
      "metadata": {
        "colab": {
          "base_uri": "https://localhost:8080/"
        },
        "id": "E0aineWdOSeE",
        "outputId": "6f5f4bf2-4261-450c-9649-ba9aaa601632"
      },
      "source": [
        "# find the standard deviation of a tensor\n",
        "# here we get type error if we pass int32 or int64\n",
        "tensor_std = tf.math.reduce_std(tf.cast(tensor_agg , dtype=tf.float32))\n",
        "tensor_std"
      ],
      "execution_count": null,
      "outputs": [
        {
          "output_type": "execute_result",
          "data": {
            "text/plain": [
              "<tf.Tensor: shape=(), dtype=float32, numpy=7.2111025>"
            ]
          },
          "metadata": {},
          "execution_count": 85
        }
      ]
    },
    {
      "cell_type": "code",
      "metadata": {
        "colab": {
          "base_uri": "https://localhost:8080/"
        },
        "id": "xklkphTnO-JY",
        "outputId": "3b77381d-8c7e-4eb9-d88f-ae049dc4ae0d"
      },
      "source": [
        "# find the variance of a tensor\n",
        "#tf.reduce_variance wont work\n",
        "import tensorflow_probability as tfp\n",
        "tensor_variance = tfp.stats.variance(tensor_agg)\n",
        "tensor_variance"
      ],
      "execution_count": null,
      "outputs": [
        {
          "output_type": "execute_result",
          "data": {
            "text/plain": [
              "<tf.Tensor: shape=(5,), dtype=int32, numpy=array([50, 50, 50, 50, 50], dtype=int32)>"
            ]
          },
          "metadata": {},
          "execution_count": 91
        }
      ]
    },
    {
      "cell_type": "code",
      "metadata": {
        "colab": {
          "base_uri": "https://localhost:8080/"
        },
        "id": "M2RtTzpJ5ds1",
        "outputId": "639115e0-23e1-4212-ff5d-cf1821859084"
      },
      "source": [
        "# another method for variance\n",
        "tensor_variance_1 = tf.math.reduce_variance(tf.cast(tensor_agg, dtype= tf.float32))\n",
        "tensor_variance_1"
      ],
      "execution_count": null,
      "outputs": [
        {
          "output_type": "execute_result",
          "data": {
            "text/plain": [
              "<tf.Tensor: shape=(), dtype=float32, numpy=52.0>"
            ]
          },
          "metadata": {},
          "execution_count": 100
        }
      ]
    },
    {
      "cell_type": "code",
      "metadata": {
        "colab": {
          "base_uri": "https://localhost:8080/"
        },
        "id": "DgjJzElKMqyp",
        "outputId": "0ec83bb4-7dcd-4612-ab7f-9405fd4ac920"
      },
      "source": [
        "tensor_agg_1 = tf.constant(np.random.randint(0,100 , size = 50))\n",
        "tensor_agg_1"
      ],
      "execution_count": null,
      "outputs": [
        {
          "output_type": "execute_result",
          "data": {
            "text/plain": [
              "<tf.Tensor: shape=(50,), dtype=int64, numpy=\n",
              "array([50, 91, 79, 33, 36, 19, 55, 49, 71, 99, 69, 89, 74, 93, 85, 88, 60,\n",
              "       93, 61, 34, 82, 47, 69, 43, 28, 45, 97, 42, 93, 40, 53, 45, 32, 82,\n",
              "        2, 29, 59, 55, 94, 93, 37, 60, 95, 49, 97, 61, 12,  6, 60, 61])>"
            ]
          },
          "metadata": {},
          "execution_count": 88
        }
      ]
    },
    {
      "cell_type": "code",
      "metadata": {
        "colab": {
          "base_uri": "https://localhost:8080/"
        },
        "id": "PqT3AQCXNIDt",
        "outputId": "2d0cebcb-fc79-463e-9ac2-04eccefa7093"
      },
      "source": [
        "tensor_agg_1.shape , tensor_agg_1.ndim , tf.size(tensor_agg_1)"
      ],
      "execution_count": null,
      "outputs": [
        {
          "output_type": "execute_result",
          "data": {
            "text/plain": [
              "(TensorShape([50]), 1, <tf.Tensor: shape=(), dtype=int32, numpy=50>)"
            ]
          },
          "metadata": {},
          "execution_count": 89
        }
      ]
    },
    {
      "cell_type": "markdown",
      "metadata": {
        "id": "b9glSpz1NZUB"
      },
      "source": [
        "**Find the positional minimum and maximum of a tensor (argmin, argmax)**\n",
        "\n",
        "\n",
        "\n"
      ]
    },
    {
      "cell_type": "code",
      "metadata": {
        "colab": {
          "base_uri": "https://localhost:8080/"
        },
        "id": "HpetFaOU4uPi",
        "outputId": "741b87ff-5e0c-4321-e0d9-49614877a46e"
      },
      "source": [
        "tensor_agg"
      ],
      "execution_count": null,
      "outputs": [
        {
          "output_type": "execute_result",
          "data": {
            "text/plain": [
              "<tf.Tensor: shape=(5, 5), dtype=int32, numpy=\n",
              "array([[ 0,  1,  2,  3,  4],\n",
              "       [ 5,  6,  7,  8,  9],\n",
              "       [10, 11, 12, 13, 14],\n",
              "       [15, 16, 17, 18, 19],\n",
              "       [20, 21, 22, 23, 24]], dtype=int32)>"
            ]
          },
          "metadata": {},
          "execution_count": 92
        }
      ]
    },
    {
      "cell_type": "code",
      "metadata": {
        "id": "XSzlG4C45O4J"
      },
      "source": [
        ""
      ],
      "execution_count": null,
      "outputs": []
    },
    {
      "cell_type": "code",
      "metadata": {
        "colab": {
          "base_uri": "https://localhost:8080/"
        },
        "id": "xWHaBOQl4c7k",
        "outputId": "cd9fb84e-cc44-4021-98c8-52e4b11a0a95"
      },
      "source": [
        "tensor_argmin = tf.math.argmin(tensor_agg)\n",
        "tensor_argmin"
      ],
      "execution_count": null,
      "outputs": [
        {
          "output_type": "execute_result",
          "data": {
            "text/plain": [
              "<tf.Tensor: shape=(5,), dtype=int64, numpy=array([0, 0, 0, 0, 0])>"
            ]
          },
          "metadata": {},
          "execution_count": 96
        }
      ]
    },
    {
      "cell_type": "code",
      "metadata": {
        "colab": {
          "base_uri": "https://localhost:8080/"
        },
        "id": "dIBJnRR94zt8",
        "outputId": "88a8678e-1a06-47fa-ef23-32e88dce7aeb"
      },
      "source": [
        "tensor_argmax = tf.math.argmax(tensor_agg)\n",
        "tensor_argmax"
      ],
      "execution_count": null,
      "outputs": [
        {
          "output_type": "execute_result",
          "data": {
            "text/plain": [
              "<tf.Tensor: shape=(5,), dtype=int64, numpy=array([4, 4, 4, 4, 4])>"
            ]
          },
          "metadata": {},
          "execution_count": 98
        }
      ]
    },
    {
      "cell_type": "code",
      "metadata": {
        "colab": {
          "base_uri": "https://localhost:8080/"
        },
        "id": "0jw7U4qc5DO7",
        "outputId": "b5ec83aa-bb7c-421f-fa53-3252aea3f6e8"
      },
      "source": [
        "#applying above to a new tensor\n",
        "tf.random.set_seed(42)\n",
        "F = tf.random.uniform(shape = [50])\n",
        "F"
      ],
      "execution_count": null,
      "outputs": [
        {
          "output_type": "execute_result",
          "data": {
            "text/plain": [
              "<tf.Tensor: shape=(50,), dtype=float32, numpy=\n",
              "array([0.6645621 , 0.44100678, 0.3528825 , 0.46448255, 0.03366041,\n",
              "       0.68467236, 0.74011743, 0.8724445 , 0.22632635, 0.22319686,\n",
              "       0.3103881 , 0.7223358 , 0.13318717, 0.5480639 , 0.5746088 ,\n",
              "       0.8996835 , 0.00946367, 0.5212307 , 0.6345445 , 0.1993283 ,\n",
              "       0.72942245, 0.54583454, 0.10756552, 0.6767061 , 0.6602763 ,\n",
              "       0.33695042, 0.60141766, 0.21062577, 0.8527372 , 0.44062173,\n",
              "       0.9485276 , 0.23752594, 0.81179297, 0.5263394 , 0.494308  ,\n",
              "       0.21612847, 0.8457197 , 0.8718841 , 0.3083862 , 0.6868038 ,\n",
              "       0.23764038, 0.7817228 , 0.9671384 , 0.06870162, 0.79873943,\n",
              "       0.66028714, 0.5871513 , 0.16461694, 0.7381023 , 0.32054043],\n",
              "      dtype=float32)>"
            ]
          },
          "metadata": {},
          "execution_count": 102
        }
      ]
    },
    {
      "cell_type": "code",
      "metadata": {
        "colab": {
          "base_uri": "https://localhost:8080/"
        },
        "id": "Fd4HQPYL6yTY",
        "outputId": "26f89aa5-df0e-43e9-ac94-47573f941875"
      },
      "source": [
        "F_argmax = tf.argmax(F)\n",
        "F_argmax"
      ],
      "execution_count": null,
      "outputs": [
        {
          "output_type": "execute_result",
          "data": {
            "text/plain": [
              "<tf.Tensor: shape=(), dtype=int64, numpy=42>"
            ]
          },
          "metadata": {},
          "execution_count": 103
        }
      ]
    },
    {
      "cell_type": "code",
      "metadata": {
        "colab": {
          "base_uri": "https://localhost:8080/"
        },
        "id": "9fL7Ykwb69Sh",
        "outputId": "15711016-f65c-4d13-8a6b-9d469f60a75c"
      },
      "source": [
        "F_argmin = tf.argmin(F)\n",
        "F_argmin"
      ],
      "execution_count": null,
      "outputs": [
        {
          "output_type": "execute_result",
          "data": {
            "text/plain": [
              "<tf.Tensor: shape=(), dtype=int64, numpy=16>"
            ]
          },
          "metadata": {},
          "execution_count": 104
        }
      ]
    },
    {
      "cell_type": "code",
      "metadata": {
        "colab": {
          "base_uri": "https://localhost:8080/"
        },
        "id": "WVBu6vue7BpC",
        "outputId": "3ccebc85-29f1-4858-8f4f-975a5612d90b"
      },
      "source": [
        "# indexing maximum and minimum\n",
        "F[tf.argmax(F)] , F[tf.argmin(F)]"
      ],
      "execution_count": null,
      "outputs": [
        {
          "output_type": "execute_result",
          "data": {
            "text/plain": [
              "(<tf.Tensor: shape=(), dtype=float32, numpy=0.9671384>,\n",
              " <tf.Tensor: shape=(), dtype=float32, numpy=0.009463668>)"
            ]
          },
          "metadata": {},
          "execution_count": 106
        }
      ]
    },
    {
      "cell_type": "code",
      "metadata": {
        "colab": {
          "base_uri": "https://localhost:8080/"
        },
        "id": "oswFHbW783w3",
        "outputId": "1be3f912-db49-421d-b43d-d8861bc0110b"
      },
      "source": [
        "F.ndim"
      ],
      "execution_count": null,
      "outputs": [
        {
          "output_type": "execute_result",
          "data": {
            "text/plain": [
              "1"
            ]
          },
          "metadata": {},
          "execution_count": 107
        }
      ]
    },
    {
      "cell_type": "code",
      "metadata": {
        "colab": {
          "base_uri": "https://localhost:8080/"
        },
        "id": "J7AibxZd9B4g",
        "outputId": "cbba38d4-58fd-4743-dc7d-85cb4c2bc320"
      },
      "source": [
        "tf.rank(F)"
      ],
      "execution_count": null,
      "outputs": [
        {
          "output_type": "execute_result",
          "data": {
            "text/plain": [
              "<tf.Tensor: shape=(), dtype=int32, numpy=1>"
            ]
          },
          "metadata": {},
          "execution_count": 109
        }
      ]
    },
    {
      "cell_type": "code",
      "metadata": {
        "colab": {
          "base_uri": "https://localhost:8080/"
        },
        "id": "Yt3zO8Oo9DDI",
        "outputId": "20450801-77a2-48b8-e6ee-3aec68f9b3bf"
      },
      "source": [
        "tf.reduce_max(F) , tf.reduce_min(F)# this matchs the above values\n"
      ],
      "execution_count": null,
      "outputs": [
        {
          "output_type": "execute_result",
          "data": {
            "text/plain": [
              "(<tf.Tensor: shape=(), dtype=float32, numpy=0.9671384>,\n",
              " <tf.Tensor: shape=(), dtype=float32, numpy=0.009463668>)"
            ]
          },
          "metadata": {},
          "execution_count": 111
        }
      ]
    },
    {
      "cell_type": "markdown",
      "metadata": {
        "id": "Y_NIx_LB9kgK"
      },
      "source": [
        "### Squeezing a tensor( removing all 1 - dimension axes)\n",
        "\n",
        "* removing all single dimensions\n"
      ]
    },
    {
      "cell_type": "code",
      "metadata": {
        "colab": {
          "base_uri": "https://localhost:8080/"
        },
        "id": "0ZCz2On0-VM_",
        "outputId": "d9217db8-b3d8-440e-fcfe-d4b67bb5b534"
      },
      "source": [
        "# create a tensor to get started\n",
        "tf.random.set_seed(42)\n",
        "G = tf.constant(tf.random.uniform(shape=[50]),shape=(1,1,1,1,50))\n",
        "G"
      ],
      "execution_count": null,
      "outputs": [
        {
          "output_type": "execute_result",
          "data": {
            "text/plain": [
              "<tf.Tensor: shape=(1, 1, 1, 1, 50), dtype=float32, numpy=\n",
              "array([[[[[0.6645621 , 0.44100678, 0.3528825 , 0.46448255, 0.03366041,\n",
              "           0.68467236, 0.74011743, 0.8724445 , 0.22632635, 0.22319686,\n",
              "           0.3103881 , 0.7223358 , 0.13318717, 0.5480639 , 0.5746088 ,\n",
              "           0.8996835 , 0.00946367, 0.5212307 , 0.6345445 , 0.1993283 ,\n",
              "           0.72942245, 0.54583454, 0.10756552, 0.6767061 , 0.6602763 ,\n",
              "           0.33695042, 0.60141766, 0.21062577, 0.8527372 , 0.44062173,\n",
              "           0.9485276 , 0.23752594, 0.81179297, 0.5263394 , 0.494308  ,\n",
              "           0.21612847, 0.8457197 , 0.8718841 , 0.3083862 , 0.6868038 ,\n",
              "           0.23764038, 0.7817228 , 0.9671384 , 0.06870162, 0.79873943,\n",
              "           0.66028714, 0.5871513 , 0.16461694, 0.7381023 , 0.32054043]]]]],\n",
              "      dtype=float32)>"
            ]
          },
          "metadata": {},
          "execution_count": 114
        }
      ]
    },
    {
      "cell_type": "code",
      "metadata": {
        "colab": {
          "base_uri": "https://localhost:8080/"
        },
        "id": "SsOtZ1Oe-05t",
        "outputId": "ef5efaba-f00d-4e27-eb79-59947ab32c36"
      },
      "source": [
        "G.shape"
      ],
      "execution_count": null,
      "outputs": [
        {
          "output_type": "execute_result",
          "data": {
            "text/plain": [
              "TensorShape([1, 1, 1, 1, 50])"
            ]
          },
          "metadata": {},
          "execution_count": 115
        }
      ]
    },
    {
      "cell_type": "code",
      "metadata": {
        "colab": {
          "base_uri": "https://localhost:8080/"
        },
        "id": "oRtKGSZC_GvI",
        "outputId": "14de5a5c-1e45-4002-b002-83437edca4a5"
      },
      "source": [
        "G_squeezed = tf.squeeze(G)\n",
        "G_squeezed"
      ],
      "execution_count": null,
      "outputs": [
        {
          "output_type": "execute_result",
          "data": {
            "text/plain": [
              "<tf.Tensor: shape=(50,), dtype=float32, numpy=\n",
              "array([0.6645621 , 0.44100678, 0.3528825 , 0.46448255, 0.03366041,\n",
              "       0.68467236, 0.74011743, 0.8724445 , 0.22632635, 0.22319686,\n",
              "       0.3103881 , 0.7223358 , 0.13318717, 0.5480639 , 0.5746088 ,\n",
              "       0.8996835 , 0.00946367, 0.5212307 , 0.6345445 , 0.1993283 ,\n",
              "       0.72942245, 0.54583454, 0.10756552, 0.6767061 , 0.6602763 ,\n",
              "       0.33695042, 0.60141766, 0.21062577, 0.8527372 , 0.44062173,\n",
              "       0.9485276 , 0.23752594, 0.81179297, 0.5263394 , 0.494308  ,\n",
              "       0.21612847, 0.8457197 , 0.8718841 , 0.3083862 , 0.6868038 ,\n",
              "       0.23764038, 0.7817228 , 0.9671384 , 0.06870162, 0.79873943,\n",
              "       0.66028714, 0.5871513 , 0.16461694, 0.7381023 , 0.32054043],\n",
              "      dtype=float32)>"
            ]
          },
          "metadata": {},
          "execution_count": 117
        }
      ]
    },
    {
      "cell_type": "code",
      "metadata": {
        "colab": {
          "base_uri": "https://localhost:8080/"
        },
        "id": "BRrwAicg_Myc",
        "outputId": "42644c6e-1b7c-4e8b-d691-d23e470006d0"
      },
      "source": [
        "G_squeezed.shape"
      ],
      "execution_count": null,
      "outputs": [
        {
          "output_type": "execute_result",
          "data": {
            "text/plain": [
              "TensorShape([50])"
            ]
          },
          "metadata": {},
          "execution_count": 119
        }
      ]
    },
    {
      "cell_type": "markdown",
      "metadata": {
        "id": "5CAgehF6_Rau"
      },
      "source": [
        "### One-hot encoding tensors"
      ]
    },
    {
      "cell_type": "code",
      "metadata": {
        "colab": {
          "base_uri": "https://localhost:8080/"
        },
        "id": "NdhZVTIZAoGe",
        "outputId": "90d351c4-e67f-4ab5-d2a8-f04179d6533d"
      },
      "source": [
        "some_list = [0,1,2,3] # could be red , green , blue, purple\n",
        "\n",
        "# one hot encode our list of indices\n",
        "tf.one_hot(some_list,depth = len(some_list))"
      ],
      "execution_count": null,
      "outputs": [
        {
          "output_type": "execute_result",
          "data": {
            "text/plain": [
              "<tf.Tensor: shape=(4, 4), dtype=float32, numpy=\n",
              "array([[1., 0., 0., 0.],\n",
              "       [0., 1., 0., 0.],\n",
              "       [0., 0., 1., 0.],\n",
              "       [0., 0., 0., 1.]], dtype=float32)>"
            ]
          },
          "metadata": {},
          "execution_count": 120
        }
      ]
    },
    {
      "cell_type": "code",
      "metadata": {
        "colab": {
          "base_uri": "https://localhost:8080/"
        },
        "id": "BtNPlaRRCJIZ",
        "outputId": "9b025609-c960-431c-e5b2-2fd3a01fbb76"
      },
      "source": [
        "# changing the depth value for above code\n",
        "tf.one_hot(some_list,depth=2)"
      ],
      "execution_count": null,
      "outputs": [
        {
          "output_type": "execute_result",
          "data": {
            "text/plain": [
              "<tf.Tensor: shape=(4, 2), dtype=float32, numpy=\n",
              "array([[1., 0.],\n",
              "       [0., 1.],\n",
              "       [0., 0.],\n",
              "       [0., 0.]], dtype=float32)>"
            ]
          },
          "metadata": {},
          "execution_count": 122
        }
      ]
    },
    {
      "cell_type": "code",
      "metadata": {
        "colab": {
          "base_uri": "https://localhost:8080/"
        },
        "id": "G_GWS97KBW03",
        "outputId": "d1568178-b3a5-4536-831d-39974b01d280"
      },
      "source": [
        "# specify custome values for one hot encoding\n",
        "\n",
        "tf.one_hot(some_list , depth = 4,on_value='yo I love deep learning',off_value = 'I also like to dance')"
      ],
      "execution_count": null,
      "outputs": [
        {
          "output_type": "execute_result",
          "data": {
            "text/plain": [
              "<tf.Tensor: shape=(4, 4), dtype=string, numpy=\n",
              "array([[b'yo I love deep learning', b'I also like to dance',\n",
              "        b'I also like to dance', b'I also like to dance'],\n",
              "       [b'I also like to dance', b'yo I love deep learning',\n",
              "        b'I also like to dance', b'I also like to dance'],\n",
              "       [b'I also like to dance', b'I also like to dance',\n",
              "        b'yo I love deep learning', b'I also like to dance'],\n",
              "       [b'I also like to dance', b'I also like to dance',\n",
              "        b'I also like to dance', b'yo I love deep learning']],\n",
              "      dtype=object)>"
            ]
          },
          "metadata": {},
          "execution_count": 121
        }
      ]
    },
    {
      "cell_type": "markdown",
      "metadata": {
        "id": "p0a5GBoYB2_Y"
      },
      "source": [
        "### Squaring , log , square root"
      ]
    },
    {
      "cell_type": "code",
      "metadata": {
        "colab": {
          "base_uri": "https://localhost:8080/"
        },
        "id": "6QIJjZnrCkV6",
        "outputId": "157df64f-c3c6-4236-cc62-7372aa094014"
      },
      "source": [
        "H = tf.range(1,10)\n",
        "H"
      ],
      "execution_count": null,
      "outputs": [
        {
          "output_type": "execute_result",
          "data": {
            "text/plain": [
              "<tf.Tensor: shape=(9,), dtype=int32, numpy=array([1, 2, 3, 4, 5, 6, 7, 8, 9], dtype=int32)>"
            ]
          },
          "metadata": {},
          "execution_count": 123
        }
      ]
    },
    {
      "cell_type": "code",
      "metadata": {
        "colab": {
          "base_uri": "https://localhost:8080/"
        },
        "id": "QCkwGyr3Cm3X",
        "outputId": "8957457a-a235-46d0-9ff9-0b5b8332bf2e"
      },
      "source": [
        "# square it\n",
        "tf.square(H)"
      ],
      "execution_count": null,
      "outputs": [
        {
          "output_type": "execute_result",
          "data": {
            "text/plain": [
              "<tf.Tensor: shape=(9,), dtype=int32, numpy=array([ 1,  4,  9, 16, 25, 36, 49, 64, 81], dtype=int32)>"
            ]
          },
          "metadata": {},
          "execution_count": 124
        }
      ]
    },
    {
      "cell_type": "code",
      "metadata": {
        "colab": {
          "base_uri": "https://localhost:8080/",
          "height": 398
        },
        "id": "JL1Lmj3PDAtI",
        "outputId": "c37171ce-97b5-42e8-bd4d-66a3b6ca8962"
      },
      "source": [
        "# square root( will error, method require non -int type )\n",
        "tf.sqrt((H))"
      ],
      "execution_count": null,
      "outputs": [
        {
          "output_type": "error",
          "ename": "InvalidArgumentError",
          "evalue": "ignored",
          "traceback": [
            "\u001b[0;31m---------------------------------------------------------------------------\u001b[0m",
            "\u001b[0;31mInvalidArgumentError\u001b[0m                      Traceback (most recent call last)",
            "\u001b[0;32m<ipython-input-126-14a936b2b88d>\u001b[0m in \u001b[0;36m<module>\u001b[0;34m()\u001b[0m\n\u001b[1;32m      1\u001b[0m \u001b[0;31m# square root( will error, method require non -int type )\u001b[0m\u001b[0;34m\u001b[0m\u001b[0;34m\u001b[0m\u001b[0;34m\u001b[0m\u001b[0m\n\u001b[0;32m----> 2\u001b[0;31m \u001b[0mtf\u001b[0m\u001b[0;34m.\u001b[0m\u001b[0msqrt\u001b[0m\u001b[0;34m(\u001b[0m\u001b[0;34m(\u001b[0m\u001b[0mH\u001b[0m\u001b[0;34m)\u001b[0m\u001b[0;34m)\u001b[0m\u001b[0;34m\u001b[0m\u001b[0;34m\u001b[0m\u001b[0m\n\u001b[0m",
            "\u001b[0;32m/usr/local/lib/python3.7/dist-packages/tensorflow/python/util/traceback_utils.py\u001b[0m in \u001b[0;36merror_handler\u001b[0;34m(*args, **kwargs)\u001b[0m\n\u001b[1;32m    151\u001b[0m     \u001b[0;32mexcept\u001b[0m \u001b[0mException\u001b[0m \u001b[0;32mas\u001b[0m \u001b[0me\u001b[0m\u001b[0;34m:\u001b[0m\u001b[0;34m\u001b[0m\u001b[0;34m\u001b[0m\u001b[0m\n\u001b[1;32m    152\u001b[0m       \u001b[0mfiltered_tb\u001b[0m \u001b[0;34m=\u001b[0m \u001b[0m_process_traceback_frames\u001b[0m\u001b[0;34m(\u001b[0m\u001b[0me\u001b[0m\u001b[0;34m.\u001b[0m\u001b[0m__traceback__\u001b[0m\u001b[0;34m)\u001b[0m\u001b[0;34m\u001b[0m\u001b[0;34m\u001b[0m\u001b[0m\n\u001b[0;32m--> 153\u001b[0;31m       \u001b[0;32mraise\u001b[0m \u001b[0me\u001b[0m\u001b[0;34m.\u001b[0m\u001b[0mwith_traceback\u001b[0m\u001b[0;34m(\u001b[0m\u001b[0mfiltered_tb\u001b[0m\u001b[0;34m)\u001b[0m \u001b[0;32mfrom\u001b[0m \u001b[0;32mNone\u001b[0m\u001b[0;34m\u001b[0m\u001b[0;34m\u001b[0m\u001b[0m\n\u001b[0m\u001b[1;32m    154\u001b[0m     \u001b[0;32mfinally\u001b[0m\u001b[0;34m:\u001b[0m\u001b[0;34m\u001b[0m\u001b[0;34m\u001b[0m\u001b[0m\n\u001b[1;32m    155\u001b[0m       \u001b[0;32mdel\u001b[0m \u001b[0mfiltered_tb\u001b[0m\u001b[0;34m\u001b[0m\u001b[0;34m\u001b[0m\u001b[0m\n",
            "\u001b[0;32m/usr/local/lib/python3.7/dist-packages/tensorflow/python/framework/ops.py\u001b[0m in \u001b[0;36mraise_from_not_ok_status\u001b[0;34m(e, name)\u001b[0m\n\u001b[1;32m   7105\u001b[0m \u001b[0;32mdef\u001b[0m \u001b[0mraise_from_not_ok_status\u001b[0m\u001b[0;34m(\u001b[0m\u001b[0me\u001b[0m\u001b[0;34m,\u001b[0m \u001b[0mname\u001b[0m\u001b[0;34m)\u001b[0m\u001b[0;34m:\u001b[0m\u001b[0;34m\u001b[0m\u001b[0;34m\u001b[0m\u001b[0m\n\u001b[1;32m   7106\u001b[0m   \u001b[0me\u001b[0m\u001b[0;34m.\u001b[0m\u001b[0mmessage\u001b[0m \u001b[0;34m+=\u001b[0m \u001b[0;34m(\u001b[0m\u001b[0;34m\" name: \"\u001b[0m \u001b[0;34m+\u001b[0m \u001b[0mname\u001b[0m \u001b[0;32mif\u001b[0m \u001b[0mname\u001b[0m \u001b[0;32mis\u001b[0m \u001b[0;32mnot\u001b[0m \u001b[0;32mNone\u001b[0m \u001b[0;32melse\u001b[0m \u001b[0;34m\"\"\u001b[0m\u001b[0;34m)\u001b[0m\u001b[0;34m\u001b[0m\u001b[0;34m\u001b[0m\u001b[0m\n\u001b[0;32m-> 7107\u001b[0;31m   \u001b[0;32mraise\u001b[0m \u001b[0mcore\u001b[0m\u001b[0;34m.\u001b[0m\u001b[0m_status_to_exception\u001b[0m\u001b[0;34m(\u001b[0m\u001b[0me\u001b[0m\u001b[0;34m)\u001b[0m \u001b[0;32mfrom\u001b[0m \u001b[0;32mNone\u001b[0m  \u001b[0;31m# pylint: disable=protected-access\u001b[0m\u001b[0;34m\u001b[0m\u001b[0;34m\u001b[0m\u001b[0m\n\u001b[0m\u001b[1;32m   7108\u001b[0m \u001b[0;34m\u001b[0m\u001b[0m\n\u001b[1;32m   7109\u001b[0m \u001b[0;34m\u001b[0m\u001b[0m\n",
            "\u001b[0;31mInvalidArgumentError\u001b[0m: Value for attr 'T' of int32 is not in the list of allowed values: bfloat16, half, float, double, complex64, complex128\n\t; NodeDef: {{node Sqrt}}; Op<name=Sqrt; signature=x:T -> y:T; attr=T:type,allowed=[DT_BFLOAT16, DT_HALF, DT_FLOAT, DT_DOUBLE, DT_COMPLEX64, DT_COMPLEX128]> [Op:Sqrt]"
          ]
        }
      ]
    },
    {
      "cell_type": "code",
      "metadata": {
        "colab": {
          "base_uri": "https://localhost:8080/"
        },
        "id": "JT3jgOb_CrAm",
        "outputId": "94de0f1f-3dfa-4c97-a8d2-32186b5a2957"
      },
      "source": [
        "# square root\n",
        "tf.sqrt(tf.cast(H,dtype=tf.float32))"
      ],
      "execution_count": null,
      "outputs": [
        {
          "output_type": "execute_result",
          "data": {
            "text/plain": [
              "<tf.Tensor: shape=(9,), dtype=float32, numpy=\n",
              "array([0.99999994, 1.4142134 , 1.7320508 , 1.9999999 , 2.236068  ,\n",
              "       2.4494896 , 2.6457512 , 2.8284268 , 3.        ], dtype=float32)>"
            ]
          },
          "metadata": {},
          "execution_count": 125
        }
      ]
    },
    {
      "cell_type": "code",
      "metadata": {
        "colab": {
          "base_uri": "https://localhost:8080/",
          "height": 398
        },
        "id": "ma8l_4RiC4RC",
        "outputId": "0cdfd7d5-3493-4aa8-af98-9d7ce1042ac9"
      },
      "source": [
        "# log ( will have the smae error as above for sqrt)\n",
        "tf.math.log(H)"
      ],
      "execution_count": null,
      "outputs": [
        {
          "output_type": "error",
          "ename": "InvalidArgumentError",
          "evalue": "ignored",
          "traceback": [
            "\u001b[0;31m---------------------------------------------------------------------------\u001b[0m",
            "\u001b[0;31mInvalidArgumentError\u001b[0m                      Traceback (most recent call last)",
            "\u001b[0;32m<ipython-input-127-4410a207a2b8>\u001b[0m in \u001b[0;36m<module>\u001b[0;34m()\u001b[0m\n\u001b[1;32m      1\u001b[0m \u001b[0;31m# log\u001b[0m\u001b[0;34m\u001b[0m\u001b[0;34m\u001b[0m\u001b[0;34m\u001b[0m\u001b[0m\n\u001b[0;32m----> 2\u001b[0;31m \u001b[0mtf\u001b[0m\u001b[0;34m.\u001b[0m\u001b[0mmath\u001b[0m\u001b[0;34m.\u001b[0m\u001b[0mlog\u001b[0m\u001b[0;34m(\u001b[0m\u001b[0mH\u001b[0m\u001b[0;34m)\u001b[0m\u001b[0;34m\u001b[0m\u001b[0;34m\u001b[0m\u001b[0m\n\u001b[0m",
            "\u001b[0;32m/usr/local/lib/python3.7/dist-packages/tensorflow/python/ops/gen_math_ops.py\u001b[0m in \u001b[0;36mlog\u001b[0;34m(x, name)\u001b[0m\n\u001b[1;32m   5468\u001b[0m       \u001b[0;32mreturn\u001b[0m \u001b[0m_result\u001b[0m\u001b[0;34m\u001b[0m\u001b[0;34m\u001b[0m\u001b[0m\n\u001b[1;32m   5469\u001b[0m     \u001b[0;32mexcept\u001b[0m \u001b[0m_core\u001b[0m\u001b[0;34m.\u001b[0m\u001b[0m_NotOkStatusException\u001b[0m \u001b[0;32mas\u001b[0m \u001b[0me\u001b[0m\u001b[0;34m:\u001b[0m\u001b[0;34m\u001b[0m\u001b[0;34m\u001b[0m\u001b[0m\n\u001b[0;32m-> 5470\u001b[0;31m       \u001b[0m_ops\u001b[0m\u001b[0;34m.\u001b[0m\u001b[0mraise_from_not_ok_status\u001b[0m\u001b[0;34m(\u001b[0m\u001b[0me\u001b[0m\u001b[0;34m,\u001b[0m \u001b[0mname\u001b[0m\u001b[0;34m)\u001b[0m\u001b[0;34m\u001b[0m\u001b[0;34m\u001b[0m\u001b[0m\n\u001b[0m\u001b[1;32m   5471\u001b[0m     \u001b[0;32mexcept\u001b[0m \u001b[0m_core\u001b[0m\u001b[0;34m.\u001b[0m\u001b[0m_FallbackException\u001b[0m\u001b[0;34m:\u001b[0m\u001b[0;34m\u001b[0m\u001b[0;34m\u001b[0m\u001b[0m\n\u001b[1;32m   5472\u001b[0m       \u001b[0;32mpass\u001b[0m\u001b[0;34m\u001b[0m\u001b[0;34m\u001b[0m\u001b[0m\n",
            "\u001b[0;32m/usr/local/lib/python3.7/dist-packages/tensorflow/python/framework/ops.py\u001b[0m in \u001b[0;36mraise_from_not_ok_status\u001b[0;34m(e, name)\u001b[0m\n\u001b[1;32m   7105\u001b[0m \u001b[0;32mdef\u001b[0m \u001b[0mraise_from_not_ok_status\u001b[0m\u001b[0;34m(\u001b[0m\u001b[0me\u001b[0m\u001b[0;34m,\u001b[0m \u001b[0mname\u001b[0m\u001b[0;34m)\u001b[0m\u001b[0;34m:\u001b[0m\u001b[0;34m\u001b[0m\u001b[0;34m\u001b[0m\u001b[0m\n\u001b[1;32m   7106\u001b[0m   \u001b[0me\u001b[0m\u001b[0;34m.\u001b[0m\u001b[0mmessage\u001b[0m \u001b[0;34m+=\u001b[0m \u001b[0;34m(\u001b[0m\u001b[0;34m\" name: \"\u001b[0m \u001b[0;34m+\u001b[0m \u001b[0mname\u001b[0m \u001b[0;32mif\u001b[0m \u001b[0mname\u001b[0m \u001b[0;32mis\u001b[0m \u001b[0;32mnot\u001b[0m \u001b[0;32mNone\u001b[0m \u001b[0;32melse\u001b[0m \u001b[0;34m\"\"\u001b[0m\u001b[0;34m)\u001b[0m\u001b[0;34m\u001b[0m\u001b[0;34m\u001b[0m\u001b[0m\n\u001b[0;32m-> 7107\u001b[0;31m   \u001b[0;32mraise\u001b[0m \u001b[0mcore\u001b[0m\u001b[0;34m.\u001b[0m\u001b[0m_status_to_exception\u001b[0m\u001b[0;34m(\u001b[0m\u001b[0me\u001b[0m\u001b[0;34m)\u001b[0m \u001b[0;32mfrom\u001b[0m \u001b[0;32mNone\u001b[0m  \u001b[0;31m# pylint: disable=protected-access\u001b[0m\u001b[0;34m\u001b[0m\u001b[0;34m\u001b[0m\u001b[0m\n\u001b[0m\u001b[1;32m   7108\u001b[0m \u001b[0;34m\u001b[0m\u001b[0m\n\u001b[1;32m   7109\u001b[0m \u001b[0;34m\u001b[0m\u001b[0m\n",
            "\u001b[0;31mInvalidArgumentError\u001b[0m: Value for attr 'T' of int32 is not in the list of allowed values: bfloat16, half, float, double, complex64, complex128\n\t; NodeDef: {{node Log}}; Op<name=Log; signature=x:T -> y:T; attr=T:type,allowed=[DT_BFLOAT16, DT_HALF, DT_FLOAT, DT_DOUBLE, DT_COMPLEX64, DT_COMPLEX128]> [Op:Log]"
          ]
        }
      ]
    },
    {
      "cell_type": "code",
      "metadata": {
        "colab": {
          "base_uri": "https://localhost:8080/"
        },
        "id": "obxs11BFDO-x",
        "outputId": "d6614383-85d5-41a0-8dc0-896aa1692260"
      },
      "source": [
        "tf.math.log(tf.cast(H,dtype=tf.float32))"
      ],
      "execution_count": null,
      "outputs": [
        {
          "output_type": "execute_result",
          "data": {
            "text/plain": [
              "<tf.Tensor: shape=(9,), dtype=float32, numpy=\n",
              "array([0.       , 0.6931472, 1.0986123, 1.3862944, 1.609438 , 1.7917595,\n",
              "       1.9459102, 2.0794415, 2.1972246], dtype=float32)>"
            ]
          },
          "metadata": {},
          "execution_count": 128
        }
      ]
    },
    {
      "cell_type": "markdown",
      "metadata": {
        "id": "HKmHibX7DYHV"
      },
      "source": [
        "### tensorflow and numpy compatibility\n",
        "\n",
        "\n",
        "Tensorflow interacts beautifully with NumPy arrays"
      ]
    },
    {
      "cell_type": "code",
      "metadata": {
        "colab": {
          "base_uri": "https://localhost:8080/"
        },
        "id": "1j1HCvD3DvbX",
        "outputId": "3b9c4c89-48eb-42fe-c1e5-368afbeb7a97"
      },
      "source": [
        "J = tf.constant(np.array([3.,7.,10.]))\n",
        "J"
      ],
      "execution_count": null,
      "outputs": [
        {
          "output_type": "execute_result",
          "data": {
            "text/plain": [
              "<tf.Tensor: shape=(3,), dtype=float64, numpy=array([ 3.,  7., 10.])>"
            ]
          },
          "metadata": {},
          "execution_count": 130
        }
      ]
    },
    {
      "cell_type": "code",
      "metadata": {
        "colab": {
          "base_uri": "https://localhost:8080/"
        },
        "id": "kTc0ma64D7om",
        "outputId": "72a36530-dd47-4a44-f8cf-5c1d77165158"
      },
      "source": [
        "# convert our tensor back to our numpy array\n",
        "np.array(J) , type(np.array(J))"
      ],
      "execution_count": null,
      "outputs": [
        {
          "output_type": "execute_result",
          "data": {
            "text/plain": [
              "(array([ 3.,  7., 10.]), numpy.ndarray)"
            ]
          },
          "metadata": {},
          "execution_count": 131
        }
      ]
    },
    {
      "cell_type": "code",
      "metadata": {
        "colab": {
          "base_uri": "https://localhost:8080/"
        },
        "id": "aOOGaVT3EDIe",
        "outputId": "2ca80c9d-ece0-4acf-d695-f7a9591cb06b"
      },
      "source": [
        "# convert tensor J to a numpy array\n",
        "J.numpy() , type(J.numpy())"
      ],
      "execution_count": null,
      "outputs": [
        {
          "output_type": "execute_result",
          "data": {
            "text/plain": [
              "(array([ 3.,  7., 10.]), numpy.ndarray)"
            ]
          },
          "metadata": {},
          "execution_count": 132
        }
      ]
    },
    {
      "cell_type": "code",
      "metadata": {
        "colab": {
          "base_uri": "https://localhost:8080/"
        },
        "id": "GMXeXIPtEMJc",
        "outputId": "b5ced5e1-2735-4751-bfdf-bc177253ff6b"
      },
      "source": [
        "# if we want to do some type of operation and it doesn't work with tensor and we \n",
        "# know it could work with numpy then we may convert the tensor into numpy and do the \n",
        "# operation\n",
        "J.numpy()[2] # slicing the array"
      ],
      "execution_count": null,
      "outputs": [
        {
          "output_type": "execute_result",
          "data": {
            "text/plain": [
              "10.0"
            ]
          },
          "metadata": {},
          "execution_count": 133
        }
      ]
    },
    {
      "cell_type": "code",
      "metadata": {
        "colab": {
          "base_uri": "https://localhost:8080/"
        },
        "id": "uJU_4TQmEjo-",
        "outputId": "b13fe099-cad0-4ab5-f653-10b38593bd5a"
      },
      "source": [
        "# Deafult types of each are slightly different\n",
        "\n",
        "numpy_J = tf.constant( np.array([3.,7.,10.]))\n",
        "tensor_J = tf.constant([3.,7.,10.])\n",
        "\n",
        "# check the data type of each \n",
        "\n",
        "numpy_J.dtype , tensor_J.dtype"
      ],
      "execution_count": null,
      "outputs": [
        {
          "output_type": "execute_result",
          "data": {
            "text/plain": [
              "(tf.float64, tf.float32)"
            ]
          },
          "metadata": {},
          "execution_count": 137
        }
      ]
    },
    {
      "cell_type": "markdown",
      "metadata": {
        "id": "Q8yYNZulE764"
      },
      "source": [
        "### Finding access to GPUs"
      ]
    },
    {
      "cell_type": "code",
      "metadata": {
        "colab": {
          "base_uri": "https://localhost:8080/"
        },
        "id": "kls_4qISFufC",
        "outputId": "adeabbf6-b833-4a0d-91e2-8c0c40928525"
      },
      "source": [
        "tf.test.is_gpu_available()"
      ],
      "execution_count": null,
      "outputs": [
        {
          "output_type": "stream",
          "name": "stdout",
          "text": [
            "WARNING:tensorflow:From <ipython-input-141-17bb7203622b>:1: is_gpu_available (from tensorflow.python.framework.test_util) is deprecated and will be removed in a future version.\n",
            "Instructions for updating:\n",
            "Use `tf.config.list_physical_devices('GPU')` instead.\n"
          ]
        },
        {
          "output_type": "execute_result",
          "data": {
            "text/plain": [
              "False"
            ]
          },
          "metadata": {},
          "execution_count": 141
        }
      ]
    },
    {
      "cell_type": "code",
      "metadata": {
        "colab": {
          "base_uri": "https://localhost:8080/"
        },
        "id": "3tP2bkNgF4wd",
        "outputId": "1c69f01d-9da4-437b-c917-ca2f22fb31d5"
      },
      "source": [
        "tf.config.list_physical_devices()"
      ],
      "execution_count": null,
      "outputs": [
        {
          "output_type": "execute_result",
          "data": {
            "text/plain": [
              "[PhysicalDevice(name='/physical_device:CPU:0', device_type='CPU')]"
            ]
          },
          "metadata": {},
          "execution_count": 142
        }
      ]
    },
    {
      "cell_type": "code",
      "metadata": {
        "colab": {
          "base_uri": "https://localhost:8080/"
        },
        "id": "VE5vv1A7GCG6",
        "outputId": "27e18eaf-183e-48a8-bb8a-12abb6bdd6db"
      },
      "source": [
        "!nvidia-smi"
      ],
      "execution_count": null,
      "outputs": [
        {
          "output_type": "stream",
          "name": "stdout",
          "text": [
            "NVIDIA-SMI has failed because it couldn't communicate with the NVIDIA driver. Make sure that the latest NVIDIA driver is installed and running.\n",
            "\n"
          ]
        }
      ]
    },
    {
      "cell_type": "markdown",
      "metadata": {
        "id": "zgRACdJGG7_0"
      },
      "source": [
        "### Tensorflow FUndamentals Exercise"
      ]
    },
    {
      "cell_type": "code",
      "metadata": {
        "colab": {
          "base_uri": "https://localhost:8080/"
        },
        "id": "tuZrGP-UIVQX",
        "outputId": "dbcd4bd3-cc09-4e37-f21a-f0b56cafbee6"
      },
      "source": [
        "# 1)\n",
        "vector = tf.constant([1.])\n",
        "scalar = tf.constant([1.,2.,3.])\n",
        "matrix = tf.constant([[1.,2.,3.],\n",
        "                      [4.,5.,6.]])\n",
        "tensor = tf.constant(np.arange(24),shape=(1,2,3,4))\n",
        "print(vector,\n",
        "scalar,\n",
        "matrix,\n",
        "tensor)"
      ],
      "execution_count": null,
      "outputs": [
        {
          "output_type": "stream",
          "name": "stdout",
          "text": [
            "tf.Tensor([1.], shape=(1,), dtype=float32) tf.Tensor([1. 2. 3.], shape=(3,), dtype=float32) tf.Tensor(\n",
            "[[1. 2. 3.]\n",
            " [4. 5. 6.]], shape=(2, 3), dtype=float32) tf.Tensor(\n",
            "[[[[ 0  1  2  3]\n",
            "   [ 4  5  6  7]\n",
            "   [ 8  9 10 11]]\n",
            "\n",
            "  [[12 13 14 15]\n",
            "   [16 17 18 19]\n",
            "   [20 21 22 23]]]], shape=(1, 2, 3, 4), dtype=int64)\n"
          ]
        }
      ]
    },
    {
      "cell_type": "code",
      "metadata": {
        "colab": {
          "base_uri": "https://localhost:8080/"
        },
        "id": "Nz5qM1jHIytB",
        "outputId": "b386919b-6285-45e7-d3c7-bb96d99b07f1"
      },
      "source": [
        "#2)\n",
        "tensor.shape , tf.rank(tensor) , tf.size(tensor), tensor.ndim"
      ],
      "execution_count": null,
      "outputs": [
        {
          "output_type": "execute_result",
          "data": {
            "text/plain": [
              "(TensorShape([1, 2, 3, 4]),\n",
              " <tf.Tensor: shape=(), dtype=int32, numpy=4>,\n",
              " <tf.Tensor: shape=(), dtype=int32, numpy=24>,\n",
              " 4)"
            ]
          },
          "metadata": {},
          "execution_count": 150
        }
      ]
    },
    {
      "cell_type": "code",
      "metadata": {
        "colab": {
          "base_uri": "https://localhost:8080/"
        },
        "id": "ZcKKyX0YJQEp",
        "outputId": "038cbc1f-e620-43c9-91dd-89968080d879"
      },
      "source": [
        "#3)\n",
        "tensorA = tf.constant(tf.random.uniform(shape=[5,300],minval =0,maxval=1))\n",
        "tensorB = tf.constant(tf.random.uniform(shape=[5,300],minval=0,maxval=1))\n",
        "tensorA , tensorB"
      ],
      "execution_count": null,
      "outputs": [
        {
          "output_type": "execute_result",
          "data": {
            "text/plain": [
              "(<tf.Tensor: shape=(5, 300), dtype=float32, numpy=\n",
              " array([[0.7413678 , 0.62854624, 0.01738465, ..., 0.4851334 , 0.21059811,\n",
              "         0.25082767],\n",
              "        [0.10842848, 0.48783147, 0.8240961 , ..., 0.9204427 , 0.36046863,\n",
              "         0.28176582],\n",
              "        [0.7326695 , 0.46489418, 0.13622475, ..., 0.28130388, 0.63987684,\n",
              "         0.9987265 ],\n",
              "        [0.01447165, 0.7845044 , 0.33475304, ..., 0.56194997, 0.0209924 ,\n",
              "         0.1740731 ],\n",
              "        [0.90936875, 0.19861352, 0.9481231 , ..., 0.3573054 , 0.13161755,\n",
              "         0.22565222]], dtype=float32)>,\n",
              " <tf.Tensor: shape=(5, 300), dtype=float32, numpy=\n",
              " array([[0.7402308 , 0.33938193, 0.5692506 , ..., 0.08656633, 0.19666708,\n",
              "         0.7110305 ],\n",
              "        [0.13257599, 0.81292987, 0.01284087, ..., 0.02695906, 0.2927854 ,\n",
              "         0.06227863],\n",
              "        [0.282601  , 0.47868013, 0.77569485, ..., 0.28239357, 0.632112  ,\n",
              "         0.44452012],\n",
              "        [0.02029276, 0.7841259 , 0.16919017, ..., 0.26143157, 0.43055534,\n",
              "         0.47421408],\n",
              "        [0.2616079 , 0.00913954, 0.20257103, ..., 0.3548187 , 0.9939178 ,\n",
              "         0.35239196]], dtype=float32)>)"
            ]
          },
          "metadata": {},
          "execution_count": 154
        }
      ]
    },
    {
      "cell_type": "code",
      "metadata": {
        "colab": {
          "base_uri": "https://localhost:8080/"
        },
        "id": "_neuea3GJ0ic",
        "outputId": "7535a052-0e60-47c8-f5e3-b3f2b553662e"
      },
      "source": [
        "tensorA_min = tf.reduce_min(tensorA)\n",
        "tensorB_min = tf.reduce_min(tensorB)\n",
        "tensorA_max = tf.reduce_max(tensorA)\n",
        "tensorB_max = tf.reduce_max(tensorB)\n",
        "print(tensorA_min,tensorB_min) \n",
        "print('\\n')\n",
        "print(tensorA_max , tensorB_max)"
      ],
      "execution_count": null,
      "outputs": [
        {
          "output_type": "stream",
          "name": "stdout",
          "text": [
            "tf.Tensor(0.000259161, shape=(), dtype=float32) tf.Tensor(0.0006545782, shape=(), dtype=float32)\n",
            "\n",
            "\n",
            "tf.Tensor(0.9998193, shape=(), dtype=float32) tf.Tensor(0.99864674, shape=(), dtype=float32)\n"
          ]
        }
      ]
    },
    {
      "cell_type": "code",
      "metadata": {
        "colab": {
          "base_uri": "https://localhost:8080/"
        },
        "id": "J3M-SHpjK1Xs",
        "outputId": "cb828668-2c3b-4f31-dcf2-b3bea066dc51"
      },
      "source": [
        "#4)\n",
        "tf.matmul(tensorA , tf.transpose(tensorB))"
      ],
      "execution_count": null,
      "outputs": [
        {
          "output_type": "execute_result",
          "data": {
            "text/plain": [
              "<tf.Tensor: shape=(5, 5), dtype=float32, numpy=\n",
              "array([[72.63513 , 73.275154, 72.47874 , 73.895355, 77.069084],\n",
              "       [76.14803 , 77.38722 , 76.156006, 78.477905, 77.93587 ],\n",
              "       [74.061386, 75.79873 , 74.00405 , 74.95445 , 74.85766 ],\n",
              "       [72.61861 , 77.07387 , 72.674484, 75.916084, 73.15647 ],\n",
              "       [74.65547 , 76.221756, 75.43701 , 76.92053 , 76.65762 ]],\n",
              "      dtype=float32)>"
            ]
          },
          "metadata": {},
          "execution_count": 158
        }
      ]
    },
    {
      "cell_type": "code",
      "metadata": {
        "colab": {
          "base_uri": "https://localhost:8080/"
        },
        "id": "q5Di9ofSLMGN",
        "outputId": "3e67719b-1377-4988-cdae-94238c2643e7"
      },
      "source": [
        "#5)\n",
        "tensorA@tf.transpose(tensorB)"
      ],
      "execution_count": null,
      "outputs": [
        {
          "output_type": "execute_result",
          "data": {
            "text/plain": [
              "<tf.Tensor: shape=(5, 5), dtype=float32, numpy=\n",
              "array([[72.63513 , 73.275154, 72.47874 , 73.895355, 77.069084],\n",
              "       [76.14803 , 77.38722 , 76.156006, 78.477905, 77.93587 ],\n",
              "       [74.061386, 75.79873 , 74.00405 , 74.95445 , 74.85766 ],\n",
              "       [72.61861 , 77.07387 , 72.674484, 75.916084, 73.15647 ],\n",
              "       [74.65547 , 76.221756, 75.43701 , 76.92053 , 76.65762 ]],\n",
              "      dtype=float32)>"
            ]
          },
          "metadata": {},
          "execution_count": 160
        }
      ]
    },
    {
      "cell_type": "code",
      "metadata": {
        "colab": {
          "base_uri": "https://localhost:8080/"
        },
        "id": "7wzgnLoOLhdA",
        "outputId": "14add914-e1c0-43e6-b8df-a311c1ca84c1"
      },
      "source": [
        "#6)\n",
        "tensorC = tf.constant(tf.random.uniform(shape=[224,224,3],minval =0,maxval=1))\n",
        "tensorC"
      ],
      "execution_count": null,
      "outputs": [
        {
          "output_type": "execute_result",
          "data": {
            "text/plain": [
              "<tf.Tensor: shape=(224, 224, 3), dtype=float32, numpy=\n",
              "array([[[8.0315602e-01, 4.9777734e-01, 3.7054038e-01],\n",
              "        [9.1186738e-01, 6.3764203e-01, 1.8209696e-01],\n",
              "        [6.3791955e-01, 2.7701473e-01, 4.2271137e-02],\n",
              "        ...,\n",
              "        [1.0830712e-01, 4.5979273e-01, 2.5716281e-01],\n",
              "        [8.7138689e-01, 1.8434000e-01, 4.4757760e-01],\n",
              "        [7.4110627e-02, 9.0852141e-01, 5.3693414e-01]],\n",
              "\n",
              "       [[5.5596435e-01, 6.8776274e-01, 7.6051474e-02],\n",
              "        [1.6737962e-01, 7.1785092e-01, 2.7642274e-01],\n",
              "        [2.6995218e-01, 3.2203627e-01, 8.8224900e-01],\n",
              "        ...,\n",
              "        [4.8168826e-01, 5.0150025e-01, 8.6756039e-01],\n",
              "        [4.1261053e-01, 1.2770486e-01, 5.8186901e-01],\n",
              "        [2.5495613e-01, 3.9036548e-01, 9.8529553e-01]],\n",
              "\n",
              "       [[8.0935180e-01, 1.9740558e-01, 3.5899937e-01],\n",
              "        [1.1216915e-01, 9.1016293e-04, 3.6382091e-01],\n",
              "        [5.1202202e-01, 3.9188230e-01, 8.8335538e-01],\n",
              "        ...,\n",
              "        [2.0133841e-01, 9.1663551e-01, 1.9890130e-01],\n",
              "        [8.0388057e-01, 3.9227080e-01, 2.9688942e-01],\n",
              "        [8.9319050e-01, 2.9692888e-01, 2.6492047e-01]],\n",
              "\n",
              "       ...,\n",
              "\n",
              "       [[7.3653197e-01, 5.9242892e-01, 8.1022096e-01],\n",
              "        [3.2385099e-01, 9.4225824e-01, 8.4279275e-01],\n",
              "        [5.2548873e-01, 8.8999271e-02, 1.2152910e-01],\n",
              "        ...,\n",
              "        [4.4721401e-01, 2.0952868e-01, 9.3782067e-02],\n",
              "        [5.1644707e-01, 7.4352753e-01, 7.4530303e-01],\n",
              "        [4.3693781e-03, 1.0793984e-01, 1.7783213e-01]],\n",
              "\n",
              "       [[7.6054347e-01, 8.0798697e-01, 3.9492905e-01],\n",
              "        [4.0577006e-01, 9.6265435e-02, 8.8253260e-01],\n",
              "        [6.7700970e-01, 7.8380144e-01, 9.3841922e-01],\n",
              "        ...,\n",
              "        [3.1409883e-01, 2.0651186e-01, 5.1043892e-01],\n",
              "        [6.6967010e-02, 3.1983531e-01, 7.4677360e-01],\n",
              "        [7.0548081e-01, 8.2629704e-01, 7.0540214e-01]],\n",
              "\n",
              "       [[6.4126742e-01, 5.8223104e-01, 5.1815867e-02],\n",
              "        [6.2203467e-01, 5.7224095e-01, 9.0543139e-01],\n",
              "        [9.6411026e-01, 2.6061213e-01, 7.4845552e-02],\n",
              "        ...,\n",
              "        [5.8922923e-01, 1.2655807e-01, 7.0523393e-01],\n",
              "        [9.5485377e-01, 6.6495812e-01, 6.4105380e-01],\n",
              "        [4.4474745e-01, 9.7424459e-01, 9.1788459e-01]]], dtype=float32)>"
            ]
          },
          "metadata": {},
          "execution_count": 162
        }
      ]
    },
    {
      "cell_type": "code",
      "metadata": {
        "colab": {
          "base_uri": "https://localhost:8080/"
        },
        "id": "ILnKhJ5iL0OY",
        "outputId": "f097207d-ae36-4d46-bafe-12264ed1b426"
      },
      "source": [
        "#7)\n",
        "tensorC_min_1_axis = tf.reduce_min(tensorC , axis=1)\n",
        "tensorC_max_1_axis = tf.reduce_max(tensorC,axis = 1)\n",
        "tensorC_min_1_axis , tensorC_max_1_axis"
      ],
      "execution_count": null,
      "outputs": [
        {
          "output_type": "execute_result",
          "data": {
            "text/plain": [
              "(<tf.Tensor: shape=(224, 3), dtype=float32, numpy=\n",
              " array([[1.10803843e-02, 1.02496147e-02, 6.97255135e-04],\n",
              "        [3.66926193e-04, 6.02853298e-03, 4.84395027e-03],\n",
              "        [8.86380672e-03, 9.10162926e-04, 6.86645508e-05],\n",
              "        [1.87039375e-04, 1.58452988e-03, 5.38277626e-03],\n",
              "        [8.89182091e-04, 3.49676609e-03, 4.27591801e-03],\n",
              "        [3.31401825e-05, 1.68085098e-04, 9.56428051e-03],\n",
              "        [4.85968590e-03, 2.46119499e-03, 1.16758347e-02],\n",
              "        [6.48498535e-05, 4.37498093e-05, 2.20274925e-03],\n",
              "        [1.88767910e-03, 1.06034279e-02, 2.22861767e-03],\n",
              "        [4.14001942e-03, 6.28113747e-03, 8.30888748e-04],\n",
              "        [1.28412247e-03, 7.01785088e-04, 1.09546185e-02],\n",
              "        [5.67162037e-03, 7.28201866e-03, 4.90629673e-03],\n",
              "        [8.90970230e-03, 3.02195549e-04, 5.37037849e-03],\n",
              "        [9.31501389e-04, 5.12826443e-03, 4.44579124e-03],\n",
              "        [1.33991241e-03, 2.27785110e-03, 4.25422192e-03],\n",
              "        [1.10207796e-02, 5.41090965e-04, 4.89103794e-03],\n",
              "        [4.62865829e-03, 1.92129612e-03, 4.76241112e-04],\n",
              "        [1.17182732e-04, 1.88136101e-02, 1.88684464e-03],\n",
              "        [9.84668732e-04, 3.06367874e-03, 5.50675392e-03],\n",
              "        [1.32620335e-03, 8.44001770e-04, 1.92904472e-03],\n",
              "        [7.59720802e-04, 1.16443634e-03, 1.73211098e-04],\n",
              "        [7.14385509e-03, 2.13456154e-03, 3.17335129e-03],\n",
              "        [4.10616398e-03, 8.13865662e-03, 4.24611568e-03],\n",
              "        [6.99877739e-04, 7.23993778e-03, 2.76553631e-03],\n",
              "        [7.84528255e-03, 7.40313530e-03, 2.54392624e-03],\n",
              "        [5.33580780e-03, 4.36651707e-03, 2.01261044e-03],\n",
              "        [5.39731979e-03, 1.07812881e-03, 1.36957169e-02],\n",
              "        [2.68113613e-03, 2.25782394e-03, 1.08611584e-03],\n",
              "        [2.46727467e-03, 1.15919113e-03, 8.44252110e-03],\n",
              "        [8.84509087e-03, 1.21188164e-03, 2.81620026e-03],\n",
              "        [2.06828117e-03, 2.96425819e-03, 6.35027885e-04],\n",
              "        [2.34174728e-03, 2.19786167e-03, 2.30145454e-03],\n",
              "        [2.08663940e-02, 2.55632401e-03, 1.90639496e-03],\n",
              "        [9.64879990e-04, 7.37023354e-03, 3.33166122e-03],\n",
              "        [1.64413452e-03, 1.39236450e-04, 8.95142555e-03],\n",
              "        [1.69765949e-03, 5.05769253e-03, 3.73721123e-03],\n",
              "        [2.98643112e-03, 1.22146606e-02, 3.66091728e-03],\n",
              "        [2.44984627e-02, 1.22539997e-02, 5.32233715e-03],\n",
              "        [1.58405304e-03, 4.02331352e-04, 4.04715538e-04],\n",
              "        [2.43067741e-03, 9.46998596e-04, 1.27807856e-02],\n",
              "        [2.74538994e-04, 6.29520416e-03, 8.67593288e-03],\n",
              "        [3.97408009e-03, 6.15632534e-03, 5.39004803e-03],\n",
              "        [5.23066521e-03, 1.33919716e-03, 1.73101425e-02],\n",
              "        [1.58905983e-03, 1.57237053e-04, 3.47292423e-03],\n",
              "        [1.12017393e-02, 3.80706787e-03, 2.95424461e-02],\n",
              "        [6.23893738e-03, 4.20212746e-04, 6.39307499e-03],\n",
              "        [8.15749168e-03, 6.09600544e-03, 1.53867006e-02],\n",
              "        [2.43294239e-03, 1.54972076e-05, 1.79362297e-03],\n",
              "        [1.91056728e-03, 1.07431412e-03, 2.30431557e-04],\n",
              "        [8.59808922e-03, 1.24692917e-04, 7.22408295e-04],\n",
              "        [8.88931751e-03, 3.45683098e-03, 2.66528130e-03],\n",
              "        [1.83570385e-03, 6.00850582e-03, 8.67366791e-04],\n",
              "        [3.47864628e-03, 4.35113907e-04, 5.75006008e-03],\n",
              "        [8.48531723e-03, 2.10380554e-03, 2.83348560e-03],\n",
              "        [1.83641911e-03, 1.16050243e-03, 5.34844398e-03],\n",
              "        [1.52909756e-03, 2.28941441e-03, 1.62410736e-03],\n",
              "        [2.49159336e-03, 5.55038452e-04, 4.00817394e-03],\n",
              "        [7.88807869e-04, 2.31158733e-03, 2.84540653e-03],\n",
              "        [1.11567974e-03, 4.97531891e-03, 1.52933598e-03],\n",
              "        [3.74317169e-04, 1.01244450e-03, 4.27663326e-03],\n",
              "        [8.92400742e-04, 7.50863552e-03, 1.03867054e-02],\n",
              "        [8.30769539e-03, 5.77569008e-04, 9.00542736e-03],\n",
              "        [8.96108150e-03, 3.77297401e-04, 1.17504597e-03],\n",
              "        [9.08458233e-03, 3.01361084e-04, 1.03299618e-02],\n",
              "        [4.21357155e-03, 3.01051140e-03, 2.05922127e-03],\n",
              "        [3.06963921e-03, 1.74522400e-03, 1.24279261e-02],\n",
              "        [1.15300417e-02, 4.95433807e-04, 1.21951103e-04],\n",
              "        [5.16605377e-03, 4.29987907e-04, 1.69289112e-03],\n",
              "        [1.79204941e-02, 3.40294838e-03, 2.03728676e-03],\n",
              "        [4.42862511e-04, 1.09817982e-02, 8.59141350e-04],\n",
              "        [6.63924217e-03, 2.23255157e-03, 6.91866875e-03],\n",
              "        [2.62379646e-04, 5.22017479e-04, 7.97533989e-03],\n",
              "        [1.85588598e-02, 7.08520412e-03, 6.76631927e-04],\n",
              "        [8.22103024e-03, 1.07800961e-03, 1.94531679e-02],\n",
              "        [7.62593746e-03, 6.96492195e-03, 1.52719021e-03],\n",
              "        [7.88545609e-03, 1.45655870e-02, 1.66913271e-02],\n",
              "        [2.75731087e-04, 1.19967461e-02, 1.53779984e-04],\n",
              "        [5.75232506e-03, 2.41994858e-04, 7.20179081e-03],\n",
              "        [6.87718391e-03, 6.51466846e-03, 3.46136093e-03],\n",
              "        [1.87993050e-04, 2.19821930e-03, 4.37521935e-03],\n",
              "        [1.15922689e-02, 1.12818480e-02, 1.73687935e-03],\n",
              "        [3.84807587e-04, 3.01110744e-03, 3.47125530e-03],\n",
              "        [1.88148022e-03, 5.88965416e-03, 2.39968300e-03],\n",
              "        [2.09105015e-03, 2.84683704e-03, 1.75452232e-03],\n",
              "        [2.28059292e-03, 2.64525414e-04, 8.00848007e-03],\n",
              "        [7.55429268e-04, 5.16033173e-03, 3.91840935e-04],\n",
              "        [8.13663006e-03, 4.20749187e-03, 2.58207321e-04],\n",
              "        [1.19614601e-03, 2.97594070e-03, 1.80327892e-03],\n",
              "        [3.31842899e-03, 3.92568111e-03, 8.67283344e-03],\n",
              "        [1.19749308e-02, 1.75845623e-03, 4.27186489e-03],\n",
              "        [1.88386440e-03, 3.63492966e-03, 1.06060505e-02],\n",
              "        [1.17856264e-02, 9.23800468e-03, 3.40449810e-03],\n",
              "        [8.48603249e-03, 1.07601881e-02, 2.20060349e-03],\n",
              "        [7.12490082e-03, 2.11465359e-03, 2.59947777e-03],\n",
              "        [6.02245331e-04, 3.19719315e-04, 1.84752941e-02],\n",
              "        [9.19103622e-04, 7.02798367e-03, 1.35946274e-03],\n",
              "        [1.83701515e-04, 8.05854797e-04, 2.90966034e-03],\n",
              "        [1.14858150e-03, 6.24978542e-03, 2.67028809e-04],\n",
              "        [2.20859051e-03, 7.27701187e-03, 1.38829947e-02],\n",
              "        [8.33272934e-05, 3.52311134e-03, 3.83937359e-03],\n",
              "        [8.80193710e-03, 3.69691849e-03, 1.17921829e-03],\n",
              "        [7.42185116e-03, 1.26873255e-02, 7.24315643e-04],\n",
              "        [2.92539597e-04, 1.35719776e-02, 1.77621841e-03],\n",
              "        [8.62240791e-04, 7.07209110e-03, 4.06515598e-03],\n",
              "        [1.44982338e-03, 5.50842285e-03, 1.63745880e-02],\n",
              "        [5.55872917e-03, 2.41208076e-03, 2.16126442e-04],\n",
              "        [1.70326233e-03, 3.96168232e-03, 3.87978554e-03],\n",
              "        [1.87945366e-03, 9.50562954e-03, 2.35676765e-03],\n",
              "        [8.20100307e-03, 7.42316246e-04, 4.68492508e-04],\n",
              "        [2.26652622e-03, 3.85522842e-04, 6.39629364e-03],\n",
              "        [1.37186050e-03, 2.14076042e-03, 2.20727921e-03],\n",
              "        [4.03320789e-03, 9.71269608e-03, 1.18446350e-03],\n",
              "        [1.41118765e-02, 1.85322762e-03, 6.92188740e-03],\n",
              "        [1.29973888e-03, 3.21984291e-04, 5.22768497e-03],\n",
              "        [7.54892826e-03, 6.23941422e-04, 9.77945328e-03],\n",
              "        [4.90033627e-03, 4.50789928e-03, 4.56213951e-03],\n",
              "        [2.32696533e-04, 6.32584095e-03, 5.86962700e-03],\n",
              "        [6.68263435e-03, 8.86750221e-03, 5.77378273e-03],\n",
              "        [1.98519230e-03, 3.17859650e-03, 1.59263611e-03],\n",
              "        [1.67250633e-03, 7.87258148e-04, 1.29206181e-02],\n",
              "        [1.19413137e-02, 2.63810158e-04, 1.47819519e-05],\n",
              "        [1.53577328e-03, 7.49826431e-05, 5.84685802e-03],\n",
              "        [6.66415691e-03, 2.75409222e-03, 4.92167473e-03],\n",
              "        [1.32684708e-02, 5.15699387e-03, 8.71753693e-03],\n",
              "        [6.77227974e-04, 2.28941441e-03, 6.50441647e-03],\n",
              "        [8.59260559e-03, 4.02927399e-05, 4.89401817e-03],\n",
              "        [1.94787979e-04, 1.15327835e-02, 2.68304348e-03],\n",
              "        [3.61287594e-03, 9.01460648e-04, 2.75659561e-03],\n",
              "        [1.64270401e-03, 3.80825996e-03, 1.10547543e-02],\n",
              "        [7.24411011e-03, 6.57594204e-03, 1.87885761e-03],\n",
              "        [3.23367119e-03, 4.22537327e-03, 2.39861012e-03],\n",
              "        [6.08682632e-04, 2.60043144e-03, 1.16647482e-02],\n",
              "        [2.84850597e-03, 2.52115726e-03, 5.45656681e-03],\n",
              "        [3.02159786e-03, 3.36647034e-03, 7.27653503e-04],\n",
              "        [3.35216522e-04, 1.54900551e-03, 4.81104851e-03],\n",
              "        [9.37461853e-04, 1.63447857e-03, 9.16838646e-04],\n",
              "        [4.05263901e-03, 3.06844711e-04, 3.34572792e-03],\n",
              "        [8.38243961e-03, 1.31082535e-03, 5.73575497e-03],\n",
              "        [5.00786304e-03, 2.22146511e-03, 2.43818760e-03],\n",
              "        [1.57582760e-03, 8.83340836e-03, 1.43921375e-03],\n",
              "        [1.64556503e-03, 1.45721436e-03, 4.49824333e-03],\n",
              "        [1.76932812e-02, 1.62760019e-02, 3.07106972e-03],\n",
              "        [8.16679001e-03, 8.38029385e-03, 5.48481941e-03],\n",
              "        [2.32946873e-03, 3.80945206e-03, 4.97412682e-03],\n",
              "        [6.43861294e-03, 9.84668732e-03, 1.00512505e-02],\n",
              "        [7.35926628e-03, 6.40153885e-05, 7.43007660e-03],\n",
              "        [1.78062916e-03, 6.14750385e-03, 5.09941578e-03],\n",
              "        [1.14094019e-02, 1.49559975e-03, 3.45706940e-04],\n",
              "        [3.34680080e-03, 2.50506401e-03, 1.42053366e-02],\n",
              "        [3.34072113e-03, 6.14881516e-04, 1.81078911e-04],\n",
              "        [2.16782093e-03, 3.77893448e-04, 9.23156738e-04],\n",
              "        [2.86674500e-03, 2.48849392e-03, 1.13487244e-04],\n",
              "        [3.21996212e-03, 2.63810158e-04, 5.37395477e-04],\n",
              "        [8.31723213e-04, 2.47073174e-03, 3.35061550e-03],\n",
              "        [3.39055061e-03, 9.48309898e-04, 8.95094872e-03],\n",
              "        [1.44624710e-03, 3.91185284e-03, 1.74045563e-03],\n",
              "        [2.94327736e-03, 5.57351112e-03, 1.39129162e-03],\n",
              "        [3.19910049e-03, 6.35743141e-04, 1.37376785e-03],\n",
              "        [5.12731075e-03, 1.39927864e-02, 2.72822380e-03],\n",
              "        [7.04061985e-03, 1.12063885e-02, 3.10492516e-03],\n",
              "        [3.19528580e-03, 3.31199169e-03, 5.83934784e-03],\n",
              "        [5.37407398e-03, 9.68241692e-03, 1.50531530e-02],\n",
              "        [3.26609612e-03, 9.74059105e-04, 8.09717178e-03],\n",
              "        [2.68709660e-03, 6.54470921e-03, 2.35152245e-03],\n",
              "        [2.59995461e-04, 4.68969345e-04, 8.97049904e-03],\n",
              "        [8.37326050e-04, 9.23645496e-03, 1.48081779e-03],\n",
              "        [3.42619419e-03, 5.07831573e-04, 5.17189503e-03],\n",
              "        [4.70638275e-03, 3.96347046e-03, 1.55373812e-02],\n",
              "        [5.33711910e-03, 8.74531269e-03, 1.12915039e-03],\n",
              "        [2.21014023e-03, 1.55174732e-03, 4.55379486e-05],\n",
              "        [2.80737877e-04, 2.15911865e-03, 8.58294964e-03],\n",
              "        [7.83336163e-03, 1.77659988e-02, 2.86221504e-03],\n",
              "        [2.04825401e-03, 2.60591507e-04, 5.53119183e-03],\n",
              "        [2.45606899e-03, 3.17060947e-03, 7.26306438e-03],\n",
              "        [1.51634216e-04, 3.01444530e-03, 1.29580498e-03],\n",
              "        [4.88877296e-04, 2.73942947e-04, 8.13627243e-03],\n",
              "        [2.78067589e-03, 6.42538071e-05, 5.04159927e-03],\n",
              "        [1.06501579e-03, 8.17096233e-03, 1.21212006e-03],\n",
              "        [8.91923904e-04, 6.55150414e-03, 6.08086586e-04],\n",
              "        [2.26712227e-03, 2.90572643e-03, 1.08858347e-02],\n",
              "        [7.61222839e-03, 3.65543365e-03, 1.87474489e-02],\n",
              "        [7.11321831e-04, 4.11868095e-04, 4.72462177e-03],\n",
              "        [1.30964518e-02, 1.09556913e-02, 3.40402126e-03],\n",
              "        [5.54168224e-03, 2.36511230e-03, 1.78468227e-03],\n",
              "        [6.28709793e-04, 9.92679596e-03, 2.20870972e-03],\n",
              "        [3.92174721e-03, 7.64191151e-03, 7.96794891e-04],\n",
              "        [3.71229649e-03, 2.93576717e-03, 8.98957253e-03],\n",
              "        [6.47306442e-05, 9.08529758e-03, 9.26017761e-04],\n",
              "        [1.56319141e-03, 1.25157833e-02, 3.06189060e-03],\n",
              "        [6.74676895e-03, 4.35519218e-03, 4.74357605e-03],\n",
              "        [1.32048130e-03, 3.05783749e-03, 1.81007385e-03],\n",
              "        [1.13618374e-03, 4.45199013e-03, 1.75666809e-02],\n",
              "        [6.80518150e-03, 3.50236893e-04, 8.04448128e-03],\n",
              "        [1.95753574e-03, 4.87148762e-03, 7.87603855e-03],\n",
              "        [2.59721279e-03, 3.02565098e-03, 9.82880592e-04],\n",
              "        [3.88586521e-03, 5.55729866e-03, 6.60181046e-04],\n",
              "        [2.43330002e-03, 1.27971172e-03, 1.37714148e-02],\n",
              "        [3.08263302e-03, 3.08454037e-03, 8.10861588e-04],\n",
              "        [2.75444984e-03, 2.62343884e-03, 2.68697739e-03],\n",
              "        [7.66301155e-03, 2.04740763e-02, 7.12835789e-03],\n",
              "        [8.58223438e-03, 3.73864174e-03, 6.24597073e-03],\n",
              "        [9.11521912e-03, 5.23567200e-04, 7.61008263e-03],\n",
              "        [1.32381916e-03, 1.98304653e-03, 1.63955688e-02],\n",
              "        [6.53386116e-04, 9.41395760e-04, 5.88178635e-04],\n",
              "        [6.07633591e-03, 3.07703018e-03, 6.95943832e-04],\n",
              "        [4.54437733e-03, 6.30033016e-03, 8.87429714e-03],\n",
              "        [7.80117512e-03, 2.44438648e-03, 7.96473026e-03],\n",
              "        [2.24518776e-03, 1.09950304e-02, 4.34029102e-03],\n",
              "        [2.03967094e-04, 7.89737701e-03, 3.02588940e-03],\n",
              "        [6.55627251e-03, 5.57780266e-04, 2.84481049e-03],\n",
              "        [1.79052353e-04, 2.50816345e-03, 2.98380852e-03],\n",
              "        [5.39839268e-03, 1.06275082e-03, 2.59280205e-04],\n",
              "        [3.88538837e-03, 2.96735764e-03, 7.88021088e-03],\n",
              "        [1.00040436e-03, 3.39508057e-04, 4.50563431e-03],\n",
              "        [3.92818451e-03, 2.39253044e-04, 1.09434128e-03],\n",
              "        [9.00137424e-03, 5.23948669e-03, 5.52415848e-04],\n",
              "        [2.87699699e-03, 3.47065926e-03, 9.20295715e-05],\n",
              "        [5.30445576e-03, 1.48272514e-03, 6.09052181e-03],\n",
              "        [1.42693520e-04, 2.94959545e-03, 5.16164303e-03],\n",
              "        [7.64822960e-03, 1.41143799e-04, 1.81162357e-03],\n",
              "        [6.40988350e-04, 4.12821770e-03, 1.72793865e-03],\n",
              "        [3.90315056e-03, 1.18279457e-03, 2.42221355e-03],\n",
              "        [5.21063805e-04, 1.44612789e-03, 9.25171375e-03],\n",
              "        [1.43003464e-03, 4.97078896e-03, 2.52997875e-03]], dtype=float32)>,\n",
              " <tf.Tensor: shape=(224, 3), dtype=float32, numpy=\n",
              " array([[0.9967668 , 0.98945487, 0.99522185],\n",
              "        [0.9966396 , 0.996575  , 0.994668  ],\n",
              "        [0.9972496 , 0.9928163 , 0.9929354 ],\n",
              "        [0.9999273 , 0.99630845, 0.99556243],\n",
              "        [0.9978795 , 0.9981626 , 0.9880016 ],\n",
              "        [0.9983088 , 0.9975748 , 0.99935305],\n",
              "        [0.9982828 , 0.99923384, 0.9959214 ],\n",
              "        [0.9901577 , 0.98445237, 0.99297345],\n",
              "        [0.99237657, 0.9954705 , 0.999362  ],\n",
              "        [0.9967642 , 0.97973526, 0.9981868 ],\n",
              "        [0.9995266 , 0.9995254 , 0.99920833],\n",
              "        [0.9997618 , 0.99943125, 0.9798409 ],\n",
              "        [0.99953353, 0.9984261 , 0.99613595],\n",
              "        [0.9998963 , 0.99567866, 0.99894536],\n",
              "        [0.9975736 , 0.99079704, 0.9978955 ],\n",
              "        [0.99926376, 0.99873924, 0.999768  ],\n",
              "        [0.9963157 , 0.99567676, 0.99945056],\n",
              "        [0.9989797 , 0.9905093 , 0.9974258 ],\n",
              "        [0.99462783, 0.9966128 , 0.99975467],\n",
              "        [0.99731755, 0.99944544, 0.9947181 ],\n",
              "        [0.99702585, 0.99486756, 0.9964547 ],\n",
              "        [0.9985814 , 0.99626696, 0.9998832 ],\n",
              "        [0.9897382 , 0.99721646, 0.9946197 ],\n",
              "        [0.9973222 , 0.9995965 , 0.99574447],\n",
              "        [0.9938595 , 0.995525  , 0.99981844],\n",
              "        [0.99846864, 0.99949014, 0.9997128 ],\n",
              "        [0.99769187, 0.9980782 , 0.9877937 ],\n",
              "        [0.9999949 , 0.9996902 , 0.9929136 ],\n",
              "        [0.99874747, 0.99153185, 0.9954592 ],\n",
              "        [0.99904764, 0.9990926 , 0.99936426],\n",
              "        [0.9973867 , 0.9953898 , 0.9938649 ],\n",
              "        [0.9981798 , 0.99296725, 0.9924586 ],\n",
              "        [0.9981278 , 0.9989916 , 0.9995116 ],\n",
              "        [0.9982358 , 0.9989213 , 0.9833479 ],\n",
              "        [0.9919764 , 0.99960446, 0.9919139 ],\n",
              "        [0.99747396, 0.986696  , 0.9966872 ],\n",
              "        [0.9733708 , 0.99915993, 0.99781513],\n",
              "        [0.9853394 , 0.99926436, 0.9949515 ],\n",
              "        [0.9978055 , 0.99730146, 0.9986166 ],\n",
              "        [0.9986479 , 0.98716676, 0.996058  ],\n",
              "        [0.99668753, 0.99843097, 0.9972842 ],\n",
              "        [0.99939024, 0.9991871 , 0.99538815],\n",
              "        [0.9974817 , 0.99652255, 0.9995506 ],\n",
              "        [0.99564314, 0.9950869 , 0.9979539 ],\n",
              "        [0.9895443 , 0.99562025, 0.99137187],\n",
              "        [0.99880695, 0.9995072 , 0.9914013 ],\n",
              "        [0.99718285, 0.99918175, 0.9983151 ],\n",
              "        [0.99766016, 0.99955535, 0.9915979 ],\n",
              "        [0.9882164 , 0.99842584, 0.9986702 ],\n",
              "        [0.99678314, 0.99415755, 0.98905253],\n",
              "        [0.9818144 , 0.99193096, 0.9973526 ],\n",
              "        [0.99592066, 0.9992411 , 0.9962127 ],\n",
              "        [0.99905586, 0.9946896 , 0.99334455],\n",
              "        [0.99577796, 0.995842  , 0.9947442 ],\n",
              "        [0.99857986, 0.9993957 , 0.99522686],\n",
              "        [0.99480915, 0.9992678 , 0.9931209 ],\n",
              "        [0.99399424, 0.99848926, 0.9948578 ],\n",
              "        [0.9790033 , 0.99318707, 0.9915707 ],\n",
              "        [0.99839914, 0.9873785 , 0.9850843 ],\n",
              "        [0.99355423, 0.99849594, 0.99970174],\n",
              "        [0.9979584 , 0.99495363, 0.9965588 ],\n",
              "        [0.9986787 , 0.99115515, 0.99949837],\n",
              "        [0.9963374 , 0.9934559 , 0.9984219 ],\n",
              "        [0.9972904 , 0.9997095 , 0.98702633],\n",
              "        [0.99567866, 0.9904108 , 0.9937352 ],\n",
              "        [0.9985701 , 0.99852157, 0.9921335 ],\n",
              "        [0.9977797 , 0.9960034 , 0.988323  ],\n",
              "        [0.9858695 , 0.99856234, 0.99987864],\n",
              "        [0.99572587, 0.9999523 , 0.9904816 ],\n",
              "        [0.98746324, 0.98293614, 0.99403155],\n",
              "        [0.9979063 , 0.99726045, 0.99758065],\n",
              "        [0.9964851 , 0.98995554, 0.9972333 ],\n",
              "        [0.9945719 , 0.99617827, 0.99917316],\n",
              "        [0.99254787, 0.99810016, 0.99982   ],\n",
              "        [0.98966527, 0.998121  , 0.9976933 ],\n",
              "        [0.99694026, 0.99844587, 0.99143267],\n",
              "        [0.99928737, 0.9997655 , 0.99812615],\n",
              "        [0.9920238 , 0.99576783, 0.9990442 ],\n",
              "        [0.99933386, 0.9944042 , 0.9991677 ],\n",
              "        [0.9934006 , 0.99823225, 0.9955498 ],\n",
              "        [0.9995185 , 0.9964318 , 0.9995271 ],\n",
              "        [0.99931693, 0.99907136, 0.99611413],\n",
              "        [0.99510217, 0.9951104 , 0.99542654],\n",
              "        [0.9725579 , 0.9962392 , 0.998585  ],\n",
              "        [0.994033  , 0.99643874, 0.99653697],\n",
              "        [0.993876  , 0.9987718 , 0.99867964],\n",
              "        [0.9943911 , 0.9990568 , 0.9973564 ],\n",
              "        [0.98985744, 0.9976727 , 0.9879619 ],\n",
              "        [0.99273694, 0.9984571 , 0.9932308 ],\n",
              "        [0.9948065 , 0.99922276, 0.97652626],\n",
              "        [0.9805684 , 0.99651456, 0.99945736],\n",
              "        [0.99043727, 0.9940531 , 0.9998964 ],\n",
              "        [0.9925692 , 0.99872994, 0.983073  ],\n",
              "        [0.995883  , 0.9966012 , 0.9986714 ],\n",
              "        [0.9967308 , 0.9981017 , 0.99990773],\n",
              "        [0.99762976, 0.9996176 , 0.99495244],\n",
              "        [0.99489605, 0.99510443, 0.9978844 ],\n",
              "        [0.9923631 , 0.98497987, 0.999871  ],\n",
              "        [0.998392  , 0.99857914, 0.9989207 ],\n",
              "        [0.99897146, 0.9971802 , 0.99689186],\n",
              "        [0.9985509 , 0.9902004 , 0.99562705],\n",
              "        [0.99904084, 0.99471843, 0.99809575],\n",
              "        [0.9985993 , 0.9927356 , 0.99906516],\n",
              "        [0.99524164, 0.99850273, 0.9998857 ],\n",
              "        [0.9931104 , 0.9930184 , 0.99507284],\n",
              "        [0.99963725, 0.99272287, 0.9958235 ],\n",
              "        [0.9874393 , 0.99848866, 0.99816775],\n",
              "        [0.99182284, 0.99919426, 0.99122036],\n",
              "        [0.9998976 , 0.9971466 , 0.9993948 ],\n",
              "        [0.9966892 , 0.99351764, 0.9942244 ],\n",
              "        [0.997501  , 0.9953834 , 0.99725044],\n",
              "        [0.99585104, 0.99677575, 0.9995028 ],\n",
              "        [0.99677074, 0.9961189 , 0.9989517 ],\n",
              "        [0.9916824 , 0.9974474 , 0.9977249 ],\n",
              "        [0.9930476 , 0.99723446, 0.9996482 ],\n",
              "        [0.9874922 , 0.9944719 , 0.9911026 ],\n",
              "        [0.9840486 , 0.99831474, 0.99839926],\n",
              "        [0.9995488 , 0.99777985, 0.9884591 ],\n",
              "        [0.9991578 , 0.99983287, 0.9976053 ],\n",
              "        [0.99013174, 0.9975835 , 0.99657905],\n",
              "        [0.99782467, 0.9931121 , 0.99750996],\n",
              "        [0.9960389 , 0.99750626, 0.9996668 ],\n",
              "        [0.99427104, 0.99700165, 0.98736966],\n",
              "        [0.9938297 , 0.99606407, 0.9926629 ],\n",
              "        [0.99883175, 0.99993217, 0.998924  ],\n",
              "        [0.9985689 , 0.9976927 , 0.9940584 ],\n",
              "        [0.99880767, 0.99950016, 0.9966817 ],\n",
              "        [0.9967772 , 0.9853171 , 0.9968624 ],\n",
              "        [0.99945366, 0.9958167 , 0.9869214 ],\n",
              "        [0.99854124, 0.99190915, 0.99507296],\n",
              "        [0.9873625 , 0.9967905 , 0.9997399 ],\n",
              "        [0.99703026, 0.9889003 , 0.99689007],\n",
              "        [0.992664  , 0.9770732 , 0.9965056 ],\n",
              "        [0.9934403 , 0.99621606, 0.9954418 ],\n",
              "        [0.9999627 , 0.997646  , 0.9988835 ],\n",
              "        [0.9973533 , 0.99951565, 0.9991083 ],\n",
              "        [0.99547243, 0.9957776 , 0.9942944 ],\n",
              "        [0.99801314, 0.99648595, 0.9987278 ],\n",
              "        [0.9884622 , 0.99791205, 0.9952345 ],\n",
              "        [0.99434745, 0.99934256, 0.99853885],\n",
              "        [0.99539626, 0.99763715, 0.9998622 ],\n",
              "        [0.9924725 , 0.9955462 , 0.9941968 ],\n",
              "        [0.9994999 , 0.9928864 , 0.992571  ],\n",
              "        [0.99545   , 0.97797954, 0.9942441 ],\n",
              "        [0.9984555 , 0.9995434 , 0.99527395],\n",
              "        [0.9995159 , 0.999362  , 0.9948547 ],\n",
              "        [0.9900894 , 0.9989824 , 0.98982835],\n",
              "        [0.99974644, 0.991537  , 0.99502814],\n",
              "        [0.9971591 , 0.9992789 , 0.9877999 ],\n",
              "        [0.99021184, 0.993065  , 0.9855794 ],\n",
              "        [0.9950547 , 0.9931853 , 0.9916378 ],\n",
              "        [0.996812  , 0.9987998 , 0.99730885],\n",
              "        [0.99962664, 0.9959402 , 0.9993087 ],\n",
              "        [0.99028134, 0.9999968 , 0.9981861 ],\n",
              "        [0.9978149 , 0.99866843, 0.9837264 ],\n",
              "        [0.98260546, 0.99954236, 0.9992583 ],\n",
              "        [0.9999939 , 0.9932898 , 0.99589324],\n",
              "        [0.99681973, 0.9988109 , 0.99968004],\n",
              "        [0.99541104, 0.9990723 , 0.99683845],\n",
              "        [0.99785006, 0.99684453, 0.9997721 ],\n",
              "        [0.9973774 , 0.99630785, 0.99975884],\n",
              "        [0.9925245 , 0.9950839 , 0.99818134],\n",
              "        [0.99919355, 0.9971963 , 0.99879146],\n",
              "        [0.98100305, 0.99477375, 0.9982923 ],\n",
              "        [0.99089193, 0.9979298 , 0.99573696],\n",
              "        [0.99618554, 0.99350727, 0.9989537 ],\n",
              "        [0.9994209 , 0.98611474, 0.9979373 ],\n",
              "        [0.99795985, 0.9984685 , 0.9928775 ],\n",
              "        [0.99992883, 0.99936736, 0.9982506 ],\n",
              "        [0.9992962 , 0.9957268 , 0.98108137],\n",
              "        [0.99903166, 0.9996058 , 0.9994049 ],\n",
              "        [0.992903  , 0.9964229 , 0.99569964],\n",
              "        [0.9980444 , 0.9921825 , 0.99314   ],\n",
              "        [0.9988005 , 0.9888011 , 0.9951873 ],\n",
              "        [0.9957173 , 0.99888635, 0.99372625],\n",
              "        [0.99380744, 0.9952011 , 0.9997705 ],\n",
              "        [0.9847481 , 0.9954748 , 0.98929584],\n",
              "        [0.9944918 , 0.997491  , 0.9998231 ],\n",
              "        [0.9994316 , 0.99687195, 0.99431443],\n",
              "        [0.9975885 , 0.9972745 , 0.9986532 ],\n",
              "        [0.99538636, 0.99108076, 0.9962965 ],\n",
              "        [0.9982176 , 0.9915898 , 0.99942625],\n",
              "        [0.98610663, 0.990345  , 0.9951744 ],\n",
              "        [0.99865746, 0.98411644, 0.98992956],\n",
              "        [0.99803185, 0.99430037, 0.9974239 ],\n",
              "        [0.9949626 , 0.98955107, 0.99691045],\n",
              "        [0.9965817 , 0.9981854 , 0.99309945],\n",
              "        [0.9988353 , 0.9934901 , 0.99126923],\n",
              "        [0.9984369 , 0.995731  , 0.9998559 ],\n",
              "        [0.99894345, 0.9960718 , 0.9894297 ],\n",
              "        [0.9979136 , 0.99814236, 0.9980558 ],\n",
              "        [0.9948238 , 0.9982716 , 0.99897695],\n",
              "        [0.9948238 , 0.9985844 , 0.99704397],\n",
              "        [0.9986433 , 0.9958905 , 0.98960817],\n",
              "        [0.9940525 , 0.995044  , 0.99957025],\n",
              "        [0.99701667, 0.9939811 , 0.99642813],\n",
              "        [0.9998672 , 0.99119747, 0.9992845 ],\n",
              "        [0.987798  , 0.9948373 , 0.9844805 ],\n",
              "        [0.99910045, 0.999756  , 0.990155  ],\n",
              "        [0.99399304, 0.9952785 , 0.98724055],\n",
              "        [0.9881059 , 0.9945357 , 0.9985007 ],\n",
              "        [0.99952054, 0.9987191 , 0.9967433 ],\n",
              "        [0.99595284, 0.99720633, 0.98850846],\n",
              "        [0.99825835, 0.9977894 , 0.9928411 ],\n",
              "        [0.9967835 , 0.9836458 , 0.9926127 ],\n",
              "        [0.9922174 , 0.9968697 , 0.99962354],\n",
              "        [0.9986415 , 0.9997138 , 0.9983078 ],\n",
              "        [0.997653  , 0.9879062 , 0.99836695],\n",
              "        [0.981501  , 0.99554765, 0.99409056],\n",
              "        [0.9989953 , 0.99096096, 0.99910307],\n",
              "        [0.99934196, 0.9978875 , 0.99793935],\n",
              "        [0.9998313 , 0.99677956, 0.99759364],\n",
              "        [0.99966097, 0.99160576, 0.995551  ],\n",
              "        [0.99972904, 0.98576295, 0.9985783 ],\n",
              "        [0.99598825, 0.9868406 , 0.99492896],\n",
              "        [0.9984933 , 0.9919325 , 0.9980395 ],\n",
              "        [0.99749124, 0.9934225 , 0.9980247 ],\n",
              "        [0.9943229 , 0.9999615 , 0.9975643 ],\n",
              "        [0.9983201 , 0.99996686, 0.9989778 ],\n",
              "        [0.9979248 , 0.9967115 , 0.9975804 ],\n",
              "        [0.994261  , 0.9994503 , 0.9988208 ],\n",
              "        [0.98060095, 0.9981644 , 0.9984944 ],\n",
              "        [0.9988495 , 0.99774706, 0.99837756],\n",
              "        [0.99765325, 0.99455225, 0.9968662 ]], dtype=float32)>)"
            ]
          },
          "metadata": {},
          "execution_count": 163
        }
      ]
    },
    {
      "cell_type": "code",
      "metadata": {
        "id": "73gSbM46MVvg"
      },
      "source": [
        ""
      ],
      "execution_count": null,
      "outputs": []
    }
  ]
}