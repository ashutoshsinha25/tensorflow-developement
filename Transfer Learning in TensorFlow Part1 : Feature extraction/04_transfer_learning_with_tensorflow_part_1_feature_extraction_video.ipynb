{
  "nbformat": 4,
  "nbformat_minor": 0,
  "metadata": {
    "colab": {
      "name": "04_transfer_learning_with_tensorflow_part_1_feature_extraction_video.ipynb",
      "provenance": [],
      "collapsed_sections": [],
      "authorship_tag": "ABX9TyM7tPKcCOWsNJdMaZZ4bIby",
      "include_colab_link": true
    },
    "kernelspec": {
      "name": "python3",
      "display_name": "Python 3"
    },
    "language_info": {
      "name": "python"
    },
    "accelerator": "GPU"
  },
  "cells": [
    {
      "cell_type": "markdown",
      "metadata": {
        "id": "view-in-github",
        "colab_type": "text"
      },
      "source": [
        "<a href=\"https://colab.research.google.com/github/ashutoshsinha25/tensorflow-developement/blob/main/Transfer%20Learning%20in%20TensorFlow%20Part1%20%3A%20Feature%20extraction/04_transfer_learning_with_tensorflow_part_1_feature_extraction_video.ipynb\" target=\"_parent\"><img src=\"https://colab.research.google.com/assets/colab-badge.svg\" alt=\"Open In Colab\"/></a>"
      ]
    },
    {
      "cell_type": "code",
      "execution_count": null,
      "metadata": {
        "colab": {
          "base_uri": "https://localhost:8080/",
          "height": 35
        },
        "id": "fkxwYkqar2sW",
        "outputId": "c17a88f2-cb9a-4d15-ecb8-9f3b23b7869e"
      },
      "outputs": [
        {
          "output_type": "execute_result",
          "data": {
            "application/vnd.google.colaboratory.intrinsic+json": {
              "type": "string"
            },
            "text/plain": [
              "'2.7.0'"
            ]
          },
          "metadata": {},
          "execution_count": 1
        }
      ],
      "source": [
        "import tensorflow as tf \n",
        "tf.__version__"
      ]
    },
    {
      "cell_type": "markdown",
      "source": [
        "# Transfer Learning with Tensorflow part 1 : Feature Extraction \n",
        "\n",
        "Transfer learning is leveraging a working model's existing architecture and learned patterns for our own problems.\n",
        "\n",
        "There are two main benifits:\n",
        "\n",
        "1. Can leverage an existing neural network architecture proven to work on problems similar to our own.\n",
        "2. Can leverage a working neural network architecture which has already learned patterns on similar data to our own, then we can adapt those patterns to our own data"
      ],
      "metadata": {
        "id": "KLKp8rHdsMqd"
      }
    },
    {
      "cell_type": "code",
      "source": [
        "# are we using a gpu\n",
        "!nvidia-smi"
      ],
      "metadata": {
        "colab": {
          "base_uri": "https://localhost:8080/"
        },
        "id": "op5lKkmwsHyo",
        "outputId": "79aa6379-5e12-4e77-f321-500037e3f413"
      },
      "execution_count": null,
      "outputs": [
        {
          "output_type": "stream",
          "name": "stdout",
          "text": [
            "Sun Jan 23 16:10:40 2022       \n",
            "+-----------------------------------------------------------------------------+\n",
            "| NVIDIA-SMI 495.46       Driver Version: 460.32.03    CUDA Version: 11.2     |\n",
            "|-------------------------------+----------------------+----------------------+\n",
            "| GPU  Name        Persistence-M| Bus-Id        Disp.A | Volatile Uncorr. ECC |\n",
            "| Fan  Temp  Perf  Pwr:Usage/Cap|         Memory-Usage | GPU-Util  Compute M. |\n",
            "|                               |                      |               MIG M. |\n",
            "|===============================+======================+======================|\n",
            "|   0  Tesla K80           Off  | 00000000:00:04.0 Off |                    0 |\n",
            "| N/A   62C    P8    32W / 149W |      0MiB / 11441MiB |      0%      Default |\n",
            "|                               |                      |                  N/A |\n",
            "+-------------------------------+----------------------+----------------------+\n",
            "                                                                               \n",
            "+-----------------------------------------------------------------------------+\n",
            "| Processes:                                                                  |\n",
            "|  GPU   GI   CI        PID   Type   Process name                  GPU Memory |\n",
            "|        ID   ID                                                   Usage      |\n",
            "|=============================================================================|\n",
            "|  No running processes found                                                 |\n",
            "+-----------------------------------------------------------------------------+\n"
          ]
        }
      ]
    },
    {
      "cell_type": "markdown",
      "source": [
        "## Download and becoming one with tht data "
      ],
      "metadata": {
        "id": "WvgrzTSitAtS"
      }
    },
    {
      "cell_type": "code",
      "source": [
        "# Get data a(10% of 10 food classes from Food101)\n",
        "\n",
        "import zipfile \n",
        "\n",
        "# download the data \n",
        "!wget https://storage.googleapis.com/ztm_tf_course/food_vision/10_food_classes_10_percent.zip \n",
        "\n",
        "# Unzip the downloaded file \n",
        "zip_ref = zipfile.ZipFile('10_food_classes_10_percent.zip')\n",
        "zip_ref.extractall()\n",
        "zip_ref.close()"
      ],
      "metadata": {
        "colab": {
          "base_uri": "https://localhost:8080/"
        },
        "id": "xh4vel9XtHPl",
        "outputId": "c30062b2-c1c6-4a4d-c636-03284acdcd58"
      },
      "execution_count": null,
      "outputs": [
        {
          "output_type": "stream",
          "name": "stdout",
          "text": [
            "--2022-01-23 16:12:41--  https://storage.googleapis.com/ztm_tf_course/food_vision/10_food_classes_10_percent.zip\n",
            "Resolving storage.googleapis.com (storage.googleapis.com)... 173.194.74.128, 173.194.192.128, 172.217.219.128, ...\n",
            "Connecting to storage.googleapis.com (storage.googleapis.com)|173.194.74.128|:443... connected.\n",
            "HTTP request sent, awaiting response... 200 OK\n",
            "Length: 168546183 (161M) [application/zip]\n",
            "Saving to: ‘10_food_classes_10_percent.zip’\n",
            "\n",
            "10_food_classes_10_ 100%[===================>] 160.74M   176MB/s    in 0.9s    \n",
            "\n",
            "2022-01-23 16:12:42 (176 MB/s) - ‘10_food_classes_10_percent.zip’ saved [168546183/168546183]\n",
            "\n"
          ]
        }
      ]
    },
    {
      "cell_type": "code",
      "source": [
        "# How manu images in each folder\n",
        "\n",
        "import os \n",
        "\n",
        "# wlak through 10 percent data directory and list number of files\n",
        "for dirpath,dirnames,filenames in os.walk('10_food_classes_10_percent'):\n",
        "  print(f\"There are {len(dirnames)} directories and {len(filenames)} images in '{dirpath}'.\")"
      ],
      "metadata": {
        "colab": {
          "base_uri": "https://localhost:8080/"
        },
        "id": "ZsQHiBAwtf61",
        "outputId": "93d0f388-1d07-40a5-fb48-fb192bde7e78"
      },
      "execution_count": null,
      "outputs": [
        {
          "output_type": "stream",
          "name": "stdout",
          "text": [
            "There are 2 directories and 0 images in '10_food_classes_10_percent'.\n",
            "There are 10 directories and 0 images in '10_food_classes_10_percent/test'.\n",
            "There are 0 directories and 250 images in '10_food_classes_10_percent/test/sushi'.\n",
            "There are 0 directories and 250 images in '10_food_classes_10_percent/test/fried_rice'.\n",
            "There are 0 directories and 250 images in '10_food_classes_10_percent/test/ramen'.\n",
            "There are 0 directories and 250 images in '10_food_classes_10_percent/test/chicken_curry'.\n",
            "There are 0 directories and 250 images in '10_food_classes_10_percent/test/grilled_salmon'.\n",
            "There are 0 directories and 250 images in '10_food_classes_10_percent/test/chicken_wings'.\n",
            "There are 0 directories and 250 images in '10_food_classes_10_percent/test/steak'.\n",
            "There are 0 directories and 250 images in '10_food_classes_10_percent/test/ice_cream'.\n",
            "There are 0 directories and 250 images in '10_food_classes_10_percent/test/hamburger'.\n",
            "There are 0 directories and 250 images in '10_food_classes_10_percent/test/pizza'.\n",
            "There are 10 directories and 0 images in '10_food_classes_10_percent/train'.\n",
            "There are 0 directories and 75 images in '10_food_classes_10_percent/train/sushi'.\n",
            "There are 0 directories and 75 images in '10_food_classes_10_percent/train/fried_rice'.\n",
            "There are 0 directories and 75 images in '10_food_classes_10_percent/train/ramen'.\n",
            "There are 0 directories and 75 images in '10_food_classes_10_percent/train/chicken_curry'.\n",
            "There are 0 directories and 75 images in '10_food_classes_10_percent/train/grilled_salmon'.\n",
            "There are 0 directories and 75 images in '10_food_classes_10_percent/train/chicken_wings'.\n",
            "There are 0 directories and 75 images in '10_food_classes_10_percent/train/steak'.\n",
            "There are 0 directories and 75 images in '10_food_classes_10_percent/train/ice_cream'.\n",
            "There are 0 directories and 75 images in '10_food_classes_10_percent/train/hamburger'.\n",
            "There are 0 directories and 75 images in '10_food_classes_10_percent/train/pizza'.\n"
          ]
        }
      ]
    },
    {
      "cell_type": "markdown",
      "source": [
        "## Create data loaders (preparing the data) \n",
        "\n",
        "We'll use the `ImageDataGenerator` class to load in our imahes in batches"
      ],
      "metadata": {
        "id": "9MBTJnaZuKzc"
      }
    },
    {
      "cell_type": "code",
      "source": [
        "# Setup data input \n",
        "\n",
        "from tensorflow.keras.preprocessing.image import ImageDataGenerator\n",
        "\n",
        "IMAGE_SHAPE = (224,224)\n",
        "BATCH_SIZE = 32\n",
        "# in deep learning examples , capital variables generally is hyper paramaters which is used somewherer in our code \n",
        "\n",
        "train_dir = '/content/10_food_classes_10_percent/train/'\n",
        "test_dir = '/content/10_food_classes_10_percent/test/'\n",
        "\n",
        "train_datagen = ImageDataGenerator(rescale = 1/255)\n",
        "test_datagen = ImageDataGenerator(rescale = 1/255)\n",
        "\n",
        "print('Training images:')\n",
        "train_data_10_percent = train_datagen.flow_from_directory(train_dir,\n",
        "                                                          target_size = IMAGE_SHAPE,\n",
        "                                                          batch_size = BATCH_SIZE,\n",
        "                                                          class_mode = 'categorical')\n",
        "\n",
        "print('Testing images:')\n",
        "test_data = test_datagen.flow_from_directory(test_dir,\n",
        "                                             target_size = IMAGE_SHAPE,\n",
        "                                             batch_size = BATCH_SIZE,\n",
        "                                             class_mode = 'categorical')\n",
        "\n"
      ],
      "metadata": {
        "colab": {
          "base_uri": "https://localhost:8080/"
        },
        "id": "ak2gI0mKy9CR",
        "outputId": "193ae506-ea05-4585-de59-e55b269f3d2e"
      },
      "execution_count": null,
      "outputs": [
        {
          "output_type": "stream",
          "name": "stdout",
          "text": [
            "Training images:\n",
            "Found 750 images belonging to 10 classes.\n",
            "Testing images:\n",
            "Found 2500 images belonging to 10 classes.\n"
          ]
        }
      ]
    },
    {
      "cell_type": "markdown",
      "source": [
        "## Setting up callbacks (Things to run whilst our model trains)\n",
        "\n",
        "callbacks are extra functionality you can add to your model to be performed during or after training. Some of the most callbacks : \n",
        "\n",
        "* Tracking experiments with the `TensorBoard` callback \n",
        "* Model checkpoint with the `ModelCheckpoint` callback\n",
        "* Stopping a model from training (before it trains too long and overfit ) with the `EarlyStopping` callabck\n"
      ],
      "metadata": {
        "id": "SqKVr_Pw0DNt"
      }
    },
    {
      "cell_type": "code",
      "source": [
        "# Create a TensorBoard callback ( functionized because we need to create a anew one for each model)\n",
        "import datetime\n",
        "\n",
        "def create_tensorboard_callback(dir_name , experiment_name):\n",
        "  log_dir = dir_name + \"/\" + experiment_name + \"/\" + datetime.datetime.now().strftime(\"%Y%m%d - %H%M%S\")\n",
        "  tensorboard_callback = tf.keras.callbacks.TensorBoard(log_dir = log_dir)\n",
        "  print(f'Saving TnsorBoard log file to : {log_dir}')\n",
        "  return tensorboard_callback"
      ],
      "metadata": {
        "id": "Vo-fNEB-3H09"
      },
      "execution_count": null,
      "outputs": []
    },
    {
      "cell_type": "markdown",
      "source": [
        "## Creating models using TensorFlow Hub\n",
        "\n",
        "In the past we've used tensorflow to create our own models layer by layer from scratch.\n",
        "\n",
        "Now we're going to do a similar process, except the majority of our model's layers are going to come from TensorFlow Hub. We can access pretrained models on [TensorFlow Hub](https://https://tfhub.dev/)\n",
        "\n",
        "Browsing the tensorflow hub page and sorting for image classification, we found the following feature vector model link:\n",
        "https://tfhub.dev/tensorflow/efficientnet/b0/feature-vector/1"
      ],
      "metadata": {
        "id": "74W6zovU4aec"
      }
    },
    {
      "cell_type": "code",
      "source": [
        "# Lets compair the following two models \n",
        " \n",
        "efficientnet_url = 'https://tfhub.dev/tensorflow/efficientnet/b0/feature-vector/1'\n",
        "\n",
        "resnet_url = 'https://tfhub.dev/google/imagenet/resnet_v2_50/feature_vector/5'"
      ],
      "metadata": {
        "id": "1mWPiG0W4zdB"
      },
      "execution_count": null,
      "outputs": []
    },
    {
      "cell_type": "code",
      "source": [
        " # Import dependencies \n",
        "\n",
        " import tensorflow as tf \n",
        " import tensorflow_hub as hub \n",
        " from tensorflow.keras import layers"
      ],
      "metadata": {
        "id": "71VLuVCZ8In5"
      },
      "execution_count": null,
      "outputs": []
    },
    {
      "cell_type": "code",
      "source": [
        "# demo \n",
        "IMAGE_SHAPE , IMAGE_SHAPE + (3,)"
      ],
      "metadata": {
        "colab": {
          "base_uri": "https://localhost:8080/"
        },
        "id": "qv3QrKk29x3u",
        "outputId": "892f6a24-6929-4770-f49e-de7943c1d5d6"
      },
      "execution_count": null,
      "outputs": [
        {
          "output_type": "execute_result",
          "data": {
            "text/plain": [
              "((224, 224), (224, 224, 3))"
            ]
          },
          "metadata": {},
          "execution_count": 17
        }
      ]
    },
    {
      "cell_type": "code",
      "source": [
        "# Lets make a create model function to create a model from url \n",
        "\n",
        "def create_model(model_url , num_classes = 10):\n",
        "  ''' \n",
        "  Takes a tensorflow hub url and creates a keras sequential model with it.\n",
        "\n",
        "  Args:\n",
        "    model_ul(str) : a tensorflow hub feature extraction url.\n",
        "    numclasses (int): number of output neurons in the output layers,\n",
        "                      should be equal to number of target classes, default 10.\n",
        "\n",
        "  Returns:\n",
        "    An uncompiled keras sequential model with model_url as feature extractor layers and\n",
        "    dense output layer with num_classes output neurons\n",
        "  '''\n",
        "  # Download the pretrained model and save it as keras layer's\n",
        "  feature_extractor_layers = hub.KerasLayer(model_url,\n",
        "                                            trainable = False,\n",
        "                                            name = 'feature_extraction_layer',\n",
        "                                            input_shape = IMAGE_SHAPE + (3,)) # freeze already learned patterns\n",
        "  # create our own model\n",
        "  model = tf.keras.Sequential([\n",
        "                               feature_extractor_layers,\n",
        "                               layers.Dense(num_classes,activation='softmax',name = 'output_layer')\n",
        "  ])\n",
        "\n",
        "  return model"
      ],
      "metadata": {
        "id": "eGKxZplq8b9C"
      },
      "execution_count": null,
      "outputs": []
    },
    {
      "cell_type": "markdown",
      "source": [
        "### Createing ResNet TensorFlow Hub Feature Exrtractor Model"
      ],
      "metadata": {
        "id": "4d25mXBD-WBk"
      }
    },
    {
      "cell_type": "code",
      "source": [
        "# demo\n",
        "train_data_10_percent.num_classes"
      ],
      "metadata": {
        "colab": {
          "base_uri": "https://localhost:8080/"
        },
        "id": "LhtvGBN2-m6w",
        "outputId": "d823bfd0-25c0-4191-9cc8-c8f16ea0bcc4"
      },
      "execution_count": null,
      "outputs": [
        {
          "output_type": "execute_result",
          "data": {
            "text/plain": [
              "10"
            ]
          },
          "metadata": {},
          "execution_count": 24
        }
      ]
    },
    {
      "cell_type": "code",
      "source": [
        "# Create resnet model \n",
        "resnet_model = create_model(resnet_url,\n",
        "                             num_classes = train_data_10_percent.num_classes)"
      ],
      "metadata": {
        "id": "BbWRwhnl94Qt"
      },
      "execution_count": null,
      "outputs": []
    },
    {
      "cell_type": "code",
      "source": [
        "resnet_model.summary()"
      ],
      "metadata": {
        "colab": {
          "base_uri": "https://localhost:8080/"
        },
        "id": "0BJ6hiOh-orv",
        "outputId": "da095bba-7c44-4bf8-daff-0d56822b767a"
      },
      "execution_count": null,
      "outputs": [
        {
          "output_type": "stream",
          "name": "stdout",
          "text": [
            "Model: \"sequential\"\n",
            "_________________________________________________________________\n",
            " Layer (type)                Output Shape              Param #   \n",
            "=================================================================\n",
            " feature_extraction_layer (K  (None, 2048)             23564800  \n",
            " erasLayer)                                                      \n",
            "                                                                 \n",
            " output_layer (Dense)        (None, 10)                20490     \n",
            "                                                                 \n",
            "=================================================================\n",
            "Total params: 23,585,290\n",
            "Trainable params: 20,490\n",
            "Non-trainable params: 23,564,800\n",
            "_________________________________________________________________\n"
          ]
        }
      ]
    },
    {
      "cell_type": "code",
      "source": [
        "# Compile our resnet model\n",
        "resnet_model.compile(loss = 'categorical_crossentropy',\n",
        "                     optimizer = tf.keras.optimizers.Adam(),\n",
        "                     metrics=['accuracy'])"
      ],
      "metadata": {
        "id": "3WBoKeBn--X4"
      },
      "execution_count": null,
      "outputs": []
    },
    {
      "cell_type": "code",
      "source": [
        "# Fit the resnet model to 10 percent of 10 classes\n",
        "resnet_history = resnet_model.fit(train_data_10_percent,\n",
        "                                  epochs = 5,\n",
        "                                  steps_per_epoch = len(train_data_10_percent),\n",
        "                                  validation_data = test_data,\n",
        "                                  validation_steps = len(test_data),\n",
        "                                  callbacks = [create_tensorboard_callback(dir_name='tensorflow_hub',\n",
        "                                                                           experiment_name='resnet50V2')])"
      ],
      "metadata": {
        "colab": {
          "base_uri": "https://localhost:8080/"
        },
        "id": "6T4bL0n3_RuV",
        "outputId": "0d5dc3f4-0a8f-4bf7-d6e7-53e099af621b"
      },
      "execution_count": null,
      "outputs": [
        {
          "output_type": "stream",
          "name": "stdout",
          "text": [
            "Saving TnsorBoard log file to : tensorflow_hub/resnet50V2/20220123 - 173449\n",
            "Epoch 1/5\n",
            "24/24 [==============================] - 40s 1s/step - loss: 2.0101 - accuracy: 0.3453 - val_loss: 1.2288 - val_accuracy: 0.6020\n",
            "Epoch 2/5\n",
            "24/24 [==============================] - 22s 946ms/step - loss: 0.9411 - accuracy: 0.7200 - val_loss: 0.8781 - val_accuracy: 0.7128\n",
            "Epoch 3/5\n",
            "24/24 [==============================] - 22s 922ms/step - loss: 0.6361 - accuracy: 0.8240 - val_loss: 0.7538 - val_accuracy: 0.7588\n",
            "Epoch 4/5\n",
            "24/24 [==============================] - 22s 922ms/step - loss: 0.4895 - accuracy: 0.8747 - val_loss: 0.6991 - val_accuracy: 0.7736\n",
            "Epoch 5/5\n",
            "24/24 [==============================] - 21s 913ms/step - loss: 0.3973 - accuracy: 0.9000 - val_loss: 0.6729 - val_accuracy: 0.7768\n"
          ]
        }
      ]
    },
    {
      "cell_type": "markdown",
      "source": [
        "Wow!\n",
        "\n",
        "That. Is. Incredible. Out transfer learning feature extractor model out performed ALL OF THE PREVIOUS models we built by hand.. substantially and i a quicker trainer time AND with only 10% of the training example"
      ],
      "metadata": {
        "id": "0BgsRD7cBYT5"
      }
    },
    {
      "cell_type": "code",
      "source": [
        "# Lets create a function to plot our loss curves \n",
        "# tidbit : you could put a function like this into a script called \" helper.py\" and import it when you need it....\n",
        "import matplotlib.pyplot as plt \n",
        "\n",
        "# PLot the validation and training curves\n",
        "def plot_loss_curves(history):\n",
        "  \"\"\"\n",
        "  Returns seperate loss curves for training and validation metrics\n",
        "  Args:\n",
        "    history : tensorflow history object\n",
        "  Returns:\n",
        "    Plots of training/ validation loss and accuracy metrics.\n",
        "  \"\"\"\n",
        "  loss = history.history['loss']\n",
        "  val_loss = history.history['val_loss']\n",
        "\n",
        "  accuracy = history.history['accuracy']\n",
        "  val_accuracy = history.history['val_accuracy']\n",
        "\n",
        "  epochs = range(len(history.history['loss']))\n",
        "\n",
        "  # Plot loss \n",
        "  plt.plot(epochs,loss,label = 'training_loss')\n",
        "  plt.plot(epochs,val_loss,label ='val_loss')\n",
        "  plt.title('Loss')\n",
        "  plt.xlabel('Epochs')\n",
        "  plt.legend()\n",
        "\n",
        "  # Plot acuracy\n",
        "  plt.figure()\n",
        "  plt.plot(epochs,accuracy,label = 'training_accuracy')\n",
        "  plt.plot(epochs,val_accuracy,label='val_accuracy')\n",
        "  plt.title('Accuracy')\n",
        "  plt.xlabel('Epochs')\n",
        "  plt.legend()\n"
      ],
      "metadata": {
        "id": "uXY3a6frALiq"
      },
      "execution_count": null,
      "outputs": []
    },
    {
      "cell_type": "code",
      "source": [
        "plot_loss_curves(resnet_history)"
      ],
      "metadata": {
        "colab": {
          "base_uri": "https://localhost:8080/",
          "height": 573
        },
        "id": "p0tAVLn6HCI7",
        "outputId": "ff08ac80-82cc-4c5c-b622-c720e624533f"
      },
      "execution_count": null,
      "outputs": [
        {
          "output_type": "display_data",
          "data": {
            "image/png": "[encoded data removed]",
            "text/plain": [
              "<Figure size 432x288 with 1 Axes>"
            ]
          },
          "metadata": {
            "needs_background": "light"
          }
        },
        {
          "output_type": "display_data",
          "data": {
            "image/png": "[encoded data removed]",
            "text/plain": [
              "<Figure size 432x288 with 1 Axes>"
            ]
          },
          "metadata": {
            "needs_background": "light"
          }
        }
      ]
    },
    {
      "cell_type": "markdown",
      "source": [
        "### Creating and tesing EfficientNetB0 Tensorflow Hub Feature Extraction Model"
      ],
      "metadata": {
        "id": "52v7v2_2HYTD"
      }
    },
    {
      "cell_type": "code",
      "source": [
        "# Create efficientnet B0 feature extractor model\n",
        "efficientnet_model = create_model(model_url = efficientnet_url,\n",
        "                                  num_classes= train_data_10_percent.num_classes)\n",
        "\n",
        "# Compile the model\n",
        "efficientnet_model.compile(loss = 'categorical_crossentropy',\n",
        "                           optimizer= tf.keras.optimizers.Adam(),\n",
        "                           metrics=['accuracy'])\n",
        "\n",
        "#Fit the model\n",
        "efficientnet_history = efficientnet_model.fit(train_data_10_percent,\n",
        "                                              epochs=5,\n",
        "                                              steps_per_epoch=len(train_data_10_percent),\n",
        "                                              validation_data = test_data,\n",
        "                                              validation_steps = len(test_data),\n",
        "                                              callbacks = [create_tensorboard_callback(dir_name = 'tensorflow_hub',\n",
        "                                                                                       experiment_name='efficientnetb0')])"
      ],
      "metadata": {
        "colab": {
          "base_uri": "https://localhost:8080/"
        },
        "id": "f8nQ5lkNHX4k",
        "outputId": "5ed7dcaa-c603-405d-a59a-faa45b5b90c0"
      },
      "execution_count": null,
      "outputs": [
        {
          "output_type": "stream",
          "name": "stdout",
          "text": [
            "Saving TnsorBoard log file to : tensorflow_hub/efficientnetb0/20220123 - 181728\n",
            "Epoch 1/5\n",
            "24/24 [==============================] - 33s 898ms/step - loss: 1.9227 - accuracy: 0.3960 - val_loss: 1.3456 - val_accuracy: 0.7132\n",
            "Epoch 2/5\n",
            "24/24 [==============================] - 19s 814ms/step - loss: 1.0897 - accuracy: 0.7653 - val_loss: 0.8963 - val_accuracy: 0.8108\n",
            "Epoch 3/5\n",
            "24/24 [==============================] - 19s 818ms/step - loss: 0.7754 - accuracy: 0.8333 - val_loss: 0.7170 - val_accuracy: 0.8328\n",
            "Epoch 4/5\n",
            "24/24 [==============================] - 19s 819ms/step - loss: 0.6214 - accuracy: 0.8707 - val_loss: 0.6252 - val_accuracy: 0.8520\n",
            "Epoch 5/5\n",
            "24/24 [==============================] - 25s 1s/step - loss: 0.5239 - accuracy: 0.8947 - val_loss: 0.5666 - val_accuracy: 0.8600\n"
          ]
        }
      ]
    },
    {
      "cell_type": "code",
      "source": [
        "# loss curve for efficientnetb0 model\n",
        "plot_loss_curves(efficientnet_history)"
      ],
      "metadata": {
        "colab": {
          "base_uri": "https://localhost:8080/",
          "height": 573
        },
        "id": "eOS3hJz-HFVj",
        "outputId": "f1616573-a780-403d-d13e-a45a96f65736"
      },
      "execution_count": null,
      "outputs": [
        {
          "output_type": "display_data",
          "data": {
            "image/png": "[encoded data removed]",
            "text/plain": [
              "<Figure size 432x288 with 1 Axes>"
            ]
          },
          "metadata": {
            "needs_background": "light"
          }
        },
        {
          "output_type": "display_data",
          "data": {
            "image/png": "[encoded data removed]",
            "text/plain": [
              "<Figure size 432x288 with 1 Axes>"
            ]
          },
          "metadata": {
            "needs_background": "light"
          }
        }
      ]
    },
    {
      "cell_type": "code",
      "source": [
        "efficientnet_model.summary()"
      ],
      "metadata": {
        "colab": {
          "base_uri": "https://localhost:8080/"
        },
        "id": "-jn6Q1VRKnQ5",
        "outputId": "c51888ff-b77c-4dd0-c45d-99b23b14a5ce"
      },
      "execution_count": null,
      "outputs": [
        {
          "output_type": "stream",
          "name": "stdout",
          "text": [
            "Model: \"sequential_2\"\n",
            "_________________________________________________________________\n",
            " Layer (type)                Output Shape              Param #   \n",
            "=================================================================\n",
            " feature_extraction_layer (K  (None, 1280)             4049564   \n",
            " erasLayer)                                                      \n",
            "                                                                 \n",
            " output_layer (Dense)        (None, 10)                12810     \n",
            "                                                                 \n",
            "=================================================================\n",
            "Total params: 4,062,374\n",
            "Trainable params: 12,810\n",
            "Non-trainable params: 4,049,564\n",
            "_________________________________________________________________\n"
          ]
        }
      ]
    },
    {
      "cell_type": "markdown",
      "source": [
        "## Different types of transfer learning\n",
        "\n",
        "* `As is` **transfer learning** - using an existing model with no changes what so ever (e.g. using ImageNet model on 1000 ImageNet classes , none of your own).\n",
        "* `Feature Extraction` **transfer learning** - use the prelearned patterns of an existing model (e.g.EfficientNetB0 trained on ImageNet) and adjust the output layer for your own problem (e.g. 1000 classes og ImageNet --> 10 classes of your own food data).\n",
        "* `Fine-tuning` **transfer learning** - use the prelearned patterns of an existing model and 'fine-tune' many or all of the underlying layers (inclusing new output kayers).\n"
      ],
      "metadata": {
        "id": "g4-56GwpNBjr"
      }
    },
    {
      "cell_type": "markdown",
      "source": [
        "## Comparing our models result using TensorBoard\n",
        "\n",
        "> **Note**- When you upload things to tensorboard.dev, your expriment are public. So if you're running private experiments( things you don't want others to see) do not upload them to TensorBoard"
      ],
      "metadata": {
        "id": "UTEvBmePPtVq"
      }
    },
    {
      "cell_type": "code",
      "source": [
        "# Upload tensorboard dev records \n",
        "!tensorboard dev upload --logdir ./tensorflow_hub/ \\\n",
        " --name 'EfficientNetB0 cs Resnet50V2'\\\n",
        " --description \"Comparing two different TF hub feature exraction model architectures using 10% of the training data\" \\\n",
        " --one_shot"
      ],
      "metadata": {
        "id": "y8XgnUCWMnYE"
      },
      "execution_count": null,
      "outputs": []
    },
    {
      "cell_type": "markdown",
      "source": [
        "our tensorboard experiments are uploaded publically here : https://tensorboard.dev/experiment/ALQzSy8rTDiKZLEN3M1YCw/"
      ],
      "metadata": {
        "id": "GEC_WdP-TLbU"
      }
    },
    {
      "cell_type": "code",
      "source": [
        "# Check out what tensorboard experiments you have \n",
        "!tensorboard dev list"
      ],
      "metadata": {
        "colab": {
          "base_uri": "https://localhost:8080/"
        },
        "id": "6d2CH8DfTtuL",
        "outputId": "ac560b9a-08d2-4a16-8ac2-797441701685"
      },
      "execution_count": null,
      "outputs": [
        {
          "output_type": "stream",
          "name": "stdout",
          "text": [
            "https://tensorboard.dev/experiment/ALQzSy8rTDiKZLEN3M1YCw/\n",
            "\tName                 EfficientNetB0 cs Resnet50V2\n",
            "\tDescription          Comparing two different TF hub feature exraction model architectures using 10% of the training data\n",
            "\tId                   ALQzSy8rTDiKZLEN3M1YCw\n",
            "\tCreated              2022-01-23 18:58:35 (4 minutes ago)\n",
            "\tUpdated              2022-01-23 18:58:38 (4 minutes ago)\n",
            "\tRuns                 4\n",
            "\tTags                 5\n",
            "\tScalars              60\n",
            "\tTensor bytes         0\n",
            "\tBinary object bytes  5796311\n",
            "Total: 1 experiment(s)\n"
          ]
        }
      ]
    },
    {
      "cell_type": "code",
      "source": [
        "# delete an experiment\n",
        "# !tensorboard dev delete -- experiment_id ALQzSy8rTDiKZLEN3M1YCw"
      ],
      "metadata": {
        "id": "EYDt0jISUdUe"
      },
      "execution_count": null,
      "outputs": []
    },
    {
      "cell_type": "code",
      "source": [
        ""
      ],
      "metadata": {
        "id": "Te706ff_Ut3F"
      },
      "execution_count": null,
      "outputs": []
    }
  ]
}